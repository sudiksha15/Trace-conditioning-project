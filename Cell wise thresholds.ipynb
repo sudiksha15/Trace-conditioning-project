{
 "cells": [
  {
   "cell_type": "code",
   "execution_count": 68,
   "metadata": {},
   "outputs": [],
   "source": [
    "import numpy as np\n",
    "import pandas as pd\n",
    "import matplotlib.pyplot as plt\n",
    "import matplotlib.patches as patches\n",
    "#import matplotlib.gridspec as gridspec\n",
    "from matplotlib.colors import LinearSegmentedColormap, ListedColormap\n",
    "import matplotlib.font_manager\n",
    "import random \n",
    "from matplotlib import rcParams, cm\n",
    "import scipy.stats as ss\n",
    "import h5py\n",
    "import glob\n",
    "import seaborn as sns\n",
    "import time\n",
    "import os\n",
    "import itertools\n",
    "import timeit\n",
    "import networkx as nx\n",
    "import collections \n",
    "import scipy.io\n",
    "from matplotlib import gridspec \n",
    "#For ROI Maps\n",
    "from scipy.io import loadmat\n",
    "from skimage import measure\n",
    "from scipy import ndimage\n",
    "\n",
    "#For Fitting Baselines\n",
    "from scipy.optimize import curve_fit\n",
    "\n",
    "#For Clustering\n",
    "from sklearn.cluster.bicluster import SpectralBiclustering"
   ]
  },
  {
   "cell_type": "code",
   "execution_count": 69,
   "metadata": {},
   "outputs": [],
   "source": [
    "%matplotlib inline"
   ]
  },
  {
   "cell_type": "code",
   "execution_count": 70,
   "metadata": {},
   "outputs": [],
   "source": [
    "#matplotlib.font_manager._rebuild()\n",
    "#Set matplotlib fonts for figures\n",
    "rcParams['font.family'] = 'Arial'"
   ]
  },
  {
   "cell_type": "markdown",
   "metadata": {},
   "source": [
    "## Last day of training/extinction "
   ]
  },
  {
   "cell_type": "code",
   "execution_count": 71,
   "metadata": {},
   "outputs": [],
   "source": [
    "def makeAliFilenames(mouse_numbers, mouse_days, mouse_sessions):\n",
    "    #Input lists of mouse numbers, days, and sessions to permute to give out directories and dictionary for filename\n",
    "    directories = []\n",
    "    filenames = {}\n",
    "    for m_num in mouse_numbers:\n",
    "        for m_day in mouse_days:\n",
    "            for m_sess in mouse_sessions:\n",
    "                if ((m_day != 2) | (m_sess != 2)): #Skip d2_s2.  Only do d5_s2\n",
    "                    mouse_dir = 'ali{}_d{}_s{}/'.format(m_num, m_day, m_sess)\n",
    "                    directories.append(mouse_dir)\n",
    "                    if m_day == 2:\n",
    "                        filenames[mouse_dir] = 'trace_kyleFinalwDoughnut_allBGs_BinaryVideo.hdf5'\n",
    "                    else:\n",
    "                        filenames[mouse_dir] = 'trace_kyleFinalwDoughnut_allBGs_matched_BinaryVideo.hdf5'\n",
    "    return directories, filenames"
   ]
  },
  {
   "cell_type": "code",
   "execution_count": 72,
   "metadata": {},
   "outputs": [],
   "source": [
    "def makeAliFilenames_modified(mouse_numbers, mouse_days, mouse_sessions):\n",
    "    #Input lists of mouse numbers, days, and sessions to permute to give out directories and dictionary for filename\n",
    "    directories = []\n",
    "    filenames = {}\n",
    "    for m_num in mouse_numbers:\n",
    "        for m_day in mouse_days:\n",
    "            for m_sess in mouse_sessions:\n",
    "                if ((m_day != 2) | (m_sess != 2)): #Skip d2_s2.  Only do d5_s2\n",
    "                    mouse_dir = 'ali{}_d{}_s{}/'.format(m_num, m_day, m_sess)\n",
    "                    directories.append(mouse_dir)\n",
    "                    filenames[mouse_dir] = 'binary_traces.h5'\n",
    "                   \n",
    "    return directories, filenames"
   ]
  },
  {
   "cell_type": "code",
   "execution_count": 73,
   "metadata": {},
   "outputs": [],
   "source": [
    "def makeRebeccaFilenames(mouse_numbers, mouse_days, mouse_sessions):\n",
    "    #Input lists of mouse numbers, days, and sessions to permute to give out directories and dictionary for filename\n",
    "    directories = []\n",
    "    filenames = {}\n",
    "    for m_num in mouse_numbers:\n",
    "        for m_day in mouse_days:\n",
    "            for m_sess in mouse_sessions:\n",
    "                mouse_dir = '{}/{}_d{}_s{}/'.format(m_num, m_num, m_day, m_sess)\n",
    "                directories.append(mouse_dir)\n",
    "                filenames[mouse_dir] = 'trace_kyleFinal_BinaryVideo.hdf5'\n",
    "    return directories, filenames"
   ]
  },
  {
   "cell_type": "code",
   "execution_count": 74,
   "metadata": {},
   "outputs": [],
   "source": [
    "def makeRebeccaFilenames_modified(mouse_numbers, mouse_days, mouse_sessions):\n",
    "    #Input lists of mouse numbers, days, and sessions to permute to give out directories and dictionary for filename\n",
    "    directories = []\n",
    "    filenames = {}\n",
    "    for m_num in mouse_numbers:\n",
    "        for m_day in mouse_days:\n",
    "            for m_sess in mouse_sessions:\n",
    "                mouse_dir = '{}/{}_d{}_s{}/'.format(m_num, m_num, m_day, m_sess)\n",
    "                directories.append(mouse_dir)\n",
    "                filenames[mouse_dir] = 'binary_traces.h5'\n",
    "    return directories, filenames"
   ]
  },
  {
   "cell_type": "code",
   "execution_count": 75,
   "metadata": {},
   "outputs": [],
   "source": [
    "def combineFilenames(base, dirs, fnDict):\n",
    "    #Combine Filenames into list for multiple directories with a common base.  fnDict is a dictionary of the filename for each directory\n",
    "    outFiles = []\n",
    "    for d in dirs:\n",
    "        outFiles.append(os.path.join(base+d+fnDict[d]))\n",
    "    return outFiles"
   ]
  },
  {
   "cell_type": "code",
   "execution_count": 76,
   "metadata": {},
   "outputs": [
    {
     "name": "stdout",
     "output_type": "stream",
     "text": [
      "['/mnt/eng_handata/Kyle_Hansen/AliEyeBlink/ali24_d2_s1/trace_kyleFinalwDoughnut_allBGs_BinaryVideo.hdf5', '/mnt/eng_handata/Kyle_Hansen/AliEyeBlink/ali24_d5_s1/trace_kyleFinalwDoughnut_allBGs_matched_BinaryVideo.hdf5', '/mnt/eng_handata/Kyle_Hansen/AliEyeBlink/ali24_d5_s2/trace_kyleFinalwDoughnut_allBGs_matched_BinaryVideo.hdf5', '/mnt/eng_handata/Kyle_Hansen/AliEyeBlink/ali25_d2_s1/trace_kyleFinalwDoughnut_allBGs_BinaryVideo.hdf5', '/mnt/eng_handata/Kyle_Hansen/AliEyeBlink/ali25_d5_s1/trace_kyleFinalwDoughnut_allBGs_matched_BinaryVideo.hdf5', '/mnt/eng_handata/Kyle_Hansen/AliEyeBlink/ali25_d5_s2/trace_kyleFinalwDoughnut_allBGs_matched_BinaryVideo.hdf5', '/mnt/eng_handata/Kyle_Hansen/AliEyeBlink/ali26_d2_s1/trace_kyleFinalwDoughnut_allBGs_BinaryVideo.hdf5', '/mnt/eng_handata/Kyle_Hansen/AliEyeBlink/ali26_d5_s1/trace_kyleFinalwDoughnut_allBGs_matched_BinaryVideo.hdf5', '/mnt/eng_handata/Kyle_Hansen/AliEyeBlink/ali26_d5_s2/trace_kyleFinalwDoughnut_allBGs_matched_BinaryVideo.hdf5', '/mnt/eng_handata/eng_research_handata2/Kyle_Hansen/TonePuff-Rebecca/2982/2982_d1_s1/trace_kyleFinal_BinaryVideo.hdf5', '/mnt/eng_handata/eng_research_handata2/Kyle_Hansen/TonePuff-Rebecca/2982/2982_d9_s1/trace_kyleFinal_BinaryVideo.hdf5', '/mnt/eng_handata/eng_research_handata2/Kyle_Hansen/TonePuff-Rebecca/4540/4540_d1_s1/trace_kyleFinal_BinaryVideo.hdf5', '/mnt/eng_handata/eng_research_handata2/Kyle_Hansen/TonePuff-Rebecca/4540/4540_d9_s1/trace_kyleFinal_BinaryVideo.hdf5', '/mnt/eng_handata/eng_research_handata2/Kyle_Hansen/TonePuff_Rebecca2/2712/2712_d1_s1/trace_kyleFinal_BinaryVideo.hdf5', '/mnt/eng_handata/eng_research_handata2/Kyle_Hansen/TonePuff_Rebecca2/2712/2712_d5_s1/trace_kyleFinal_BinaryVideo.hdf5', '/mnt/eng_handata/eng_research_handata2/Kyle_Hansen/TonePuff_Rebecca2/2713/2713_d1_s1/trace_kyleFinal_BinaryVideo.hdf5', '/mnt/eng_handata/eng_research_handata2/Kyle_Hansen/TonePuff_Rebecca2/2713/2713_d5_s1/trace_kyleFinal_BinaryVideo.hdf5', '/mnt/eng_handata/eng_research_handata2/Kyle_Hansen/TonePuff_Rebecca2/2714/2714_d1_s1/trace_kyleFinal_BinaryVideo.hdf5', '/mnt/eng_handata/eng_research_handata2/Kyle_Hansen/TonePuff_Rebecca2/2714/2714_d5_s1/trace_kyleFinal_BinaryVideo.hdf5', '/mnt/eng_handata/eng_research_handata2/Kyle_Hansen/TonePuff_Rebecca2/8089/8089_d1_s1/trace_kyleFinal_BinaryVideo.hdf5', '/mnt/eng_handata/eng_research_handata2/Kyle_Hansen/TonePuff_Rebecca2/8089/8089_d5_s1/trace_kyleFinal_BinaryVideo.hdf5']\n"
     ]
    }
   ],
   "source": [
    "#Initialize Input Values\n",
    "#Ali Mice\n",
    "aliBase = '/mnt/eng_handata/Kyle_Hansen/AliEyeBlink/'\n",
    "aliMice, aliDays, aliSessions = ([24, 25, 26], [2,5], [1, 2])\n",
    "aliFolders, aliFilenames = makeAliFilenames(aliMice, aliDays, aliSessions)\n",
    "aliFiles = combineFilenames(aliBase, aliFolders, aliFilenames)\n",
    "#Rebecca Mice\n",
    "rBase = '/mnt/eng_handata/eng_research_handata2/Kyle_Hansen/TonePuff-Rebecca/'\n",
    "\n",
    "rMice, rDays, rSessions = ([2982,4540], [1,9], [1])\n",
    "rFolders, rFilenames = makeRebeccaFilenames(rMice, rDays, rSessions)\n",
    "rFiles = combineFilenames(rBase, rFolders, rFilenames)\n",
    "#New Rebecca Mice\n",
    "nrBase = '/mnt/eng_handata/eng_research_handata2/Kyle_Hansen/TonePuff_Rebecca2/'\n",
    "nrMice, nrDays, nrSessions = ([2712, 2713,2714,8089], [1, 5], [1]) #Also have 2 as full imaging session.  Drop 2714 because of data quality\n",
    "nrFolders, nrFilenames = makeRebeccaFilenames(nrMice, nrDays, nrSessions)\n",
    "nrFiles = combineFilenames(nrBase, nrFolders, nrFilenames)\n",
    "#Combine All Filenames into one List\n",
    "allFiles = aliFiles + rFiles + nrFiles\n",
    "print(allFiles)"
   ]
  },
  {
   "cell_type": "markdown",
   "metadata": {},
   "source": [
    "### Load behavior data "
   ]
  },
  {
   "cell_type": "code",
   "execution_count": 10,
   "metadata": {},
   "outputs": [],
   "source": [
    "def loadFiles(allFiles, fieldName, whichData=None, multiIndex=False, fixedSize=None):\n",
    "    #Get File Inputs\n",
    "    firstf = allFiles[0]\n",
    "    firstdir = firstf.split('/')[-2]\n",
    "    f = h5py.File(firstf, 'r')\n",
    "    if multiIndex: #Adjust indexing for first DataFrame if using a multi-index\n",
    "        first_array = np.array(f[fieldName]).T\n",
    "        index_iterables = [[firstdir], range(first_array.shape[1])]\n",
    "        index = pd.MultiIndex.from_product(index_iterables, names=['mouse','cell_num'])\n",
    "        df = pd.DataFrame(data=first_array, columns=index)\n",
    "    else:\n",
    "        if fixedSize == None:\n",
    "            df = pd.DataFrame(data=np.array(f[fieldName]).T, columns=[firstdir])\n",
    "        else:\n",
    "            df = pd.DataFrame(data=np.array(f[fieldName]).T[:(fixedSize)], columns=[firstdir])\n",
    "    \n",
    "    df.index.name='Time'\n",
    "    df_size = df.shape[0] #Determine Size of DataFrame\n",
    "    for f in allFiles[1:]: #Loop through remaining files and add to DataFrame\n",
    "        fdir = f.split('/')[-2] #Current Filename/Dir\n",
    "        f = h5py.File(f, 'r')\n",
    "        if multiIndex: #Iteratively add multiIndexed DataFrames\n",
    "            data_arr = np.array(f[fieldName]).T\n",
    "            index_iterables = [[fdir], range(data_arr.shape[1])]\n",
    "            index = pd.MultiIndex.from_product(index_iterables, names=['mouse', 'cell_num'])\n",
    "            df = df.join(pd.DataFrame(data=data_arr, columns=index))\n",
    "        else:\n",
    "            #print(f)\n",
    "            #print(df.shape)\n",
    "            #print(df_size)\n",
    "            #print(np.array(f[fieldName]).T.shape)\n",
    "            try: #Standard Loading\n",
    "                df.loc[:,fdir] = np.array(f[fieldName]).T \n",
    "            except ValueError: #Exception cases where behavior was different size from other behavior sessions\n",
    "                if (whichData == 'Ali'): #Ali26_d5_s2 and Ali25_d5_s2 are one frame short\n",
    "                    df.loc[:,fdir] = np.insert(np.array(f[fieldName]).T, 0, np.array(f[fieldName]).T.mean())\n",
    "                elif np.array(f[fieldName]).T.shape[0]<df_size:\n",
    "                    temp = np.array(f[fieldName]).T\n",
    "                    df.loc[:,fdir] = np.append(temp, temp.mean().reshape(1,-1), axis=0)\n",
    "                elif (whichData == 'Rebecca'): #2982_d9_s1 is one frame longer\n",
    "                    new_size = np.array(f[fieldName]).shape[1]\n",
    "                    diff_size = abs(new_size-df_size)\n",
    "                    df.loc[:,fdir] = np.array(f[fieldName]).T[:-diff_size]\n",
    "    drop_index = df.index[df.isna().any(axis='columns')]\n",
    "    df = df.drop(drop_index)\n",
    "    return df"
   ]
  },
  {
   "cell_type": "code",
   "execution_count": 11,
   "metadata": {},
   "outputs": [],
   "source": [
    "aliSounds = loadFiles(aliFiles, 'binSounds', whichData='Ali')\n",
    "rSounds = loadFiles(rFiles, 'binSounds', whichData='Rebecca')\n",
    "nrSounds = loadFiles(nrFiles, 'binSounds', whichData='Rebecca', fixedSize=39500)\n",
    "sound_traces = pd.concat([aliSounds,rSounds,nrSounds], axis=1)"
   ]
  },
  {
   "cell_type": "code",
   "execution_count": 12,
   "metadata": {},
   "outputs": [],
   "source": [
    "aliPuffs = loadFiles(aliFiles, 'binPuffs', whichData='Ali')\n",
    "rPuffs = loadFiles(rFiles, 'binPuffs', whichData='Rebecca')\n",
    "nrPuffs = loadFiles(nrFiles, 'binPuffs', whichData='Rebecca', fixedSize=39500)\n",
    "puff_traces = pd.concat([aliPuffs,rPuffs,nrPuffs], axis=1)"
   ]
  },
  {
   "cell_type": "code",
   "execution_count": 13,
   "metadata": {},
   "outputs": [],
   "source": [
    "aliTrials = loadFiles(aliFiles, 'binTrials', whichData='Ali')\n",
    "rTrials = loadFiles(rFiles, 'binTrials', whichData='Rebecca')\n",
    "nrTrials = loadFiles(nrFiles, 'binTrials', whichData='Rebecca', fixedSize=39500)\n",
    "trial_traces = pd.concat([aliTrials,rTrials,nrTrials], axis=1)"
   ]
  },
  {
   "cell_type": "code",
   "execution_count": 14,
   "metadata": {},
   "outputs": [],
   "source": [
    "aliEyeTraces = loadFiles(aliFiles, 'eyeTrace', whichData='Ali')\n",
    "rEyeTraces = loadFiles(rFiles, 'eyeTrace', whichData='Rebecca')\n",
    "nrEyeTraces = loadFiles(nrFiles, 'eyeTrace', whichData='Rebecca', fixedSize=39500)\n",
    "eye_traces = pd.concat([aliEyeTraces,rEyeTraces,nrEyeTraces], axis=1)"
   ]
  },
  {
   "cell_type": "markdown",
   "metadata": {},
   "source": [
    "## Function to make trial blocks"
   ]
  },
  {
   "cell_type": "code",
   "execution_count": 15,
   "metadata": {},
   "outputs": [],
   "source": [
    "def findPulses(inputTrace):\n",
    "    #Find location of onset and offset of pulses\n",
    "    #inputTrace = 1-D Numpy Array Trace of values assumed to be similar to a train of ttl pulses, where there is a clear onset and offset for each pulse.\n",
    "    #locationTrace = Pseudo-logical 1-D trace, with 1s at pulse onset, and -1s at pulse offset, and 0s everywhere else\n",
    "    \n",
    "    shiftedInput = inputTrace - inputTrace.mean() #Shift to have mean 0 and baseline below 0\n",
    "    changes = np.sign(shiftedInput) #Find where sign changes\n",
    "    locationTrace = np.zeros(inputTrace.shape); #Initialize Output\n",
    "    #locationTrace = np.zeros((behav_df.shape[0]+1,behav_df.shape[1]))\n",
    "    diffArray = np.diff(changes)\n",
    "    locationTrace[np.insert(diffArray==2,0,0)] = 1 #Set onsets to 1\n",
    "    locationTrace[np.insert(diffArray==-2,0,0)] = -1 #Set offsets to -1\n",
    "    return locationTrace"
   ]
  },
  {
   "cell_type": "code",
   "execution_count": 16,
   "metadata": {},
   "outputs": [],
   "source": [
    "def makeTraceTrialBlocks(trace_df, behav_df):\n",
    "    #Make Blocks of Trials for Traces (with MultiIndex), and return df with those trial blocks removed\n",
    "    #Pre-defined Values\n",
    "    tot_block_time = 201 #201 timepoints is about 10 seconds\n",
    "    before_sound_time = 40 #40 timepoints before the puff 2 seconds\n",
    "    after_sound_time = tot_block_time - before_sound_time - 1 #Time after sound.  Subtract 1 as index between before sound and after sound is included as \"spot\"\n",
    "    #Shorten behav_df to length of trace_df\n",
    "    behav_length = behav_df.shape[0]\n",
    "    trace_length = trace_df.shape[0]\n",
    "    if behav_length > trace_length:\n",
    "        behav_df = behav_df.loc[:(trace_length-1),:]\n",
    "    #Initialize Lists\n",
    "    trace_blocks=[]\n",
    "    trace_noBlocks=[]\n",
    "    for mouse, cell_df in trace_df.groupby(level='mouse', axis=1):\n",
    "        print(mouse) #Output Tracking\n",
    "        #Shape Behavior Data\n",
    "        soundPulses = findPulses(behav_df.loc[:,mouse])\n",
    "        sound_on_inds = behav_df.index[soundPulses == 1]\n",
    "        if sound_on_inds[-1]+after_sound_time > trace_df.loc[:,mouse].shape[0]: #Get rid of last pulse on at end of recording\n",
    "            sound_on_inds = sound_on_inds[:-1]\n",
    "        #Setup Numpy Arrays for Faster Loops\n",
    "        cur_block = np.zeros((tot_block_time, sound_on_inds.shape[0], cell_df.shape[1]))\n",
    "        cur_noBlock = cell_df.copy()\n",
    "        cur_blockDrop = []\n",
    "        for trial_idx, spot in enumerate(sound_on_inds):\n",
    "            cur_block[:, trial_idx, :] = cell_df.loc[(spot-before_sound_time):(spot+after_sound_time), :].values\n",
    "            cur_blockDrop.append(range((spot-before_sound_time), (spot+after_sound_time)))\n",
    "        #Drop Indexes from Current Values and Save Dataframe\n",
    "        flat_blockDrop = [value for sublist in cur_blockDrop for value in sublist]\n",
    "        trace_noBlocks.append(cur_noBlock.drop(flat_blockDrop).reset_index(drop=True))\n",
    "        #Make DataFrame for Current Cell Case\n",
    "        mIdx = pd.MultiIndex.from_product([[mouse], range(sound_on_inds.shape[0]), range(cell_df.shape[1])], names=['mouse', 'trial', 'cell_num'])\n",
    "        cur_df = pd.DataFrame(data=cur_block.reshape(tot_block_time,-1), columns=mIdx)\n",
    "        trace_blocks.append(cur_df)\n",
    "    #Convert Lists into Concatenated DataFrame\n",
    "    trace_noBlocks_df = pd.concat(trace_noBlocks, axis=1)\n",
    "    trace_blocks_df = pd.concat(trace_blocks, axis=1)\n",
    "    trace_blocks_df.index.name = 'Time'\n",
    "    return trace_blocks_df, trace_noBlocks_df"
   ]
  },
  {
   "cell_type": "markdown",
   "metadata": {},
   "source": [
    "## Loading binary traces after event detection ( event onsets as 1)"
   ]
  },
  {
   "cell_type": "code",
   "execution_count": 17,
   "metadata": {},
   "outputs": [
    {
     "name": "stdout",
     "output_type": "stream",
     "text": [
      "['/mnt/eng_handata/Kyle_Hansen/AliEyeBlink/ali24_d2_s1/binary_traces.h5', '/mnt/eng_handata/Kyle_Hansen/AliEyeBlink/ali24_d5_s1/binary_traces.h5', '/mnt/eng_handata/Kyle_Hansen/AliEyeBlink/ali24_d5_s2/binary_traces.h5', '/mnt/eng_handata/Kyle_Hansen/AliEyeBlink/ali25_d2_s1/binary_traces.h5', '/mnt/eng_handata/Kyle_Hansen/AliEyeBlink/ali25_d5_s1/binary_traces.h5', '/mnt/eng_handata/Kyle_Hansen/AliEyeBlink/ali25_d5_s2/binary_traces.h5', '/mnt/eng_handata/Kyle_Hansen/AliEyeBlink/ali26_d2_s1/binary_traces.h5', '/mnt/eng_handata/Kyle_Hansen/AliEyeBlink/ali26_d5_s1/binary_traces.h5', '/mnt/eng_handata/Kyle_Hansen/AliEyeBlink/ali26_d5_s2/binary_traces.h5', '/mnt/eng_handata/eng_research_handata2/Kyle_Hansen/TonePuff-Rebecca/2982/2982_d1_s1/binary_traces.h5', '/mnt/eng_handata/eng_research_handata2/Kyle_Hansen/TonePuff-Rebecca/2982/2982_d9_s1/binary_traces.h5', '/mnt/eng_handata/eng_research_handata2/Kyle_Hansen/TonePuff-Rebecca/4540/4540_d1_s1/binary_traces.h5', '/mnt/eng_handata/eng_research_handata2/Kyle_Hansen/TonePuff-Rebecca/4540/4540_d9_s1/binary_traces.h5', '/mnt/eng_handata/eng_research_handata2/Kyle_Hansen/TonePuff_Rebecca2/2712/2712_d1_s1/binary_traces.h5', '/mnt/eng_handata/eng_research_handata2/Kyle_Hansen/TonePuff_Rebecca2/2712/2712_d5_s1/binary_traces.h5', '/mnt/eng_handata/eng_research_handata2/Kyle_Hansen/TonePuff_Rebecca2/2713/2713_d1_s1/binary_traces.h5', '/mnt/eng_handata/eng_research_handata2/Kyle_Hansen/TonePuff_Rebecca2/2713/2713_d5_s1/binary_traces.h5', '/mnt/eng_handata/eng_research_handata2/Kyle_Hansen/TonePuff_Rebecca2/2714/2714_d1_s1/binary_traces.h5', '/mnt/eng_handata/eng_research_handata2/Kyle_Hansen/TonePuff_Rebecca2/2714/2714_d5_s1/binary_traces.h5', '/mnt/eng_handata/eng_research_handata2/Kyle_Hansen/TonePuff_Rebecca2/8089/8089_d1_s1/binary_traces.h5', '/mnt/eng_handata/eng_research_handata2/Kyle_Hansen/TonePuff_Rebecca2/8089/8089_d5_s1/binary_traces.h5']\n"
     ]
    }
   ],
   "source": [
    "#Initialize Input Values\n",
    "#Ali Mice\n",
    "aliBase = '/mnt/eng_handata/Kyle_Hansen/AliEyeBlink/'\n",
    "aliMice, aliDays, aliSessions = ([24,25,26], [2,5], [1,2])\n",
    "aliFolders, aliFilenames = makeAliFilenames_modified(aliMice, aliDays, aliSessions)\n",
    "bin_aliFiles = combineFilenames(aliBase, aliFolders, aliFilenames)\n",
    "#Rebecca Mice\n",
    "rBase = '/mnt/eng_handata/eng_research_handata2/Kyle_Hansen/TonePuff-Rebecca/'\n",
    "rMice, rDays, rSessions = ([2982,4540], [1,9], [1])\n",
    "rFolders, rFilenames = makeRebeccaFilenames_modified(rMice, rDays, rSessions)\n",
    "bin_rFiles = combineFilenames(rBase, rFolders, rFilenames)\n",
    "#New Rebecca Mice\n",
    "nrBase = '/mnt/eng_handata/eng_research_handata2/Kyle_Hansen/TonePuff_Rebecca2/'\n",
    "nrMice, nrDays, nrSessions = ([2712, 2713,2714,8089], [1,5], [1]) #Also have 2 as full imaging session.  Drop 2714 because of data quality\n",
    "nrFolders, nrFilenames = makeRebeccaFilenames_modified(nrMice, nrDays, nrSessions)\n",
    "bin_nrFiles = combineFilenames(nrBase, nrFolders, nrFilenames)\n",
    "#Combine All Filenames into one List\n",
    "bin_allFiles = bin_aliFiles + bin_rFiles + bin_nrFiles\n",
    "print(bin_allFiles)"
   ]
  },
  {
   "cell_type": "code",
   "execution_count": 18,
   "metadata": {},
   "outputs": [],
   "source": [
    "def loadbinaryTraces(files, whichData):\n",
    "    #Load all the trace data and normalize traces with baseline adjustments\n",
    "    #Load and doughnut subtract traces\n",
    "    binTraces = loadFiles(files, 'binary_trace', whichData=whichData, multiIndex=True)\n",
    "    \n",
    "    return binTraces"
   ]
  },
  {
   "cell_type": "code",
   "execution_count": 19,
   "metadata": {},
   "outputs": [],
   "source": [
    "ali_binary_traces=loadbinaryTraces(bin_aliFiles, 'Ali')\n",
    "r_binary_traces=loadbinaryTraces(bin_rFiles, 'Rebecca')\n",
    "nr_binary_traces=loadbinaryTraces(bin_nrFiles, 'Rebecca')"
   ]
  },
  {
   "cell_type": "markdown",
   "metadata": {},
   "source": [
    "#### Sanity Check"
   ]
  },
  {
   "cell_type": "code",
   "execution_count": 20,
   "metadata": {},
   "outputs": [
    {
     "data": {
      "text/plain": [
       "array([0., 1.])"
      ]
     },
     "execution_count": 20,
     "metadata": {},
     "output_type": "execute_result"
    }
   ],
   "source": [
    "np.unique(ali_binary_traces['ali24_d5_s2'])"
   ]
  },
  {
   "cell_type": "code",
   "execution_count": 21,
   "metadata": {},
   "outputs": [
    {
     "data": {
      "text/html": [
       "<div>\n",
       "<style scoped>\n",
       "    .dataframe tbody tr th:only-of-type {\n",
       "        vertical-align: middle;\n",
       "    }\n",
       "\n",
       "    .dataframe tbody tr th {\n",
       "        vertical-align: top;\n",
       "    }\n",
       "\n",
       "    .dataframe thead th {\n",
       "        text-align: right;\n",
       "    }\n",
       "</style>\n",
       "<table border=\"1\" class=\"dataframe\">\n",
       "  <thead>\n",
       "    <tr style=\"text-align: right;\">\n",
       "      <th>cell_num</th>\n",
       "      <th>0</th>\n",
       "      <th>1</th>\n",
       "      <th>2</th>\n",
       "      <th>3</th>\n",
       "      <th>4</th>\n",
       "      <th>5</th>\n",
       "      <th>6</th>\n",
       "      <th>7</th>\n",
       "      <th>8</th>\n",
       "      <th>9</th>\n",
       "      <th>...</th>\n",
       "      <th>291</th>\n",
       "      <th>292</th>\n",
       "      <th>293</th>\n",
       "      <th>294</th>\n",
       "      <th>295</th>\n",
       "      <th>296</th>\n",
       "      <th>297</th>\n",
       "      <th>298</th>\n",
       "      <th>299</th>\n",
       "      <th>300</th>\n",
       "    </tr>\n",
       "    <tr>\n",
       "      <th>Time</th>\n",
       "      <th></th>\n",
       "      <th></th>\n",
       "      <th></th>\n",
       "      <th></th>\n",
       "      <th></th>\n",
       "      <th></th>\n",
       "      <th></th>\n",
       "      <th></th>\n",
       "      <th></th>\n",
       "      <th></th>\n",
       "      <th></th>\n",
       "      <th></th>\n",
       "      <th></th>\n",
       "      <th></th>\n",
       "      <th></th>\n",
       "      <th></th>\n",
       "      <th></th>\n",
       "      <th></th>\n",
       "      <th></th>\n",
       "      <th></th>\n",
       "      <th></th>\n",
       "    </tr>\n",
       "  </thead>\n",
       "  <tbody>\n",
       "    <tr>\n",
       "      <th>0</th>\n",
       "      <td>0.0</td>\n",
       "      <td>0.0</td>\n",
       "      <td>0.0</td>\n",
       "      <td>0.0</td>\n",
       "      <td>0.0</td>\n",
       "      <td>0.0</td>\n",
       "      <td>0.0</td>\n",
       "      <td>0.0</td>\n",
       "      <td>0.0</td>\n",
       "      <td>0.0</td>\n",
       "      <td>...</td>\n",
       "      <td>0.0</td>\n",
       "      <td>0.0</td>\n",
       "      <td>0.0</td>\n",
       "      <td>0.0</td>\n",
       "      <td>0.0</td>\n",
       "      <td>0.0</td>\n",
       "      <td>0.0</td>\n",
       "      <td>0.0</td>\n",
       "      <td>0.0</td>\n",
       "      <td>0.0</td>\n",
       "    </tr>\n",
       "    <tr>\n",
       "      <th>1</th>\n",
       "      <td>0.0</td>\n",
       "      <td>0.0</td>\n",
       "      <td>0.0</td>\n",
       "      <td>0.0</td>\n",
       "      <td>0.0</td>\n",
       "      <td>0.0</td>\n",
       "      <td>0.0</td>\n",
       "      <td>0.0</td>\n",
       "      <td>0.0</td>\n",
       "      <td>0.0</td>\n",
       "      <td>...</td>\n",
       "      <td>0.0</td>\n",
       "      <td>0.0</td>\n",
       "      <td>0.0</td>\n",
       "      <td>0.0</td>\n",
       "      <td>0.0</td>\n",
       "      <td>0.0</td>\n",
       "      <td>0.0</td>\n",
       "      <td>0.0</td>\n",
       "      <td>0.0</td>\n",
       "      <td>0.0</td>\n",
       "    </tr>\n",
       "    <tr>\n",
       "      <th>2</th>\n",
       "      <td>0.0</td>\n",
       "      <td>0.0</td>\n",
       "      <td>0.0</td>\n",
       "      <td>0.0</td>\n",
       "      <td>0.0</td>\n",
       "      <td>0.0</td>\n",
       "      <td>0.0</td>\n",
       "      <td>0.0</td>\n",
       "      <td>0.0</td>\n",
       "      <td>0.0</td>\n",
       "      <td>...</td>\n",
       "      <td>0.0</td>\n",
       "      <td>0.0</td>\n",
       "      <td>0.0</td>\n",
       "      <td>0.0</td>\n",
       "      <td>0.0</td>\n",
       "      <td>0.0</td>\n",
       "      <td>0.0</td>\n",
       "      <td>0.0</td>\n",
       "      <td>0.0</td>\n",
       "      <td>0.0</td>\n",
       "    </tr>\n",
       "    <tr>\n",
       "      <th>3</th>\n",
       "      <td>0.0</td>\n",
       "      <td>0.0</td>\n",
       "      <td>0.0</td>\n",
       "      <td>0.0</td>\n",
       "      <td>0.0</td>\n",
       "      <td>0.0</td>\n",
       "      <td>0.0</td>\n",
       "      <td>0.0</td>\n",
       "      <td>0.0</td>\n",
       "      <td>0.0</td>\n",
       "      <td>...</td>\n",
       "      <td>0.0</td>\n",
       "      <td>0.0</td>\n",
       "      <td>0.0</td>\n",
       "      <td>0.0</td>\n",
       "      <td>0.0</td>\n",
       "      <td>0.0</td>\n",
       "      <td>0.0</td>\n",
       "      <td>0.0</td>\n",
       "      <td>0.0</td>\n",
       "      <td>0.0</td>\n",
       "    </tr>\n",
       "    <tr>\n",
       "      <th>4</th>\n",
       "      <td>0.0</td>\n",
       "      <td>0.0</td>\n",
       "      <td>0.0</td>\n",
       "      <td>0.0</td>\n",
       "      <td>0.0</td>\n",
       "      <td>0.0</td>\n",
       "      <td>0.0</td>\n",
       "      <td>0.0</td>\n",
       "      <td>0.0</td>\n",
       "      <td>0.0</td>\n",
       "      <td>...</td>\n",
       "      <td>0.0</td>\n",
       "      <td>0.0</td>\n",
       "      <td>0.0</td>\n",
       "      <td>0.0</td>\n",
       "      <td>0.0</td>\n",
       "      <td>0.0</td>\n",
       "      <td>0.0</td>\n",
       "      <td>0.0</td>\n",
       "      <td>0.0</td>\n",
       "      <td>0.0</td>\n",
       "    </tr>\n",
       "    <tr>\n",
       "      <th>...</th>\n",
       "      <td>...</td>\n",
       "      <td>...</td>\n",
       "      <td>...</td>\n",
       "      <td>...</td>\n",
       "      <td>...</td>\n",
       "      <td>...</td>\n",
       "      <td>...</td>\n",
       "      <td>...</td>\n",
       "      <td>...</td>\n",
       "      <td>...</td>\n",
       "      <td>...</td>\n",
       "      <td>...</td>\n",
       "      <td>...</td>\n",
       "      <td>...</td>\n",
       "      <td>...</td>\n",
       "      <td>...</td>\n",
       "      <td>...</td>\n",
       "      <td>...</td>\n",
       "      <td>...</td>\n",
       "      <td>...</td>\n",
       "      <td>...</td>\n",
       "    </tr>\n",
       "    <tr>\n",
       "      <th>26477</th>\n",
       "      <td>0.0</td>\n",
       "      <td>0.0</td>\n",
       "      <td>0.0</td>\n",
       "      <td>0.0</td>\n",
       "      <td>0.0</td>\n",
       "      <td>0.0</td>\n",
       "      <td>0.0</td>\n",
       "      <td>0.0</td>\n",
       "      <td>0.0</td>\n",
       "      <td>0.0</td>\n",
       "      <td>...</td>\n",
       "      <td>0.0</td>\n",
       "      <td>0.0</td>\n",
       "      <td>0.0</td>\n",
       "      <td>0.0</td>\n",
       "      <td>0.0</td>\n",
       "      <td>0.0</td>\n",
       "      <td>0.0</td>\n",
       "      <td>0.0</td>\n",
       "      <td>0.0</td>\n",
       "      <td>0.0</td>\n",
       "    </tr>\n",
       "    <tr>\n",
       "      <th>26478</th>\n",
       "      <td>0.0</td>\n",
       "      <td>0.0</td>\n",
       "      <td>0.0</td>\n",
       "      <td>0.0</td>\n",
       "      <td>0.0</td>\n",
       "      <td>0.0</td>\n",
       "      <td>0.0</td>\n",
       "      <td>0.0</td>\n",
       "      <td>0.0</td>\n",
       "      <td>0.0</td>\n",
       "      <td>...</td>\n",
       "      <td>0.0</td>\n",
       "      <td>0.0</td>\n",
       "      <td>0.0</td>\n",
       "      <td>0.0</td>\n",
       "      <td>0.0</td>\n",
       "      <td>0.0</td>\n",
       "      <td>0.0</td>\n",
       "      <td>0.0</td>\n",
       "      <td>0.0</td>\n",
       "      <td>0.0</td>\n",
       "    </tr>\n",
       "    <tr>\n",
       "      <th>26479</th>\n",
       "      <td>0.0</td>\n",
       "      <td>0.0</td>\n",
       "      <td>0.0</td>\n",
       "      <td>0.0</td>\n",
       "      <td>0.0</td>\n",
       "      <td>0.0</td>\n",
       "      <td>0.0</td>\n",
       "      <td>0.0</td>\n",
       "      <td>0.0</td>\n",
       "      <td>0.0</td>\n",
       "      <td>...</td>\n",
       "      <td>0.0</td>\n",
       "      <td>0.0</td>\n",
       "      <td>0.0</td>\n",
       "      <td>0.0</td>\n",
       "      <td>0.0</td>\n",
       "      <td>0.0</td>\n",
       "      <td>0.0</td>\n",
       "      <td>0.0</td>\n",
       "      <td>0.0</td>\n",
       "      <td>0.0</td>\n",
       "    </tr>\n",
       "    <tr>\n",
       "      <th>26480</th>\n",
       "      <td>0.0</td>\n",
       "      <td>0.0</td>\n",
       "      <td>0.0</td>\n",
       "      <td>0.0</td>\n",
       "      <td>0.0</td>\n",
       "      <td>0.0</td>\n",
       "      <td>0.0</td>\n",
       "      <td>0.0</td>\n",
       "      <td>0.0</td>\n",
       "      <td>0.0</td>\n",
       "      <td>...</td>\n",
       "      <td>0.0</td>\n",
       "      <td>0.0</td>\n",
       "      <td>0.0</td>\n",
       "      <td>0.0</td>\n",
       "      <td>0.0</td>\n",
       "      <td>0.0</td>\n",
       "      <td>0.0</td>\n",
       "      <td>0.0</td>\n",
       "      <td>0.0</td>\n",
       "      <td>0.0</td>\n",
       "    </tr>\n",
       "    <tr>\n",
       "      <th>26481</th>\n",
       "      <td>0.0</td>\n",
       "      <td>0.0</td>\n",
       "      <td>0.0</td>\n",
       "      <td>0.0</td>\n",
       "      <td>0.0</td>\n",
       "      <td>0.0</td>\n",
       "      <td>0.0</td>\n",
       "      <td>0.0</td>\n",
       "      <td>0.0</td>\n",
       "      <td>0.0</td>\n",
       "      <td>...</td>\n",
       "      <td>0.0</td>\n",
       "      <td>0.0</td>\n",
       "      <td>0.0</td>\n",
       "      <td>0.0</td>\n",
       "      <td>0.0</td>\n",
       "      <td>0.0</td>\n",
       "      <td>0.0</td>\n",
       "      <td>0.0</td>\n",
       "      <td>0.0</td>\n",
       "      <td>0.0</td>\n",
       "    </tr>\n",
       "  </tbody>\n",
       "</table>\n",
       "<p>26482 rows × 301 columns</p>\n",
       "</div>"
      ],
      "text/plain": [
       "cell_num  0    1    2    3    4    5    6    7    8    9    ...  291  292  \\\n",
       "Time                                                        ...             \n",
       "0         0.0  0.0  0.0  0.0  0.0  0.0  0.0  0.0  0.0  0.0  ...  0.0  0.0   \n",
       "1         0.0  0.0  0.0  0.0  0.0  0.0  0.0  0.0  0.0  0.0  ...  0.0  0.0   \n",
       "2         0.0  0.0  0.0  0.0  0.0  0.0  0.0  0.0  0.0  0.0  ...  0.0  0.0   \n",
       "3         0.0  0.0  0.0  0.0  0.0  0.0  0.0  0.0  0.0  0.0  ...  0.0  0.0   \n",
       "4         0.0  0.0  0.0  0.0  0.0  0.0  0.0  0.0  0.0  0.0  ...  0.0  0.0   \n",
       "...       ...  ...  ...  ...  ...  ...  ...  ...  ...  ...  ...  ...  ...   \n",
       "26477     0.0  0.0  0.0  0.0  0.0  0.0  0.0  0.0  0.0  0.0  ...  0.0  0.0   \n",
       "26478     0.0  0.0  0.0  0.0  0.0  0.0  0.0  0.0  0.0  0.0  ...  0.0  0.0   \n",
       "26479     0.0  0.0  0.0  0.0  0.0  0.0  0.0  0.0  0.0  0.0  ...  0.0  0.0   \n",
       "26480     0.0  0.0  0.0  0.0  0.0  0.0  0.0  0.0  0.0  0.0  ...  0.0  0.0   \n",
       "26481     0.0  0.0  0.0  0.0  0.0  0.0  0.0  0.0  0.0  0.0  ...  0.0  0.0   \n",
       "\n",
       "cell_num  293  294  295  296  297  298  299  300  \n",
       "Time                                              \n",
       "0         0.0  0.0  0.0  0.0  0.0  0.0  0.0  0.0  \n",
       "1         0.0  0.0  0.0  0.0  0.0  0.0  0.0  0.0  \n",
       "2         0.0  0.0  0.0  0.0  0.0  0.0  0.0  0.0  \n",
       "3         0.0  0.0  0.0  0.0  0.0  0.0  0.0  0.0  \n",
       "4         0.0  0.0  0.0  0.0  0.0  0.0  0.0  0.0  \n",
       "...       ...  ...  ...  ...  ...  ...  ...  ...  \n",
       "26477     0.0  0.0  0.0  0.0  0.0  0.0  0.0  0.0  \n",
       "26478     0.0  0.0  0.0  0.0  0.0  0.0  0.0  0.0  \n",
       "26479     0.0  0.0  0.0  0.0  0.0  0.0  0.0  0.0  \n",
       "26480     0.0  0.0  0.0  0.0  0.0  0.0  0.0  0.0  \n",
       "26481     0.0  0.0  0.0  0.0  0.0  0.0  0.0  0.0  \n",
       "\n",
       "[26482 rows x 301 columns]"
      ]
     },
     "execution_count": 21,
     "metadata": {},
     "output_type": "execute_result"
    }
   ],
   "source": [
    "ali_binary_traces['ali24_d5_s2']"
   ]
  },
  {
   "cell_type": "markdown",
   "metadata": {},
   "source": [
    "### Make trial blocks"
   ]
  },
  {
   "cell_type": "code",
   "execution_count": 22,
   "metadata": {},
   "outputs": [
    {
     "name": "stdout",
     "output_type": "stream",
     "text": [
      "Ali Binary Blocks\n",
      "ali24_d2_s1\n",
      "ali24_d5_s1\n",
      "ali24_d5_s2\n",
      "ali25_d2_s1\n",
      "ali25_d5_s1\n",
      "ali25_d5_s2\n",
      "ali26_d2_s1\n",
      "ali26_d5_s1\n",
      "ali26_d5_s2\n",
      "Rebecca Binary Blocks\n",
      "2982_d1_s1\n",
      "2982_d9_s1\n",
      "4540_d1_s1\n",
      "4540_d9_s1\n",
      "New Rebecca Binary Blocks\n",
      "2712_d1_s1\n",
      "2712_d5_s1\n",
      "2713_d1_s1\n",
      "2713_d5_s1\n",
      "2714_d1_s1\n",
      "2714_d5_s1\n",
      "8089_d1_s1\n",
      "8089_d5_s1\n"
     ]
    }
   ],
   "source": [
    "print('Ali Binary Blocks')\n",
    "bin_aliTraceBlocks, bin_aliTraceNoBlocks = makeTraceTrialBlocks(ali_binary_traces, aliSounds)\n",
    "#bin_aliTraceBlocks, bin_aliTraceNoBlocks = makeTraceTrialBlocks(aliMatched, aliSounds)\n",
    "print('Rebecca Binary Blocks')\n",
    "bin_rTraceBlocks, bin_rTraceNoBlocks = makeTraceTrialBlocks(r_binary_traces, rSounds) \n",
    "print('New Rebecca Binary Blocks')\n",
    "bin_nrTraceBlocks, bin_nrTraceNoBlocks = makeTraceTrialBlocks(nr_binary_traces, nrSounds) "
   ]
  },
  {
   "cell_type": "code",
   "execution_count": 23,
   "metadata": {},
   "outputs": [
    {
     "name": "stdout",
     "output_type": "stream",
     "text": [
      "(301,)\n",
      "(133,)\n",
      "(419,)\n",
      "(306,)\n",
      "(266,)\n",
      "(127,)\n",
      "(141,)\n",
      "(153,)\n",
      "(75,)\n"
     ]
    }
   ],
   "source": [
    "print(bin_aliTraceBlocks['ali24_d5_s1'].columns.unique('cell_num').shape)\n",
    "print(bin_aliTraceBlocks['ali25_d5_s1'].columns.unique('cell_num').shape)\n",
    "print(bin_aliTraceBlocks['ali26_d5_s1'].columns.unique('cell_num').shape)\n",
    "print(bin_rTraceBlocks['2982_d9_s1'].columns.unique('cell_num').shape)\n",
    "print(bin_rTraceBlocks['4540_d9_s1'].columns.unique('cell_num').shape)\n",
    "print(bin_nrTraceBlocks['2712_d5_s1'].columns.unique('cell_num').shape)\n",
    "print(bin_nrTraceBlocks['2713_d5_s1'].columns.unique('cell_num').shape)\n",
    "print(bin_nrTraceBlocks['2714_d5_s1'].columns.unique('cell_num').shape)\n",
    "print(bin_nrTraceBlocks['8089_d5_s1'].columns.unique('cell_num').shape)"
   ]
  },
  {
   "cell_type": "code",
   "execution_count": 24,
   "metadata": {},
   "outputs": [
    {
     "data": {
      "text/plain": [
       "1661"
      ]
     },
     "execution_count": 24,
     "metadata": {},
     "output_type": "execute_result"
    }
   ],
   "source": [
    "total_cells_lastday = bin_aliTraceBlocks['ali24_d5_s1'].columns.unique('cell_num').shape[0]+bin_aliTraceBlocks['ali26_d5_s1'].columns.unique('cell_num').shape[0]+bin_rTraceBlocks['2982_d9_s1'].columns.unique('cell_num').shape[0]+bin_rTraceBlocks['4540_d9_s1'].columns.unique('cell_num').shape[0]+bin_nrTraceBlocks['2713_d5_s1'].columns.unique('cell_num').shape[0]+bin_nrTraceBlocks['2714_d5_s1'].columns.unique('cell_num').shape[0]+bin_nrTraceBlocks['8089_d5_s1'].columns.unique('cell_num').shape[0]\n",
    "total_cells_lastday"
   ]
  },
  {
   "cell_type": "code",
   "execution_count": 25,
   "metadata": {},
   "outputs": [
    {
     "data": {
      "text/plain": [
       "1921"
      ]
     },
     "execution_count": 25,
     "metadata": {},
     "output_type": "execute_result"
    }
   ],
   "source": [
    "total_cells_lastday_all = bin_aliTraceBlocks['ali24_d5_s1'].columns.unique('cell_num').shape[0]+bin_aliTraceBlocks['ali25_d5_s1'].columns.unique('cell_num').shape[0]+bin_aliTraceBlocks['ali26_d5_s1'].columns.unique('cell_num').shape[0]+bin_rTraceBlocks['2982_d9_s1'].columns.unique('cell_num').shape[0]+bin_rTraceBlocks['4540_d9_s1'].columns.unique('cell_num').shape[0]+bin_nrTraceBlocks['2713_d5_s1'].columns.unique('cell_num').shape[0]+bin_nrTraceBlocks['2714_d5_s1'].columns.unique('cell_num').shape[0]+bin_nrTraceBlocks['8089_d5_s1'].columns.unique('cell_num').shape[0]+bin_nrTraceBlocks['2712_d5_s1'].columns.unique('cell_num').shape[0]\n",
    "total_cells_lastday_all"
   ]
  },
  {
   "cell_type": "code",
   "execution_count": 26,
   "metadata": {},
   "outputs": [],
   "source": [
    "#Colormap Creation from Other Colormap\n",
    "full_gist = cm.get_cmap('gist_stern',256)\n",
    "topgist_cm = ListedColormap(full_gist(np.linspace(0.25, 1, 256)))"
   ]
  },
  {
   "cell_type": "code",
   "execution_count": 27,
   "metadata": {},
   "outputs": [
    {
     "name": "stderr",
     "output_type": "stream",
     "text": [
      "findfont: Font family ['Arial'] not found. Falling back to DejaVu Sans.\n"
     ]
    },
    {
     "data": {
      "text/plain": [
       "<matplotlib.lines.Line2D at 0x7efde8d9fe10>"
      ]
     },
     "execution_count": 27,
     "metadata": {},
     "output_type": "execute_result"
    },
    {
     "data": {
      "image/png": "[encoded data removed]",
      "text/plain": [
       "<Figure size 432x288 with 2 Axes>"
      ]
     },
     "metadata": {
      "needs_background": "light"
     },
     "output_type": "display_data"
    }
   ],
   "source": [
    "a=bin_nrTraceBlocks['2713_d5_s1'].loc[:,10]\n",
    "sns.heatmap(a.T,cmap=topgist_cm)\n",
    "plt.axvline(x=40, linestyle='-.', color='k', linewidth=1)\n",
    "plt.axvline(x=52, linestyle='--', color='k', linewidth=1)\n",
    "#plt.savefig('event_detection_4.png',format='png')"
   ]
  },
  {
   "cell_type": "markdown",
   "metadata": {},
   "source": [
    "## New method of shuffling to determine active cells "
   ]
  },
  {
   "cell_type": "code",
   "execution_count": 28,
   "metadata": {},
   "outputs": [
    {
     "data": {
      "text/plain": [
       "(18482, 301)"
      ]
     },
     "execution_count": 28,
     "metadata": {},
     "output_type": "execute_result"
    }
   ],
   "source": [
    "bin_aliTraceNoBlocks['ali24_d5_s1'].shape"
   ]
  },
  {
   "cell_type": "code",
   "execution_count": 29,
   "metadata": {},
   "outputs": [
    {
     "data": {
      "text/plain": [
       "400"
      ]
     },
     "execution_count": 29,
     "metadata": {},
     "output_type": "execute_result"
    }
   ],
   "source": [
    "20*1*20"
   ]
  },
  {
   "cell_type": "code",
   "execution_count": 30,
   "metadata": {},
   "outputs": [
    {
     "data": {
      "text/plain": [
       "0        0.0\n",
       "1        0.0\n",
       "2        0.0\n",
       "3        0.0\n",
       "4        0.0\n",
       "        ... \n",
       "18477    0.0\n",
       "18478    0.0\n",
       "18479    0.0\n",
       "18480    0.0\n",
       "18481    0.0\n",
       "Name: 0, Length: 18482, dtype: float64"
      ]
     },
     "execution_count": 30,
     "metadata": {},
     "output_type": "execute_result"
    }
   ],
   "source": [
    "# need to select 20 non overlapping segments for every cell and search for 1's ! \n",
    "#0th cell\n",
    "bin_aliTraceNoBlocks['ali24_d5_s1'].loc[:,0]\n",
    "#np.array(np.where(mouse_df.loc[:,cell]==1)).size"
   ]
  },
  {
   "cell_type": "code",
   "execution_count": 31,
   "metadata": {},
   "outputs": [],
   "source": [
    "# https://stackoverflow.com/questions/18641272/n-random-contiguous-and-non-overlapping-subsequences-each-of-length"
   ]
  },
  {
   "cell_type": "code",
   "execution_count": 32,
   "metadata": {},
   "outputs": [],
   "source": [
    "def rand_parts(seq, n, l):\n",
    "    indices = range(len(seq) - (l - 1) * n)\n",
    "    result = []\n",
    "    offset = 0\n",
    "    for i in sorted(random.sample(indices, n)):\n",
    "        i += offset\n",
    "        result.append(seq[i:i+l])\n",
    "        offset += l - 1\n",
    "    return result"
   ]
  },
  {
   "cell_type": "code",
   "execution_count": 33,
   "metadata": {},
   "outputs": [
    {
     "data": {
      "text/plain": [
       "array([    0,     1,     2, ..., 18479, 18480, 18481])"
      ]
     },
     "execution_count": 33,
     "metadata": {},
     "output_type": "execute_result"
    }
   ],
   "source": [
    "seq=np.arange(0,18482,1)\n",
    "\n",
    "seq"
   ]
  },
  {
   "cell_type": "code",
   "execution_count": 34,
   "metadata": {},
   "outputs": [
    {
     "data": {
      "text/plain": [
       "list"
      ]
     },
     "execution_count": 34,
     "metadata": {},
     "output_type": "execute_result"
    }
   ],
   "source": [
    "type(rand_parts([1, 2, 3, 4, 5, 6], 2, 2))"
   ]
  },
  {
   "cell_type": "code",
   "execution_count": 35,
   "metadata": {},
   "outputs": [
    {
     "data": {
      "text/plain": [
       "[array([ 5,  6,  7,  8,  9, 10, 11, 12, 13, 14, 15, 16, 17, 18, 19, 20, 21,\n",
       "        22, 23, 24]),\n",
       " array([530, 531, 532, 533, 534, 535, 536, 537, 538, 539, 540, 541, 542,\n",
       "        543, 544, 545, 546, 547, 548, 549]),\n",
       " array([3825, 3826, 3827, 3828, 3829, 3830, 3831, 3832, 3833, 3834, 3835,\n",
       "        3836, 3837, 3838, 3839, 3840, 3841, 3842, 3843, 3844]),\n",
       " array([5811, 5812, 5813, 5814, 5815, 5816, 5817, 5818, 5819, 5820, 5821,\n",
       "        5822, 5823, 5824, 5825, 5826, 5827, 5828, 5829, 5830]),\n",
       " array([6024, 6025, 6026, 6027, 6028, 6029, 6030, 6031, 6032, 6033, 6034,\n",
       "        6035, 6036, 6037, 6038, 6039, 6040, 6041, 6042, 6043]),\n",
       " array([6489, 6490, 6491, 6492, 6493, 6494, 6495, 6496, 6497, 6498, 6499,\n",
       "        6500, 6501, 6502, 6503, 6504, 6505, 6506, 6507, 6508]),\n",
       " array([7270, 7271, 7272, 7273, 7274, 7275, 7276, 7277, 7278, 7279, 7280,\n",
       "        7281, 7282, 7283, 7284, 7285, 7286, 7287, 7288, 7289]),\n",
       " array([7673, 7674, 7675, 7676, 7677, 7678, 7679, 7680, 7681, 7682, 7683,\n",
       "        7684, 7685, 7686, 7687, 7688, 7689, 7690, 7691, 7692]),\n",
       " array([8395, 8396, 8397, 8398, 8399, 8400, 8401, 8402, 8403, 8404, 8405,\n",
       "        8406, 8407, 8408, 8409, 8410, 8411, 8412, 8413, 8414]),\n",
       " array([8685, 8686, 8687, 8688, 8689, 8690, 8691, 8692, 8693, 8694, 8695,\n",
       "        8696, 8697, 8698, 8699, 8700, 8701, 8702, 8703, 8704]),\n",
       " array([9282, 9283, 9284, 9285, 9286, 9287, 9288, 9289, 9290, 9291, 9292,\n",
       "        9293, 9294, 9295, 9296, 9297, 9298, 9299, 9300, 9301]),\n",
       " array([10841, 10842, 10843, 10844, 10845, 10846, 10847, 10848, 10849,\n",
       "        10850, 10851, 10852, 10853, 10854, 10855, 10856, 10857, 10858,\n",
       "        10859, 10860]),\n",
       " array([11300, 11301, 11302, 11303, 11304, 11305, 11306, 11307, 11308,\n",
       "        11309, 11310, 11311, 11312, 11313, 11314, 11315, 11316, 11317,\n",
       "        11318, 11319]),\n",
       " array([11476, 11477, 11478, 11479, 11480, 11481, 11482, 11483, 11484,\n",
       "        11485, 11486, 11487, 11488, 11489, 11490, 11491, 11492, 11493,\n",
       "        11494, 11495]),\n",
       " array([13305, 13306, 13307, 13308, 13309, 13310, 13311, 13312, 13313,\n",
       "        13314, 13315, 13316, 13317, 13318, 13319, 13320, 13321, 13322,\n",
       "        13323, 13324]),\n",
       " array([14262, 14263, 14264, 14265, 14266, 14267, 14268, 14269, 14270,\n",
       "        14271, 14272, 14273, 14274, 14275, 14276, 14277, 14278, 14279,\n",
       "        14280, 14281]),\n",
       " array([14726, 14727, 14728, 14729, 14730, 14731, 14732, 14733, 14734,\n",
       "        14735, 14736, 14737, 14738, 14739, 14740, 14741, 14742, 14743,\n",
       "        14744, 14745]),\n",
       " array([15187, 15188, 15189, 15190, 15191, 15192, 15193, 15194, 15195,\n",
       "        15196, 15197, 15198, 15199, 15200, 15201, 15202, 15203, 15204,\n",
       "        15205, 15206]),\n",
       " array([16547, 16548, 16549, 16550, 16551, 16552, 16553, 16554, 16555,\n",
       "        16556, 16557, 16558, 16559, 16560, 16561, 16562, 16563, 16564,\n",
       "        16565, 16566]),\n",
       " array([16784, 16785, 16786, 16787, 16788, 16789, 16790, 16791, 16792,\n",
       "        16793, 16794, 16795, 16796, 16797, 16798, 16799, 16800, 16801,\n",
       "        16802, 16803])]"
      ]
     },
     "execution_count": 35,
     "metadata": {},
     "output_type": "execute_result"
    }
   ],
   "source": [
    "ind=rand_parts(seq,20,20)\n",
    "ind"
   ]
  },
  {
   "cell_type": "code",
   "execution_count": 36,
   "metadata": {},
   "outputs": [
    {
     "data": {
      "text/plain": [
       "0"
      ]
     },
     "execution_count": 36,
     "metadata": {},
     "output_type": "execute_result"
    }
   ],
   "source": [
    "temp_df=bin_aliTraceNoBlocks['ali24_d5_s1'].loc[ind[19],0]\n",
    "np.array(np.where(temp_df==1)).size"
   ]
  },
  {
   "cell_type": "code",
   "execution_count": 37,
   "metadata": {},
   "outputs": [
    {
     "data": {
      "text/plain": [
       "array([[0.0825],\n",
       "       [0.    ],\n",
       "       [0.0825],\n",
       "       [0.0225],\n",
       "       [0.02  ],\n",
       "       [0.0775],\n",
       "       [0.0225],\n",
       "       [0.0775],\n",
       "       [0.0075],\n",
       "       [0.005 ],\n",
       "       [0.    ],\n",
       "       [0.045 ],\n",
       "       [0.06  ],\n",
       "       [0.06  ],\n",
       "       [0.0675],\n",
       "       [0.    ],\n",
       "       [0.0125],\n",
       "       [0.0125],\n",
       "       [0.    ],\n",
       "       [0.07  ],\n",
       "       [0.025 ],\n",
       "       [0.    ],\n",
       "       [0.    ],\n",
       "       [0.0425],\n",
       "       [0.035 ],\n",
       "       [0.035 ],\n",
       "       [0.065 ],\n",
       "       [0.0175],\n",
       "       [0.    ],\n",
       "       [0.05  ],\n",
       "       [0.035 ],\n",
       "       [0.03  ],\n",
       "       [0.0125],\n",
       "       [0.05  ],\n",
       "       [0.    ],\n",
       "       [0.0575],\n",
       "       [0.0825],\n",
       "       [0.    ],\n",
       "       [0.0925],\n",
       "       [0.0575],\n",
       "       [0.    ],\n",
       "       [0.    ],\n",
       "       [0.0125],\n",
       "       [0.    ],\n",
       "       [0.    ],\n",
       "       [0.08  ],\n",
       "       [0.0175],\n",
       "       [0.045 ],\n",
       "       [0.0075],\n",
       "       [0.035 ],\n",
       "       [0.1125],\n",
       "       [0.0175],\n",
       "       [0.1375],\n",
       "       [0.025 ],\n",
       "       [0.    ],\n",
       "       [0.03  ],\n",
       "       [0.    ],\n",
       "       [0.0275],\n",
       "       [0.025 ],\n",
       "       [0.    ],\n",
       "       [0.    ],\n",
       "       [0.0775],\n",
       "       [0.    ],\n",
       "       [0.    ],\n",
       "       [0.    ],\n",
       "       [0.    ],\n",
       "       [0.    ],\n",
       "       [0.0175],\n",
       "       [0.    ],\n",
       "       [0.03  ],\n",
       "       [0.0225],\n",
       "       [0.0375],\n",
       "       [0.    ],\n",
       "       [0.02  ],\n",
       "       [0.04  ],\n",
       "       [0.    ],\n",
       "       [0.0575],\n",
       "       [0.05  ],\n",
       "       [0.    ],\n",
       "       [0.08  ],\n",
       "       [0.    ],\n",
       "       [0.    ],\n",
       "       [0.0475],\n",
       "       [0.0125],\n",
       "       [0.    ],\n",
       "       [0.    ],\n",
       "       [0.0425],\n",
       "       [0.    ],\n",
       "       [0.0225],\n",
       "       [0.075 ],\n",
       "       [0.01  ],\n",
       "       [0.0125],\n",
       "       [0.015 ],\n",
       "       [0.04  ],\n",
       "       [0.    ],\n",
       "       [0.    ],\n",
       "       [0.0375],\n",
       "       [0.05  ],\n",
       "       [0.    ],\n",
       "       [0.0125],\n",
       "       [0.0125],\n",
       "       [0.0275],\n",
       "       [0.    ],\n",
       "       [0.    ],\n",
       "       [0.025 ],\n",
       "       [0.0675],\n",
       "       [0.0625],\n",
       "       [0.01  ],\n",
       "       [0.05  ],\n",
       "       [0.025 ],\n",
       "       [0.05  ],\n",
       "       [0.    ],\n",
       "       [0.    ],\n",
       "       [0.0425],\n",
       "       [0.    ],\n",
       "       [0.    ],\n",
       "       [0.    ],\n",
       "       [0.0275],\n",
       "       [0.0525],\n",
       "       [0.015 ],\n",
       "       [0.05  ],\n",
       "       [0.    ],\n",
       "       [0.0075],\n",
       "       [0.0175],\n",
       "       [0.005 ],\n",
       "       [0.02  ],\n",
       "       [0.    ],\n",
       "       [0.015 ],\n",
       "       [0.0225],\n",
       "       [0.065 ],\n",
       "       [0.    ],\n",
       "       [0.    ],\n",
       "       [0.    ],\n",
       "       [0.05  ],\n",
       "       [0.015 ],\n",
       "       [0.0475],\n",
       "       [0.    ],\n",
       "       [0.    ],\n",
       "       [0.    ],\n",
       "       [0.    ],\n",
       "       [0.02  ],\n",
       "       [0.0125],\n",
       "       [0.    ],\n",
       "       [0.    ],\n",
       "       [0.    ],\n",
       "       [0.02  ],\n",
       "       [0.0625],\n",
       "       [0.    ],\n",
       "       [0.    ],\n",
       "       [0.    ],\n",
       "       [0.0675],\n",
       "       [0.0625],\n",
       "       [0.0175],\n",
       "       [0.    ],\n",
       "       [0.    ],\n",
       "       [0.0125],\n",
       "       [0.09  ],\n",
       "       [0.065 ],\n",
       "       [0.0725],\n",
       "       [0.0725],\n",
       "       [0.0075],\n",
       "       [0.02  ],\n",
       "       [0.    ],\n",
       "       [0.    ],\n",
       "       [0.    ],\n",
       "       [0.    ],\n",
       "       [0.    ],\n",
       "       [0.    ],\n",
       "       [0.    ],\n",
       "       [0.055 ],\n",
       "       [0.03  ],\n",
       "       [0.015 ],\n",
       "       [0.    ],\n",
       "       [0.    ],\n",
       "       [0.04  ],\n",
       "       [0.0425],\n",
       "       [0.    ],\n",
       "       [0.    ],\n",
       "       [0.    ],\n",
       "       [0.    ],\n",
       "       [0.0025],\n",
       "       [0.02  ],\n",
       "       [0.0425],\n",
       "       [0.    ],\n",
       "       [0.    ],\n",
       "       [0.    ],\n",
       "       [0.    ],\n",
       "       [0.    ],\n",
       "       [0.    ],\n",
       "       [0.0725],\n",
       "       [0.145 ],\n",
       "       [0.    ],\n",
       "       [0.025 ],\n",
       "       [0.105 ],\n",
       "       [0.06  ],\n",
       "       [0.    ],\n",
       "       [0.065 ],\n",
       "       [0.1025],\n",
       "       [0.    ],\n",
       "       [0.    ],\n",
       "       [0.0825],\n",
       "       [0.0375],\n",
       "       [0.    ],\n",
       "       [0.    ],\n",
       "       [0.    ],\n",
       "       [0.0875],\n",
       "       [0.    ],\n",
       "       [0.025 ],\n",
       "       [0.05  ],\n",
       "       [0.    ],\n",
       "       [0.0175],\n",
       "       [0.    ],\n",
       "       [0.0775],\n",
       "       [0.    ],\n",
       "       [0.135 ],\n",
       "       [0.0825],\n",
       "       [0.    ],\n",
       "       [0.    ],\n",
       "       [0.03  ],\n",
       "       [0.    ],\n",
       "       [0.    ],\n",
       "       [0.    ],\n",
       "       [0.    ],\n",
       "       [0.    ],\n",
       "       [0.    ],\n",
       "       [0.02  ],\n",
       "       [0.0225],\n",
       "       [0.    ],\n",
       "       [0.08  ],\n",
       "       [0.    ],\n",
       "       [0.0475],\n",
       "       [0.    ],\n",
       "       [0.    ],\n",
       "       [0.    ],\n",
       "       [0.    ],\n",
       "       [0.    ],\n",
       "       [0.    ],\n",
       "       [0.115 ],\n",
       "       [0.0125],\n",
       "       [0.05  ],\n",
       "       [0.    ],\n",
       "       [0.    ],\n",
       "       [0.    ],\n",
       "       [0.    ],\n",
       "       [0.    ],\n",
       "       [0.03  ],\n",
       "       [0.0225],\n",
       "       [0.    ],\n",
       "       [0.12  ],\n",
       "       [0.01  ],\n",
       "       [0.0475],\n",
       "       [0.0175],\n",
       "       [0.0425],\n",
       "       [0.    ],\n",
       "       [0.03  ],\n",
       "       [0.    ],\n",
       "       [0.0325],\n",
       "       [0.    ],\n",
       "       [0.05  ],\n",
       "       [0.0075],\n",
       "       [0.    ],\n",
       "       [0.    ],\n",
       "       [0.0125],\n",
       "       [0.045 ],\n",
       "       [0.03  ],\n",
       "       [0.0225],\n",
       "       [0.    ],\n",
       "       [0.005 ],\n",
       "       [0.    ],\n",
       "       [0.0525],\n",
       "       [0.    ],\n",
       "       [0.01  ],\n",
       "       [0.0375],\n",
       "       [0.03  ],\n",
       "       [0.0375],\n",
       "       [0.    ],\n",
       "       [0.    ],\n",
       "       [0.    ],\n",
       "       [0.    ],\n",
       "       [0.0625],\n",
       "       [0.02  ],\n",
       "       [0.    ],\n",
       "       [0.    ],\n",
       "       [0.    ],\n",
       "       [0.    ],\n",
       "       [0.    ],\n",
       "       [0.0125],\n",
       "       [0.02  ],\n",
       "       [0.0275],\n",
       "       [0.0925],\n",
       "       [0.0175],\n",
       "       [0.02  ],\n",
       "       [0.0125],\n",
       "       [0.015 ],\n",
       "       [0.    ],\n",
       "       [0.    ],\n",
       "       [0.095 ],\n",
       "       [0.0125],\n",
       "       [0.055 ],\n",
       "       [0.    ],\n",
       "       [0.05  ],\n",
       "       [0.01  ],\n",
       "       [0.    ],\n",
       "       [0.0175],\n",
       "       [0.075 ],\n",
       "       [0.    ],\n",
       "       [0.0575],\n",
       "       [0.025 ],\n",
       "       [0.    ],\n",
       "       [0.    ],\n",
       "       [0.    ],\n",
       "       [0.    ],\n",
       "       [0.    ],\n",
       "       [0.0375],\n",
       "       [0.015 ],\n",
       "       [0.    ],\n",
       "       [0.    ],\n",
       "       [0.    ],\n",
       "       [0.    ],\n",
       "       [0.    ],\n",
       "       [0.    ],\n",
       "       [0.0175],\n",
       "       [0.    ],\n",
       "       [0.1075],\n",
       "       [0.0175],\n",
       "       [0.    ],\n",
       "       [0.0175],\n",
       "       [0.    ],\n",
       "       [0.    ],\n",
       "       [0.0225],\n",
       "       [0.0175],\n",
       "       [0.025 ],\n",
       "       [0.05  ],\n",
       "       [0.03  ],\n",
       "       [0.04  ],\n",
       "       [0.045 ],\n",
       "       [0.035 ],\n",
       "       [0.    ],\n",
       "       [0.01  ],\n",
       "       [0.075 ],\n",
       "       [0.    ],\n",
       "       [0.    ],\n",
       "       [0.04  ],\n",
       "       [0.0375],\n",
       "       [0.04  ],\n",
       "       [0.    ],\n",
       "       [0.085 ],\n",
       "       [0.005 ],\n",
       "       [0.0225],\n",
       "       [0.065 ],\n",
       "       [0.    ],\n",
       "       [0.    ],\n",
       "       [0.02  ],\n",
       "       [0.025 ],\n",
       "       [0.0325],\n",
       "       [0.1325],\n",
       "       [0.045 ],\n",
       "       [0.025 ],\n",
       "       [0.    ],\n",
       "       [0.    ],\n",
       "       [0.    ],\n",
       "       [0.0475],\n",
       "       [0.    ],\n",
       "       [0.0325],\n",
       "       [0.0775],\n",
       "       [0.025 ],\n",
       "       [0.    ],\n",
       "       [0.    ],\n",
       "       [0.    ],\n",
       "       [0.0075],\n",
       "       [0.005 ],\n",
       "       [0.    ],\n",
       "       [0.0475],\n",
       "       [0.    ],\n",
       "       [0.    ],\n",
       "       [0.    ],\n",
       "       [0.    ],\n",
       "       [0.035 ],\n",
       "       [0.04  ],\n",
       "       [0.11  ],\n",
       "       [0.    ],\n",
       "       [0.    ],\n",
       "       [0.    ],\n",
       "       [0.0425],\n",
       "       [0.06  ],\n",
       "       [0.0625],\n",
       "       [0.0025],\n",
       "       [0.0025],\n",
       "       [0.    ],\n",
       "       [0.07  ],\n",
       "       [0.0825],\n",
       "       [0.    ],\n",
       "       [0.025 ],\n",
       "       [0.    ],\n",
       "       [0.    ],\n",
       "       [0.05  ],\n",
       "       [0.0675],\n",
       "       [0.    ],\n",
       "       [0.05  ],\n",
       "       [0.    ],\n",
       "       [0.0875],\n",
       "       [0.    ],\n",
       "       [0.0525],\n",
       "       [0.    ],\n",
       "       [0.0525],\n",
       "       [0.045 ],\n",
       "       [0.0025],\n",
       "       [0.    ],\n",
       "       [0.0225],\n",
       "       [0.    ],\n",
       "       [0.0275],\n",
       "       [0.    ],\n",
       "       [0.02  ],\n",
       "       [0.    ],\n",
       "       [0.    ],\n",
       "       [0.0225],\n",
       "       [0.    ],\n",
       "       [0.    ],\n",
       "       [0.095 ],\n",
       "       [0.    ],\n",
       "       [0.    ],\n",
       "       [0.015 ],\n",
       "       [0.06  ],\n",
       "       [0.0025],\n",
       "       [0.    ],\n",
       "       [0.05  ],\n",
       "       [0.0825],\n",
       "       [0.    ],\n",
       "       [0.06  ],\n",
       "       [0.0125],\n",
       "       [0.015 ],\n",
       "       [0.02  ],\n",
       "       [0.    ],\n",
       "       [0.    ],\n",
       "       [0.    ],\n",
       "       [0.05  ],\n",
       "       [0.015 ],\n",
       "       [0.    ],\n",
       "       [0.0325],\n",
       "       [0.0325],\n",
       "       [0.01  ],\n",
       "       [0.075 ],\n",
       "       [0.    ],\n",
       "       [0.005 ],\n",
       "       [0.055 ],\n",
       "       [0.02  ],\n",
       "       [0.05  ],\n",
       "       [0.    ],\n",
       "       [0.    ],\n",
       "       [0.005 ],\n",
       "       [0.06  ],\n",
       "       [0.0975],\n",
       "       [0.    ],\n",
       "       [0.    ],\n",
       "       [0.0675],\n",
       "       [0.    ],\n",
       "       [0.065 ],\n",
       "       [0.    ],\n",
       "       [0.    ],\n",
       "       [0.02  ],\n",
       "       [0.    ],\n",
       "       [0.    ],\n",
       "       [0.0825],\n",
       "       [0.0175],\n",
       "       [0.    ],\n",
       "       [0.06  ],\n",
       "       [0.    ],\n",
       "       [0.    ],\n",
       "       [0.0075],\n",
       "       [0.0875],\n",
       "       [0.0475],\n",
       "       [0.    ],\n",
       "       [0.0575],\n",
       "       [0.    ],\n",
       "       [0.085 ],\n",
       "       [0.    ],\n",
       "       [0.0425],\n",
       "       [0.1175],\n",
       "       [0.    ],\n",
       "       [0.1   ],\n",
       "       [0.    ],\n",
       "       [0.0325],\n",
       "       [0.    ],\n",
       "       [0.    ],\n",
       "       [0.0475],\n",
       "       [0.0375],\n",
       "       [0.03  ],\n",
       "       [0.    ],\n",
       "       [0.0425],\n",
       "       [0.05  ],\n",
       "       [0.    ],\n",
       "       [0.    ],\n",
       "       [0.045 ],\n",
       "       [0.0925],\n",
       "       [0.105 ],\n",
       "       [0.    ],\n",
       "       [0.    ],\n",
       "       [0.0275],\n",
       "       [0.04  ],\n",
       "       [0.    ],\n",
       "       [0.    ],\n",
       "       [0.0725],\n",
       "       [0.    ],\n",
       "       [0.045 ],\n",
       "       [0.    ],\n",
       "       [0.0775],\n",
       "       [0.0525],\n",
       "       [0.02  ],\n",
       "       [0.04  ],\n",
       "       [0.    ],\n",
       "       [0.055 ],\n",
       "       [0.025 ],\n",
       "       [0.    ],\n",
       "       [0.0175],\n",
       "       [0.0675],\n",
       "       [0.    ],\n",
       "       [0.    ],\n",
       "       [0.025 ],\n",
       "       [0.    ],\n",
       "       [0.    ],\n",
       "       [0.    ],\n",
       "       [0.    ],\n",
       "       [0.015 ],\n",
       "       [0.    ],\n",
       "       [0.    ],\n",
       "       [0.05  ],\n",
       "       [0.    ],\n",
       "       [0.    ],\n",
       "       [0.    ],\n",
       "       [0.    ],\n",
       "       [0.005 ],\n",
       "       [0.01  ],\n",
       "       [0.05  ],\n",
       "       [0.    ],\n",
       "       [0.0075],\n",
       "       [0.0025],\n",
       "       [0.0025],\n",
       "       [0.    ],\n",
       "       [0.    ],\n",
       "       [0.02  ],\n",
       "       [0.    ],\n",
       "       [0.    ],\n",
       "       [0.    ],\n",
       "       [0.0425],\n",
       "       [0.0425],\n",
       "       [0.    ],\n",
       "       [0.0225],\n",
       "       [0.015 ],\n",
       "       [0.    ],\n",
       "       [0.035 ],\n",
       "       [0.0375],\n",
       "       [0.0425],\n",
       "       [0.    ],\n",
       "       [0.03  ],\n",
       "       [0.    ],\n",
       "       [0.0075],\n",
       "       [0.0625],\n",
       "       [0.0675],\n",
       "       [0.04  ],\n",
       "       [0.035 ],\n",
       "       [0.12  ],\n",
       "       [0.0425],\n",
       "       [0.0725],\n",
       "       [0.    ],\n",
       "       [0.05  ],\n",
       "       [0.0475],\n",
       "       [0.    ],\n",
       "       [0.    ],\n",
       "       [0.    ],\n",
       "       [0.    ],\n",
       "       [0.0375],\n",
       "       [0.    ],\n",
       "       [0.0225],\n",
       "       [0.    ],\n",
       "       [0.0875],\n",
       "       [0.005 ],\n",
       "       [0.025 ],\n",
       "       [0.0325],\n",
       "       [0.    ],\n",
       "       [0.0325],\n",
       "       [0.1175],\n",
       "       [0.1225],\n",
       "       [0.045 ],\n",
       "       [0.0275],\n",
       "       [0.0425],\n",
       "       [0.055 ],\n",
       "       [0.    ],\n",
       "       [0.    ],\n",
       "       [0.    ],\n",
       "       [0.0325],\n",
       "       [0.    ],\n",
       "       [0.0125],\n",
       "       [0.03  ],\n",
       "       [0.015 ],\n",
       "       [0.0425],\n",
       "       [0.02  ],\n",
       "       [0.0675],\n",
       "       [0.05  ],\n",
       "       [0.0425],\n",
       "       [0.    ],\n",
       "       [0.0025],\n",
       "       [0.    ],\n",
       "       [0.    ],\n",
       "       [0.02  ],\n",
       "       [0.0575],\n",
       "       [0.0025],\n",
       "       [0.    ],\n",
       "       [0.    ],\n",
       "       [0.005 ],\n",
       "       [0.    ],\n",
       "       [0.    ],\n",
       "       [0.015 ],\n",
       "       [0.    ],\n",
       "       [0.    ],\n",
       "       [0.0475],\n",
       "       [0.    ],\n",
       "       [0.    ],\n",
       "       [0.03  ],\n",
       "       [0.04  ],\n",
       "       [0.015 ],\n",
       "       [0.055 ],\n",
       "       [0.0175],\n",
       "       [0.115 ],\n",
       "       [0.    ],\n",
       "       [0.02  ],\n",
       "       [0.    ],\n",
       "       [0.0225],\n",
       "       [0.    ],\n",
       "       [0.    ],\n",
       "       [0.075 ],\n",
       "       [0.05  ],\n",
       "       [0.    ],\n",
       "       [0.0475],\n",
       "       [0.0125],\n",
       "       [0.    ],\n",
       "       [0.01  ],\n",
       "       [0.    ],\n",
       "       [0.035 ],\n",
       "       [0.015 ],\n",
       "       [0.07  ],\n",
       "       [0.    ],\n",
       "       [0.    ],\n",
       "       [0.0075],\n",
       "       [0.    ],\n",
       "       [0.    ],\n",
       "       [0.0275],\n",
       "       [0.0775],\n",
       "       [0.0175],\n",
       "       [0.    ],\n",
       "       [0.    ],\n",
       "       [0.    ],\n",
       "       [0.05  ],\n",
       "       [0.05  ],\n",
       "       [0.0325],\n",
       "       [0.    ],\n",
       "       [0.    ],\n",
       "       [0.05  ],\n",
       "       [0.0225],\n",
       "       [0.    ],\n",
       "       [0.    ],\n",
       "       [0.045 ],\n",
       "       [0.    ],\n",
       "       [0.    ],\n",
       "       [0.0175],\n",
       "       [0.    ],\n",
       "       [0.    ],\n",
       "       [0.    ],\n",
       "       [0.    ],\n",
       "       [0.0875],\n",
       "       [0.0325],\n",
       "       [0.    ],\n",
       "       [0.    ],\n",
       "       [0.0725],\n",
       "       [0.0175],\n",
       "       [0.    ],\n",
       "       [0.    ],\n",
       "       [0.    ],\n",
       "       [0.0175],\n",
       "       [0.    ],\n",
       "       [0.045 ],\n",
       "       [0.0325],\n",
       "       [0.    ],\n",
       "       [0.025 ],\n",
       "       [0.0025],\n",
       "       [0.0225],\n",
       "       [0.01  ],\n",
       "       [0.0475],\n",
       "       [0.015 ],\n",
       "       [0.0325],\n",
       "       [0.05  ],\n",
       "       [0.05  ],\n",
       "       [0.    ],\n",
       "       [0.    ],\n",
       "       [0.0125],\n",
       "       [0.    ],\n",
       "       [0.1   ],\n",
       "       [0.0675],\n",
       "       [0.075 ],\n",
       "       [0.05  ],\n",
       "       [0.    ],\n",
       "       [0.08  ],\n",
       "       [0.    ],\n",
       "       [0.    ],\n",
       "       [0.02  ],\n",
       "       [0.05  ],\n",
       "       [0.    ],\n",
       "       [0.    ],\n",
       "       [0.055 ],\n",
       "       [0.0475],\n",
       "       [0.    ],\n",
       "       [0.    ],\n",
       "       [0.02  ],\n",
       "       [0.    ],\n",
       "       [0.025 ],\n",
       "       [0.    ],\n",
       "       [0.    ],\n",
       "       [0.05  ],\n",
       "       [0.    ],\n",
       "       [0.    ],\n",
       "       [0.025 ],\n",
       "       [0.03  ],\n",
       "       [0.    ],\n",
       "       [0.0625],\n",
       "       [0.095 ],\n",
       "       [0.    ],\n",
       "       [0.035 ],\n",
       "       [0.    ],\n",
       "       [0.07  ],\n",
       "       [0.035 ],\n",
       "       [0.0175],\n",
       "       [0.0125],\n",
       "       [0.0475],\n",
       "       [0.005 ],\n",
       "       [0.    ],\n",
       "       [0.085 ],\n",
       "       [0.055 ],\n",
       "       [0.    ],\n",
       "       [0.    ],\n",
       "       [0.0675],\n",
       "       [0.0425],\n",
       "       [0.025 ],\n",
       "       [0.0125],\n",
       "       [0.055 ],\n",
       "       [0.    ],\n",
       "       [0.01  ],\n",
       "       [0.025 ],\n",
       "       [0.0325],\n",
       "       [0.025 ],\n",
       "       [0.0775],\n",
       "       [0.    ],\n",
       "       [0.0175],\n",
       "       [0.05  ],\n",
       "       [0.0525],\n",
       "       [0.0325],\n",
       "       [0.0375],\n",
       "       [0.025 ],\n",
       "       [0.0275],\n",
       "       [0.    ],\n",
       "       [0.025 ],\n",
       "       [0.0075],\n",
       "       [0.0425],\n",
       "       [0.0375],\n",
       "       [0.005 ],\n",
       "       [0.04  ],\n",
       "       [0.0425],\n",
       "       [0.045 ],\n",
       "       [0.0125],\n",
       "       [0.0025],\n",
       "       [0.    ],\n",
       "       [0.    ],\n",
       "       [0.03  ],\n",
       "       [0.1375],\n",
       "       [0.0425],\n",
       "       [0.045 ],\n",
       "       [0.    ],\n",
       "       [0.    ],\n",
       "       [0.0475],\n",
       "       [0.0025],\n",
       "       [0.05  ],\n",
       "       [0.0475],\n",
       "       [0.0375],\n",
       "       [0.0075],\n",
       "       [0.0175],\n",
       "       [0.0175],\n",
       "       [0.    ],\n",
       "       [0.    ],\n",
       "       [0.05  ],\n",
       "       [0.    ],\n",
       "       [0.005 ],\n",
       "       [0.0075],\n",
       "       [0.015 ],\n",
       "       [0.0675],\n",
       "       [0.01  ],\n",
       "       [0.0475],\n",
       "       [0.    ],\n",
       "       [0.0325],\n",
       "       [0.    ],\n",
       "       [0.0375],\n",
       "       [0.    ],\n",
       "       [0.0675],\n",
       "       [0.035 ],\n",
       "       [0.0375],\n",
       "       [0.    ],\n",
       "       [0.    ],\n",
       "       [0.075 ],\n",
       "       [0.095 ],\n",
       "       [0.0325],\n",
       "       [0.0325],\n",
       "       [0.04  ],\n",
       "       [0.    ],\n",
       "       [0.06  ],\n",
       "       [0.0475],\n",
       "       [0.05  ],\n",
       "       [0.    ],\n",
       "       [0.075 ],\n",
       "       [0.    ],\n",
       "       [0.02  ],\n",
       "       [0.08  ],\n",
       "       [0.    ],\n",
       "       [0.    ],\n",
       "       [0.    ],\n",
       "       [0.03  ],\n",
       "       [0.015 ],\n",
       "       [0.0225],\n",
       "       [0.    ],\n",
       "       [0.    ],\n",
       "       [0.    ],\n",
       "       [0.0425],\n",
       "       [0.    ],\n",
       "       [0.0375],\n",
       "       [0.    ],\n",
       "       [0.    ],\n",
       "       [0.0375],\n",
       "       [0.    ],\n",
       "       [0.0475],\n",
       "       [0.    ],\n",
       "       [0.    ],\n",
       "       [0.04  ],\n",
       "       [0.    ],\n",
       "       [0.0275],\n",
       "       [0.    ],\n",
       "       [0.035 ],\n",
       "       [0.    ],\n",
       "       [0.0625],\n",
       "       [0.0525],\n",
       "       [0.    ],\n",
       "       [0.    ],\n",
       "       [0.01  ],\n",
       "       [0.0225],\n",
       "       [0.035 ],\n",
       "       [0.0825],\n",
       "       [0.0625],\n",
       "       [0.    ],\n",
       "       [0.02  ],\n",
       "       [0.    ],\n",
       "       [0.0425],\n",
       "       [0.    ],\n",
       "       [0.0775],\n",
       "       [0.    ],\n",
       "       [0.0225],\n",
       "       [0.    ],\n",
       "       [0.    ],\n",
       "       [0.0225],\n",
       "       [0.    ],\n",
       "       [0.    ],\n",
       "       [0.0425],\n",
       "       [0.    ],\n",
       "       [0.    ],\n",
       "       [0.    ],\n",
       "       [0.0375],\n",
       "       [0.0075],\n",
       "       [0.    ],\n",
       "       [0.    ],\n",
       "       [0.0275],\n",
       "       [0.    ],\n",
       "       [0.    ],\n",
       "       [0.    ],\n",
       "       [0.005 ],\n",
       "       [0.    ],\n",
       "       [0.0225],\n",
       "       [0.    ],\n",
       "       [0.015 ],\n",
       "       [0.025 ],\n",
       "       [0.0475],\n",
       "       [0.    ],\n",
       "       [0.0275],\n",
       "       [0.    ],\n",
       "       [0.05  ],\n",
       "       [0.0175],\n",
       "       [0.0825],\n",
       "       [0.0625],\n",
       "       [0.    ],\n",
       "       [0.    ],\n",
       "       [0.06  ],\n",
       "       [0.    ],\n",
       "       [0.06  ],\n",
       "       [0.    ],\n",
       "       [0.015 ],\n",
       "       [0.0125],\n",
       "       [0.    ],\n",
       "       [0.0625],\n",
       "       [0.    ],\n",
       "       [0.04  ],\n",
       "       [0.    ],\n",
       "       [0.0125],\n",
       "       [0.0225],\n",
       "       [0.045 ],\n",
       "       [0.035 ],\n",
       "       [0.    ],\n",
       "       [0.    ],\n",
       "       [0.    ],\n",
       "       [0.0375],\n",
       "       [0.    ],\n",
       "       [0.01  ],\n",
       "       [0.045 ],\n",
       "       [0.05  ],\n",
       "       [0.0925],\n",
       "       [0.    ],\n",
       "       [0.    ],\n",
       "       [0.05  ],\n",
       "       [0.    ],\n",
       "       [0.    ],\n",
       "       [0.0475],\n",
       "       [0.    ],\n",
       "       [0.    ],\n",
       "       [0.    ],\n",
       "       [0.0625],\n",
       "       [0.    ],\n",
       "       [0.11  ],\n",
       "       [0.    ],\n",
       "       [0.035 ],\n",
       "       [0.02  ],\n",
       "       [0.0125],\n",
       "       [0.05  ],\n",
       "       [0.0175],\n",
       "       [0.    ],\n",
       "       [0.065 ],\n",
       "       [0.0425],\n",
       "       [0.0375],\n",
       "       [0.015 ],\n",
       "       [0.    ],\n",
       "       [0.    ],\n",
       "       [0.0225],\n",
       "       [0.0175],\n",
       "       [0.035 ],\n",
       "       [0.0725],\n",
       "       [0.    ],\n",
       "       [0.0275],\n",
       "       [0.035 ],\n",
       "       [0.    ],\n",
       "       [0.    ],\n",
       "       [0.0175],\n",
       "       [0.045 ],\n",
       "       [0.0225],\n",
       "       [0.0175],\n",
       "       [0.095 ],\n",
       "       [0.0125],\n",
       "       [0.    ],\n",
       "       [0.03  ],\n",
       "       [0.    ],\n",
       "       [0.    ],\n",
       "       [0.    ],\n",
       "       [0.045 ],\n",
       "       [0.015 ],\n",
       "       [0.0375],\n",
       "       [0.0275],\n",
       "       [0.0225],\n",
       "       [0.0275],\n",
       "       [0.0675],\n",
       "       [0.0325],\n",
       "       [0.035 ],\n",
       "       [0.005 ],\n",
       "       [0.015 ],\n",
       "       [0.    ],\n",
       "       [0.0375],\n",
       "       [0.02  ],\n",
       "       [0.    ],\n",
       "       [0.03  ],\n",
       "       [0.0325],\n",
       "       [0.    ],\n",
       "       [0.03  ],\n",
       "       [0.    ],\n",
       "       [0.    ],\n",
       "       [0.0275],\n",
       "       [0.015 ],\n",
       "       [0.    ],\n",
       "       [0.    ],\n",
       "       [0.08  ],\n",
       "       [0.    ],\n",
       "       [0.0325],\n",
       "       [0.03  ],\n",
       "       [0.    ],\n",
       "       [0.    ],\n",
       "       [0.0275],\n",
       "       [0.    ],\n",
       "       [0.05  ],\n",
       "       [0.    ],\n",
       "       [0.04  ],\n",
       "       [0.0275],\n",
       "       [0.    ]])"
      ]
     },
     "execution_count": 37,
     "metadata": {},
     "output_type": "execute_result"
    }
   ],
   "source": [
    "# Do below 1000 times and build distribution for each cell- get mean and std dev\n",
    "# Below is for one cell in a session- 2nd cell\n",
    "percent_active_trials=np.zeros((1000,1))\n",
    "for n in range(0,1000,1):\n",
    "    ind=rand_parts(seq,20,20)\n",
    "    active_trials=[]\n",
    "    for i in np.arange(0,20,1):\n",
    "        temp_df=bin_aliTraceNoBlocks['ali24_d5_s1'].loc[ind[i],1]\n",
    "        active_trials.append(np.array(np.where(temp_df==1)).size)\n",
    "#percent_active_trials=active_trials/20*100\n",
    "    percent_active_trials[n]=np.sum(active_trials)/400\n",
    "percent_active_trials"
   ]
  },
  {
   "cell_type": "code",
   "execution_count": 38,
   "metadata": {},
   "outputs": [
    {
     "name": "stdout",
     "output_type": "stream",
     "text": [
      "[0]\n",
      "[0, 0]\n",
      "[0, 0, 0]\n",
      "[0, 0, 0, 0]\n",
      "[0, 0, 0, 0, 0]\n",
      "[0, 0, 0, 0, 0, 0]\n",
      "[0, 0, 0, 0, 0, 0, 0]\n",
      "[0, 0, 0, 0, 0, 0, 0, 4]\n",
      "[0, 0, 0, 0, 0, 0, 0, 4, 0]\n",
      "[0, 0, 0, 0, 0, 0, 0, 4, 0, 0]\n",
      "[0, 0, 0, 0, 0, 0, 0, 4, 0, 0, 0]\n",
      "[0, 0, 0, 0, 0, 0, 0, 4, 0, 0, 0, 0]\n",
      "[0, 0, 0, 0, 0, 0, 0, 4, 0, 0, 0, 0, 0]\n",
      "[0, 0, 0, 0, 0, 0, 0, 4, 0, 0, 0, 0, 0, 0]\n",
      "[0, 0, 0, 0, 0, 0, 0, 4, 0, 0, 0, 0, 0, 0, 0]\n",
      "[0, 0, 0, 0, 0, 0, 0, 4, 0, 0, 0, 0, 0, 0, 0, 0]\n",
      "[0, 0, 0, 0, 0, 0, 0, 4, 0, 0, 0, 0, 0, 0, 0, 0, 0]\n",
      "[0, 0, 0, 0, 0, 0, 0, 4, 0, 0, 0, 0, 0, 0, 0, 0, 0, 0]\n",
      "[0, 0, 0, 0, 0, 0, 0, 4, 0, 0, 0, 0, 0, 0, 0, 0, 0, 0, 0]\n",
      "[0, 0, 0, 0, 0, 0, 0, 4, 0, 0, 0, 0, 0, 0, 0, 0, 0, 0, 0, 0]\n",
      "0.2\n"
     ]
    }
   ],
   "source": [
    "# Do below 1000 times and build distribution for each cell- get mean and std dev\n",
    "# Below is for one cell in a session- 2nd cell\n",
    "\n",
    "ind=rand_parts(seq,20,20)\n",
    "active_trials=[]\n",
    "for i in np.arange(0,20,1):\n",
    "    temp_df=bin_aliTraceNoBlocks['ali24_d5_s1'].loc[ind[i],100]\n",
    "    a= np.array(np.where(temp_df==1)).size\n",
    "   \n",
    "    active_trials.append(a)\n",
    "    print(active_trials)\n",
    "print(np.mean(active_trials))"
   ]
  },
  {
   "cell_type": "code",
   "execution_count": 39,
   "metadata": {},
   "outputs": [
    {
     "data": {
      "text/plain": [
       "[1, 1, 0, 1, 0, 1, 1, 1, 1, 1, 1, 1, 0]"
      ]
     },
     "execution_count": 39,
     "metadata": {},
     "output_type": "execute_result"
    }
   ],
   "source": [
    "a=np.array([2,1,0,1,0,3,4,2,1,1,1,1,0])\n",
    "active_trials=[]\n",
    "for i in np.arange(0,a.shape[0],1):\n",
    "    if a[i]>1:\n",
    "        active_trials.append(1)\n",
    "    else:\n",
    "        active_trials.append(a[i])\n",
    "active_trials"
   ]
  },
  {
   "cell_type": "code",
   "execution_count": 40,
   "metadata": {},
   "outputs": [
    {
     "data": {
      "text/plain": [
       "(0.0236275, 0.028616821866692323)"
      ]
     },
     "execution_count": 40,
     "metadata": {},
     "output_type": "execute_result"
    }
   ],
   "source": [
    "np.mean(percent_active_trials),np.std(percent_active_trials)"
   ]
  },
  {
   "cell_type": "code",
   "execution_count": 41,
   "metadata": {},
   "outputs": [
    {
     "data": {
      "text/plain": [
       "0.08086114373338464"
      ]
     },
     "execution_count": 41,
     "metadata": {},
     "output_type": "execute_result"
    }
   ],
   "source": [
    "np.mean(percent_active_trials)+2*np.std(percent_active_trials)"
   ]
  },
  {
   "cell_type": "code",
   "execution_count": 42,
   "metadata": {},
   "outputs": [
    {
     "data": {
      "text/plain": [
       "(1000, 1)"
      ]
     },
     "execution_count": 42,
     "metadata": {},
     "output_type": "execute_result"
    }
   ],
   "source": [
    "percent_active_trials.shape"
   ]
  },
  {
   "cell_type": "markdown",
   "metadata": {},
   "source": [
    "## Method 2- Sum over 20 frames and then take mean "
   ]
  },
  {
   "cell_type": "code",
   "execution_count": 43,
   "metadata": {},
   "outputs": [
    {
     "name": "stdout",
     "output_type": "stream",
     "text": [
      "0\n",
      "1\n",
      "2\n",
      "3\n",
      "4\n",
      "5\n",
      "6\n",
      "7\n",
      "8\n",
      "9\n",
      "[2.0722170616478337, 1.5822569028544715, 2.212930494740787, 1.6068363305332183, 1.4761771967234898, 1.7855341477745235, 1.8588980857283874, 1.662757127194729, 2.0087794333196514, 0.7484779528742385]\n",
      "[2.0, 1.55, 2.1, 1.6, 1.5, 1.75, 1.9, 1.65, 2.0, 0.95]\n",
      "192.5136013031006\n"
     ]
    }
   ],
   "source": [
    "# Alternative way .look for each segment - add all 1's take mean across 20 trials ?\n",
    "\n",
    "import time\n",
    "start = time.time()\n",
    "\n",
    "percent_active_trials=np.zeros((1000,1))\n",
    "threshold=[]\n",
    "threshold2=[]\n",
    "for cell in range(0,10,1):\n",
    "    print(cell)\n",
    "    for n in range(0,1000,1):\n",
    "        ind=rand_parts(seq,20,20)\n",
    "        active_trials=[]\n",
    "        for i in np.arange(0,20,1):\n",
    "            temp_df=bin_aliTraceNoBlocks['ali24_d5_s1'].loc[ind[i],cell]\n",
    "            active_trials.append(np.array(np.where(temp_df==1)).size)\n",
    "#percent_active_trials=active_trials/20*100\n",
    "        percent_active_trials[n]=np.mean(active_trials)\n",
    "    threshold.append(np.mean(percent_active_trials)+2*np.std(percent_active_trials))\n",
    "    threshold2.append(np.percentile(percent_active_trials,95))\n",
    "    \n",
    "print(threshold)\n",
    "print(threshold2)\n",
    "end = time.time()\n",
    "print(end - start)"
   ]
  },
  {
   "cell_type": "markdown",
   "metadata": {},
   "source": [
    "# Actual active trials "
   ]
  },
  {
   "cell_type": "code",
   "execution_count": 44,
   "metadata": {},
   "outputs": [
    {
     "data": {
      "text/plain": [
       "array([2.05, 1.65, 1.25, 0.  , 0.  , 5.55, 1.75, 1.65, 2.35, 0.5 , 0.25,\n",
       "       0.  , 0.35, 0.5 , 0.  , 0.  , 0.  , 0.75, 0.75, 2.65, 0.65, 0.  ,\n",
       "       1.9 , 1.4 , 0.6 , 2.05, 0.  , 2.45, 0.95, 0.5 , 0.  , 1.3 , 0.5 ,\n",
       "       0.  , 0.  , 0.35, 0.  , 0.  , 0.9 , 3.4 , 2.85, 3.15, 1.4 , 2.9 ,\n",
       "       0.  , 1.3 , 0.45, 0.1 , 0.95, 1.25, 1.45, 0.4 , 0.05, 0.  , 0.  ,\n",
       "       2.35, 2.95, 0.7 , 0.65, 1.75, 2.7 , 0.65, 0.  , 1.4 , 2.15, 2.6 ,\n",
       "       2.6 , 0.3 , 0.  , 0.05, 0.05, 0.  , 0.  , 1.4 , 1.95, 1.75, 0.  ,\n",
       "       0.  , 1.65, 0.9 , 1.85, 2.95, 1.05, 2.9 , 2.4 , 0.8 , 1.35, 0.05,\n",
       "       2.55, 1.45, 0.  , 0.  , 0.9 , 0.  , 0.8 , 0.  , 0.  , 0.4 , 0.45,\n",
       "       0.  , 0.45, 0.  , 0.  , 1.1 , 0.65, 2.25, 2.75, 0.  , 1.6 , 0.3 ,\n",
       "       0.  , 0.  , 1.  , 1.2 , 0.  , 0.75, 1.5 , 0.3 , 0.4 , 0.45, 1.7 ,\n",
       "       1.05, 2.25, 1.1 , 0.  , 1.4 , 1.75, 1.4 , 0.  , 0.  , 1.25, 3.35,\n",
       "       0.8 , 1.15, 0.7 , 0.75, 0.9 , 0.  , 0.  , 1.05, 0.  , 1.05, 0.65,\n",
       "       1.8 , 0.  , 2.  , 1.45, 2.2 , 1.5 , 1.25, 2.4 , 1.6 , 1.6 , 0.55,\n",
       "       0.75, 0.  , 0.  , 1.35, 2.6 , 4.65, 1.85, 1.9 , 2.65, 2.35, 3.35,\n",
       "       1.7 , 1.2 , 0.5 , 1.95, 1.3 , 1.8 , 1.1 , 1.2 , 0.35, 0.  , 0.7 ,\n",
       "       1.4 , 1.25, 0.8 , 0.9 , 1.25, 0.55, 1.85, 0.25, 1.3 , 0.  , 0.  ,\n",
       "       0.  , 2.25, 0.45, 0.2 , 0.05, 1.7 , 0.95, 0.  , 0.  , 1.  , 0.  ,\n",
       "       0.  , 0.55, 2.3 , 2.35, 2.  , 0.25, 2.2 , 0.  , 0.2 , 1.3 , 0.  ,\n",
       "       1.55, 3.2 , 0.25, 1.05, 1.25, 0.45, 0.65, 0.  , 0.  , 0.  , 1.  ,\n",
       "       1.4 , 2.25, 0.  , 0.  , 0.  , 1.1 , 0.  , 0.  , 0.55, 1.15, 0.15,\n",
       "       0.  , 3.15, 1.05, 0.75, 0.  , 0.9 , 0.  , 0.2 , 0.  , 0.1 , 2.05,\n",
       "       1.75, 0.05, 0.25, 1.45, 1.45, 0.  , 0.1 , 0.05, 0.  , 0.  , 0.35,\n",
       "       1.35, 0.3 , 0.  , 0.  , 0.  , 0.  , 3.45, 0.  , 0.75, 1.85, 2.05,\n",
       "       2.15, 0.8 , 0.8 , 0.  , 1.75, 1.4 , 0.6 , 1.9 , 0.55, 0.  , 0.3 ,\n",
       "       3.65, 0.45, 2.2 , 0.3 , 0.75, 0.45, 0.3 , 0.55, 0.95, 0.  , 0.  ,\n",
       "       0.65, 1.6 , 0.  , 0.  , 1.05, 1.25, 0.  , 1.05, 0.  , 0.35, 0.25,\n",
       "       0.  , 0.  , 2.05, 0.  ])"
      ]
     },
     "execution_count": 44,
     "metadata": {},
     "output_type": "execute_result"
    }
   ],
   "source": [
    "# Compare 2nd cell firing rate in first 20 trials to above mean + 2std dev\n",
    "Nfirst=20\n",
    "Ntrials=40\n",
    "mouse_df=bin_aliTraceBlocks['ali24_d5_s1'].loc[:, bin_aliTraceBlocks['ali24_d5_s1'].columns.get_level_values('trial').isin(range(Nfirst,Ntrials))]\n",
    "trials = mouse_df.columns.unique('trial')\n",
    "Ntrials = trials.shape[0]\n",
    "cells = mouse_df.columns.unique('cell_num')\n",
    "Ncells = cells.shape[0]\n",
    "tone_time=40\n",
    "window_end = 60\n",
    "out_bin= np.zeros((Ncells))\n",
    "for cell in cells:\n",
    "    active_trials=[]\n",
    "    for trial in trials:\n",
    "        temp_df=mouse_df[trial].loc[tone_time:window_end,cell]\n",
    "        a=np.array(np.where(temp_df==1))\n",
    "        active_trials.append(a.size)\n",
    "    #print(active_trials)\n",
    "    out_bin[cell]=np.mean(active_trials)\n",
    "\n",
    "out_bin"
   ]
  },
  {
   "cell_type": "code",
   "execution_count": 49,
   "metadata": {},
   "outputs": [
    {
     "data": {
      "text/plain": [
       "array([ True,  True, False, False, False,  True, False, False,  True,\n",
       "       False])"
      ]
     },
     "execution_count": 49,
     "metadata": {},
     "output_type": "execute_result"
    }
   ],
   "source": [
    "out_bin[0:10]>threshold2"
   ]
  },
  {
   "cell_type": "markdown",
   "metadata": {},
   "source": [
    "## Method  - sum 20 frames then mean across"
   ]
  },
  {
   "cell_type": "code",
   "execution_count": 50,
   "metadata": {},
   "outputs": [],
   "source": [
    "#Do below 1000 times and build distribution for each cell- get mean and std dev\n",
    "\n",
    "\n",
    "def get_threshold_cell_wise(mouse_df):\n",
    "    percent_active_trials=np.zeros((1000,1))\n",
    "    # threshold as mean+ 2 std dev of background distribution\n",
    "    threshold=[]\n",
    "    threshold2=[]\n",
    "    cells = mouse_df.columns.unique('cell_num')\n",
    "    Ncells = cells.shape[0]\n",
    "    print(Ncells)\n",
    "    seq=np.arange(0,mouse_df.shape[0],1)\n",
    "    for cell in range(0,Ncells,1):\n",
    "        #Repeat the shuffle 1000 times\n",
    "        for n in range(0,1000,1):\n",
    "            # 20 segments of 20 frames (non-overlapping) randomly picked.\n",
    "            ind=rand_parts(seq,20,20)\n",
    "            active_trials=[]\n",
    "            for i in np.arange(0,20,1):\n",
    "                temp_df=mouse_df.loc[ind[i],cell]\n",
    "                a= np.array(np.where(temp_df==1)).size\n",
    "                active_trials.append(a)\n",
    "            percent_active_trials[n]=np.mean(active_trials)\n",
    "       \n",
    "        threshold.append(np.percentile(percent_active_trials,95))\n",
    "    threshold=np.array(threshold)\n",
    "    \n",
    "    print('Done calculating thresholds')\n",
    "    return threshold"
   ]
  },
  {
   "cell_type": "code",
   "execution_count": 51,
   "metadata": {},
   "outputs": [
    {
     "name": "stdout",
     "output_type": "stream",
     "text": [
      "301\n",
      "Done calculating thresholds\n",
      "133\n",
      "Done calculating thresholds\n",
      "419\n",
      "Done calculating thresholds\n"
     ]
    }
   ],
   "source": [
    "threshold_ali24=get_threshold_cell_wise(bin_aliTraceNoBlocks['ali24_d5_s1'])\n",
    "threshold_ali25=get_threshold_cell_wise(bin_aliTraceNoBlocks['ali25_d5_s1'])\n",
    "threshold_ali26=get_threshold_cell_wise(bin_aliTraceNoBlocks['ali26_d5_s1'])"
   ]
  },
  {
   "cell_type": "code",
   "execution_count": 52,
   "metadata": {},
   "outputs": [
    {
     "data": {
      "text/plain": [
       "(1.4912292358803982, 1.2355451127819548, 1.386754176610978)"
      ]
     },
     "execution_count": 52,
     "metadata": {},
     "output_type": "execute_result"
    }
   ],
   "source": [
    "np.mean(threshold_ali24),np.mean(threshold_ali25),np.mean(threshold_ali26)"
   ]
  },
  {
   "cell_type": "code",
   "execution_count": 53,
   "metadata": {},
   "outputs": [
    {
     "data": {
      "text/plain": [
       "(0.4112107161769397, 0.48411062342113276, 0.428804356143581)"
      ]
     },
     "execution_count": 53,
     "metadata": {},
     "output_type": "execute_result"
    }
   ],
   "source": [
    "np.std(threshold_ali24),np.std(threshold_ali25),np.std(threshold_ali26)"
   ]
  },
  {
   "cell_type": "code",
   "execution_count": 54,
   "metadata": {},
   "outputs": [
    {
     "name": "stdout",
     "output_type": "stream",
     "text": [
      "306\n",
      "Done calculating thresholds\n",
      "266\n",
      "Done calculating thresholds\n"
     ]
    }
   ],
   "source": [
    "threshold_2982=get_threshold_cell_wise(bin_rTraceNoBlocks['2982_d9_s1'])\n",
    "threshold_4540=get_threshold_cell_wise(bin_rTraceNoBlocks['4540_d9_s1'])"
   ]
  },
  {
   "cell_type": "code",
   "execution_count": 55,
   "metadata": {},
   "outputs": [
    {
     "data": {
      "text/plain": [
       "(0.9876797385620912, 1.2296710526315786)"
      ]
     },
     "execution_count": 55,
     "metadata": {},
     "output_type": "execute_result"
    }
   ],
   "source": [
    "np.mean(threshold_2982),np.mean(threshold_4540)"
   ]
  },
  {
   "cell_type": "code",
   "execution_count": 56,
   "metadata": {},
   "outputs": [
    {
     "name": "stdout",
     "output_type": "stream",
     "text": [
      "127\n",
      "Done calculating thresholds\n",
      "141\n",
      "Done calculating thresholds\n",
      "153\n",
      "Done calculating thresholds\n",
      "75\n",
      "Done calculating thresholds\n"
     ]
    }
   ],
   "source": [
    "threshold_2712=get_threshold_cell_wise(bin_nrTraceNoBlocks['2712_d5_s1'])\n",
    "threshold_2713=get_threshold_cell_wise(bin_nrTraceNoBlocks['2713_d5_s1'])\n",
    "threshold_2714=get_threshold_cell_wise(bin_nrTraceNoBlocks['2714_d5_s1'])\n",
    "threshold_8089=get_threshold_cell_wise(bin_nrTraceNoBlocks['8089_d5_s1'])"
   ]
  },
  {
   "cell_type": "code",
   "execution_count": 57,
   "metadata": {},
   "outputs": [
    {
     "data": {
      "text/plain": [
       "(1.1862795275590545, 1.3252304964539003, 1.1879084967320257, 1.545733333333333)"
      ]
     },
     "execution_count": 57,
     "metadata": {},
     "output_type": "execute_result"
    }
   ],
   "source": [
    "np.mean(threshold_2712),np.mean(threshold_2713),np.mean(threshold_2714),np.mean(threshold_8089)"
   ]
  },
  {
   "cell_type": "markdown",
   "metadata": {},
   "source": [
    "## Extinction session"
   ]
  },
  {
   "cell_type": "code",
   "execution_count": 58,
   "metadata": {},
   "outputs": [
    {
     "name": "stdout",
     "output_type": "stream",
     "text": [
      "301\n",
      "Done calculating thresholds\n",
      "133\n",
      "Done calculating thresholds\n",
      "419\n",
      "Done calculating thresholds\n"
     ]
    }
   ],
   "source": [
    "threshold_ali24_EX=get_threshold_cell_wise(bin_aliTraceNoBlocks['ali24_d5_s2'])\n",
    "threshold_ali25_EX=get_threshold_cell_wise(bin_aliTraceNoBlocks['ali25_d5_s2'])\n",
    "threshold_ali26_EX=get_threshold_cell_wise(bin_aliTraceNoBlocks['ali26_d5_s2'])"
   ]
  },
  {
   "cell_type": "code",
   "execution_count": 67,
   "metadata": {},
   "outputs": [],
   "source": [
    "## Save all the thresholds for last day/EX in a .h5 file\n",
    "f1 = h5py.File(\"Thresholds_CS_EX.h5\", \"w\")\n",
    "dset1 = f1.create_dataset(\"/Ali_24\", data=threshold_ali24)\n",
    "dset1 = f1.create_dataset(\"/Ali_24_EX\", data=threshold_ali24_EX)\n",
    "dset1 = f1.create_dataset(\"/Ali_25\", data=threshold_ali25)\n",
    "dset1 = f1.create_dataset(\"/Ali_25_EX\", data=threshold_ali25_EX)\n",
    "dset1 = f1.create_dataset(\"/Ali_26\", data=threshold_ali26)\n",
    "dset1 = f1.create_dataset(\"/Ali_26_EX\", data=threshold_ali26_EX)\n",
    "dset1 = f1.create_dataset(\"/2982\", data=threshold_2982)\n",
    "dset1 = f1.create_dataset(\"/4540\", data=threshold_4540)\n",
    "dset1 = f1.create_dataset(\"/2712\", data=threshold_2712)\n",
    "dset1 = f1.create_dataset(\"/2713\", data=threshold_2713)\n",
    "dset1 = f1.create_dataset(\"/2714\", data=threshold_2714)\n",
    "dset1 = f1.create_dataset(\"/8089\", data=threshold_8089)\n",
    "list(f1.keys())\n",
    "f1.close()"
   ]
  },
  {
   "cell_type": "markdown",
   "metadata": {},
   "source": [
    "## First training session"
   ]
  },
  {
   "cell_type": "markdown",
   "metadata": {},
   "source": [
    "### Loading binary traces for first sessions "
   ]
  },
  {
   "cell_type": "code",
   "execution_count": 59,
   "metadata": {},
   "outputs": [],
   "source": [
    "def makeAliFilenames_modified(mouse_numbers, mouse_days, mouse_sessions):\n",
    "    #Input lists of mouse numbers, days, and sessions to permute to give out directories and dictionary for filename\n",
    "    directories = []\n",
    "    filenames = {}\n",
    "    for m_num in mouse_numbers:\n",
    "        for m_day in mouse_days:\n",
    "            for m_sess in mouse_sessions:\n",
    "                if ((m_day != 2) | (m_sess != 2)): #Skip d2_s2.  Only do d5_s2\n",
    "                    mouse_dir = 'ali{}_d{}_s{}/'.format(m_num, m_day, m_sess)\n",
    "                    directories.append(mouse_dir)\n",
    "                    filenames[mouse_dir] = 'binary_traces.h5'\n",
    "                   \n",
    "    return directories, filenames"
   ]
  },
  {
   "cell_type": "code",
   "execution_count": 60,
   "metadata": {},
   "outputs": [],
   "source": [
    "def makeRebeccaFilenames_modified(mouse_numbers, mouse_days, mouse_sessions):\n",
    "    #Input lists of mouse numbers, days, and sessions to permute to give out directories and dictionary for filename\n",
    "    directories = []\n",
    "    filenames = {}\n",
    "    for m_num in mouse_numbers:\n",
    "        for m_day in mouse_days:\n",
    "            for m_sess in mouse_sessions:\n",
    "                mouse_dir = '{}/{}_d{}_s{}/'.format(m_num, m_num, m_day, m_sess)\n",
    "                directories.append(mouse_dir)\n",
    "                filenames[mouse_dir] = 'binary_traces.h5'\n",
    "    return directories, filenames"
   ]
  },
  {
   "cell_type": "code",
   "execution_count": 61,
   "metadata": {},
   "outputs": [
    {
     "name": "stdout",
     "output_type": "stream",
     "text": [
      "['/mnt/eng_handata/Kyle_Hansen/AliEyeBlink/ali24_d2_s1/binary_traces.h5', '/mnt/eng_handata/Kyle_Hansen/AliEyeBlink/ali25_d2_s1/binary_traces.h5', '/mnt/eng_handata/Kyle_Hansen/AliEyeBlink/ali26_d2_s1/binary_traces.h5', '/mnt/eng_handata/eng_research_handata2/Kyle_Hansen/TonePuff-Rebecca/2982/2982_d1_s1/binary_traces.h5', '/mnt/eng_handata/eng_research_handata2/Kyle_Hansen/TonePuff-Rebecca/4540/4540_d1_s1/binary_traces.h5', '/mnt/eng_handata/eng_research_handata2/Kyle_Hansen/TonePuff_Rebecca2/2712/2712_d1_s1/binary_traces.h5', '/mnt/eng_handata/eng_research_handata2/Kyle_Hansen/TonePuff_Rebecca2/2713/2713_d1_s1/binary_traces.h5', '/mnt/eng_handata/eng_research_handata2/Kyle_Hansen/TonePuff_Rebecca2/2714/2714_d1_s1/binary_traces.h5', '/mnt/eng_handata/eng_research_handata2/Kyle_Hansen/TonePuff_Rebecca2/8089/8089_d1_s1/binary_traces.h5']\n"
     ]
    }
   ],
   "source": [
    "#Initialize Input Values\n",
    "#Ali Mice\n",
    "aliBase = '/mnt/eng_handata/Kyle_Hansen/AliEyeBlink/'\n",
    "aliMice, aliDays, aliSessions = ([24,25,26], [2], [1])\n",
    "aliFolders, aliFilenames = makeAliFilenames_modified(aliMice, aliDays, aliSessions)\n",
    "bin_aliFiles = combineFilenames(aliBase, aliFolders, aliFilenames)\n",
    "#Rebecca Mice\n",
    "rBase = '/mnt/eng_handata/eng_research_handata2/Kyle_Hansen/TonePuff-Rebecca/'\n",
    "rMice, rDays, rSessions = ([2982,4540], [1], [1])\n",
    "rFolders, rFilenames = makeRebeccaFilenames_modified(rMice, rDays, rSessions)\n",
    "bin_rFiles = combineFilenames(rBase, rFolders, rFilenames)\n",
    "#New Rebecca Mice\n",
    "nrBase = '/mnt/eng_handata/eng_research_handata2/Kyle_Hansen/TonePuff_Rebecca2/'\n",
    "nrMice, nrDays, nrSessions = ([2712,2713,2714,8089], [1], [1]) #Also have 2 as full imaging session.  Drop 2714 because of data quality\n",
    "nrFolders, nrFilenames = makeRebeccaFilenames_modified(nrMice, nrDays, nrSessions)\n",
    "bin_nrFiles = combineFilenames(nrBase, nrFolders, nrFilenames)\n",
    "#Combine All Filenames into one List\n",
    "bin_allFiles = bin_aliFiles + bin_rFiles + bin_nrFiles\n",
    "print(bin_allFiles)"
   ]
  },
  {
   "cell_type": "code",
   "execution_count": 77,
   "metadata": {},
   "outputs": [],
   "source": [
    "first_ali_binary_traces=loadbinaryTraces(bin_aliFiles, 'Ali')\n",
    "first_r_binary_traces=loadbinaryTraces(bin_rFiles, 'Rebecca')\n",
    "first_nr_binary_traces=loadbinaryTraces(bin_nrFiles, 'Rebecca')"
   ]
  },
  {
   "cell_type": "code",
   "execution_count": 78,
   "metadata": {},
   "outputs": [
    {
     "name": "stdout",
     "output_type": "stream",
     "text": [
      "Ali Binary Blocks\n",
      "ali24_d2_s1\n",
      "ali25_d2_s1\n",
      "ali26_d2_s1\n",
      "Rebecca Binary Blocks\n",
      "2982_d1_s1\n",
      "4540_d1_s1\n",
      "New Rebecca Binary Blocks\n",
      "2712_d1_s1\n",
      "2713_d1_s1\n",
      "2714_d1_s1\n",
      "8089_d1_s1\n"
     ]
    }
   ],
   "source": [
    "print('Ali Binary Blocks')\n",
    "bin_aliTraceBlocks, bin_aliTraceNoBlocks = makeTraceTrialBlocks(first_ali_binary_traces, aliSounds)\n",
    "#bin_aliTraceBlocks, bin_aliTraceNoBlocks = makeTraceTrialBlocks(aliMatched, aliSounds)\n",
    "print('Rebecca Binary Blocks')\n",
    "bin_rTraceBlocks, bin_rTraceNoBlocks = makeTraceTrialBlocks(first_r_binary_traces, rSounds) \n",
    "print('New Rebecca Binary Blocks')\n",
    "bin_nrTraceBlocks, bin_nrTraceNoBlocks = makeTraceTrialBlocks(first_nr_binary_traces, nrSounds) "
   ]
  },
  {
   "cell_type": "code",
   "execution_count": 79,
   "metadata": {},
   "outputs": [
    {
     "name": "stdout",
     "output_type": "stream",
     "text": [
      "(862,)\n",
      "(761,)\n",
      "(756,)\n",
      "(115,)\n",
      "(187,)\n",
      "(113,)\n",
      "(143,)\n",
      "(234,)\n",
      "(70,)\n"
     ]
    }
   ],
   "source": [
    "print(bin_aliTraceBlocks['ali24_d2_s1'].columns.unique('cell_num').shape)\n",
    "print(bin_aliTraceBlocks['ali25_d2_s1'].columns.unique('cell_num').shape)\n",
    "print(bin_aliTraceBlocks['ali26_d2_s1'].columns.unique('cell_num').shape)\n",
    "print(bin_rTraceBlocks['2982_d1_s1'].columns.unique('cell_num').shape)\n",
    "print(bin_rTraceBlocks['4540_d1_s1'].columns.unique('cell_num').shape)\n",
    "print(bin_nrTraceBlocks['2712_d1_s1'].columns.unique('cell_num').shape)\n",
    "print(bin_nrTraceBlocks['2713_d1_s1'].columns.unique('cell_num').shape)\n",
    "print(bin_nrTraceBlocks['2714_d1_s1'].columns.unique('cell_num').shape)\n",
    "print(bin_nrTraceBlocks['8089_d1_s1'].columns.unique('cell_num').shape)"
   ]
  },
  {
   "cell_type": "code",
   "execution_count": 80,
   "metadata": {},
   "outputs": [
    {
     "data": {
      "text/plain": [
       "3241"
      ]
     },
     "execution_count": 80,
     "metadata": {},
     "output_type": "execute_result"
    }
   ],
   "source": [
    "total_cells_firstday_all = bin_aliTraceBlocks['ali24_d2_s1'].columns.unique('cell_num').shape[0]+bin_aliTraceBlocks['ali25_d2_s1'].columns.unique('cell_num').shape[0]+bin_aliTraceBlocks['ali26_d2_s1'].columns.unique('cell_num').shape[0]+bin_rTraceBlocks['2982_d1_s1'].columns.unique('cell_num').shape[0]+bin_rTraceBlocks['4540_d1_s1'].columns.unique('cell_num').shape[0]+bin_nrTraceBlocks['2712_d1_s1'].columns.unique('cell_num').shape[0]+bin_nrTraceBlocks['2713_d1_s1'].columns.unique('cell_num').shape[0]+bin_nrTraceBlocks['2714_d1_s1'].columns.unique('cell_num').shape[0]+bin_nrTraceBlocks['8089_d1_s1'].columns.unique('cell_num').shape[0]\n",
    "total_cells_firstday_all"
   ]
  },
  {
   "cell_type": "code",
   "execution_count": 81,
   "metadata": {},
   "outputs": [
    {
     "data": {
      "text/plain": [
       "2367"
      ]
     },
     "execution_count": 81,
     "metadata": {},
     "output_type": "execute_result"
    }
   ],
   "source": [
    "total_cells_firstday = bin_aliTraceBlocks['ali24_d2_s1'].columns.unique('cell_num').shape[0]+bin_aliTraceBlocks['ali26_d2_s1'].columns.unique('cell_num').shape[0]+bin_rTraceBlocks['2982_d1_s1'].columns.unique('cell_num').shape[0]+bin_rTraceBlocks['4540_d1_s1'].columns.unique('cell_num').shape[0]+bin_nrTraceBlocks['2713_d1_s1'].columns.unique('cell_num').shape[0]+bin_nrTraceBlocks['2714_d1_s1'].columns.unique('cell_num').shape[0]+bin_nrTraceBlocks['8089_d1_s1'].columns.unique('cell_num').shape[0]\n",
    "total_cells_firstday"
   ]
  },
  {
   "cell_type": "markdown",
   "metadata": {},
   "source": [
    "## Calculating thresholds by shuffling "
   ]
  },
  {
   "cell_type": "code",
   "execution_count": 82,
   "metadata": {},
   "outputs": [
    {
     "name": "stdout",
     "output_type": "stream",
     "text": [
      "862\n",
      "Done calculating thresholds\n",
      "761\n",
      "Done calculating thresholds\n",
      "756\n",
      "Done calculating thresholds\n"
     ]
    }
   ],
   "source": [
    "threshold_ali24_FS=get_threshold_cell_wise(bin_aliTraceNoBlocks['ali24_d2_s1'])\n",
    "threshold_ali25_FS=get_threshold_cell_wise(bin_aliTraceNoBlocks['ali25_d2_s1'])\n",
    "threshold_ali26_FS=get_threshold_cell_wise(bin_aliTraceNoBlocks['ali26_d2_s1'])"
   ]
  },
  {
   "cell_type": "code",
   "execution_count": 83,
   "metadata": {},
   "outputs": [
    {
     "name": "stdout",
     "output_type": "stream",
     "text": [
      "115\n",
      "Done calculating thresholds\n",
      "187\n",
      "Done calculating thresholds\n"
     ]
    }
   ],
   "source": [
    "threshold_2982_FS=get_threshold_cell_wise(bin_rTraceNoBlocks['2982_d1_s1'])\n",
    "threshold_4540_FS=get_threshold_cell_wise(bin_rTraceNoBlocks['4540_d1_s1'])"
   ]
  },
  {
   "cell_type": "code",
   "execution_count": 84,
   "metadata": {},
   "outputs": [
    {
     "name": "stdout",
     "output_type": "stream",
     "text": [
      "113\n",
      "Done calculating thresholds\n",
      "143\n",
      "Done calculating thresholds\n",
      "234\n",
      "Done calculating thresholds\n",
      "70\n",
      "Done calculating thresholds\n"
     ]
    }
   ],
   "source": [
    "threshold_2712_FS=get_threshold_cell_wise(bin_nrTraceNoBlocks['2712_d1_s1'])\n",
    "threshold_2713_FS=get_threshold_cell_wise(bin_nrTraceNoBlocks['2713_d1_s1'])\n",
    "threshold_2714_FS=get_threshold_cell_wise(bin_nrTraceNoBlocks['2714_d1_s1'])\n",
    "threshold_8089_FS=get_threshold_cell_wise(bin_nrTraceNoBlocks['8089_d1_s1'])"
   ]
  },
  {
   "cell_type": "code",
   "execution_count": 85,
   "metadata": {},
   "outputs": [],
   "source": [
    "## Save all the thresholds for last day/EX in a .h5 file\n",
    "f1 = h5py.File(\"Thresholds_FS.h5\", \"w\")\n",
    "dset1 = f1.create_dataset(\"/Ali_24\", data=threshold_ali24_FS)\n",
    "dset1 = f1.create_dataset(\"/Ali_25\", data=threshold_ali25_FS)\n",
    "dset1 = f1.create_dataset(\"/Ali_26\", data=threshold_ali26_FS)\n",
    "dset1 = f1.create_dataset(\"/2982\", data=threshold_2982_FS)\n",
    "dset1 = f1.create_dataset(\"/4540\", data=threshold_4540_FS)\n",
    "dset1 = f1.create_dataset(\"/2712\", data=threshold_2712_FS)\n",
    "dset1 = f1.create_dataset(\"/2713\", data=threshold_2713_FS)\n",
    "dset1 = f1.create_dataset(\"/2714\", data=threshold_2714_FS)\n",
    "dset1 = f1.create_dataset(\"/8089\", data=threshold_8089_FS)\n",
    "list(f1.keys())\n",
    "f1.close()"
   ]
  },
  {
   "cell_type": "markdown",
   "metadata": {},
   "source": [
    "## Day before extinction "
   ]
  },
  {
   "cell_type": "code",
   "execution_count": 86,
   "metadata": {},
   "outputs": [],
   "source": [
    "def makeAliFilenames_modified(mouse_numbers, mouse_days, mouse_sessions):\n",
    "    #Input lists of mouse numbers, days, and sessions to permute to give out directories and dictionary for filename\n",
    "    directories = []\n",
    "    filenames = {}\n",
    "    for m_num in mouse_numbers:\n",
    "        for m_day in mouse_days:\n",
    "            for m_sess in mouse_sessions:\n",
    "                if ((m_day != 2) | (m_sess != 2)): #Skip d2_s2.  Only do d5_s2\n",
    "                    mouse_dir = 'ali{}_d{}_s{}/'.format(m_num, m_day, m_sess)\n",
    "                    directories.append(mouse_dir)\n",
    "                    filenames[mouse_dir] = 'binary_traces.h5'\n",
    "                   \n",
    "    return directories, filenames"
   ]
  },
  {
   "cell_type": "code",
   "execution_count": 87,
   "metadata": {},
   "outputs": [],
   "source": [
    "def makeRebeccaFilenames_modified(mouse_numbers, mouse_days, mouse_sessions):\n",
    "    #Input lists of mouse numbers, days, and sessions to permute to give out directories and dictionary for filename\n",
    "    directories = []\n",
    "    filenames = {}\n",
    "    for m_num in mouse_numbers:\n",
    "        for m_day in mouse_days:\n",
    "            for m_sess in mouse_sessions:\n",
    "                mouse_dir = '{}/{}_d{}_s{}/'.format(m_num, m_num, m_day, m_sess)\n",
    "                directories.append(mouse_dir)\n",
    "                filenames[mouse_dir] = 'binary_traces.h5'\n",
    "    return directories, filenames"
   ]
  },
  {
   "cell_type": "code",
   "execution_count": 88,
   "metadata": {},
   "outputs": [
    {
     "name": "stdout",
     "output_type": "stream",
     "text": [
      "['/mnt/eng_handata/Kyle_Hansen/AliEyeBlink/ali24_d4_s1/binary_traces.h5', '/mnt/eng_handata/Kyle_Hansen/AliEyeBlink/ali25_d4_s1/binary_traces.h5', '/mnt/eng_handata/Kyle_Hansen/AliEyeBlink/ali26_d4_s1/binary_traces.h5', '/mnt/eng_handata/eng_research_handata2/Kyle_Hansen/TonePuff-Rebecca/2982/2982_d8_s1/binary_traces.h5', '/mnt/eng_handata/eng_research_handata2/Kyle_Hansen/TonePuff-Rebecca/4540/4540_d8_s1/binary_traces.h5', '/mnt/eng_handata/eng_research_handata2/Kyle_Hansen/TonePuff_Rebecca2/2712/2712_d4_s1/binary_traces.h5', '/mnt/eng_handata/eng_research_handata2/Kyle_Hansen/TonePuff_Rebecca2/2713/2713_d4_s1/binary_traces.h5', '/mnt/eng_handata/eng_research_handata2/Kyle_Hansen/TonePuff_Rebecca2/2714/2714_d4_s1/binary_traces.h5', '/mnt/eng_handata/eng_research_handata2/Kyle_Hansen/TonePuff_Rebecca2/8089/8089_d4_s1/binary_traces.h5']\n"
     ]
    }
   ],
   "source": [
    "#Initialize Input Values\n",
    "#Ali Mice\n",
    "aliBase = '/mnt/eng_handata/Kyle_Hansen/AliEyeBlink/'\n",
    "aliMice, aliDays, aliSessions = ([24,25,26], [4], [1])\n",
    "aliFolders, aliFilenames = makeAliFilenames_modified(aliMice, aliDays, aliSessions)\n",
    "bin_aliFiles = combineFilenames(aliBase, aliFolders, aliFilenames)\n",
    "#Rebecca Mice\n",
    "rBase = '/mnt/eng_handata/eng_research_handata2/Kyle_Hansen/TonePuff-Rebecca/'\n",
    "rMice, rDays, rSessions = ([2982,4540], [8], [1])\n",
    "rFolders, rFilenames = makeRebeccaFilenames_modified(rMice, rDays, rSessions)\n",
    "bin_rFiles = combineFilenames(rBase, rFolders, rFilenames)\n",
    "#New Rebecca Mice\n",
    "nrBase = '/mnt/eng_handata/eng_research_handata2/Kyle_Hansen/TonePuff_Rebecca2/'\n",
    "nrMice, nrDays, nrSessions = ([2712, 2713,2714,8089], [4], [1]) #Also have 2 as full imaging session.  Drop 2714 because of data quality\n",
    "nrFolders, nrFilenames = makeRebeccaFilenames_modified(nrMice, nrDays, nrSessions)\n",
    "bin_nrFiles = combineFilenames(nrBase, nrFolders, nrFilenames)\n",
    "#Combine All Filenames into one List\n",
    "bin_allFiles = bin_aliFiles + bin_rFiles + bin_nrFiles\n",
    "print(bin_allFiles)"
   ]
  },
  {
   "cell_type": "code",
   "execution_count": 89,
   "metadata": {},
   "outputs": [],
   "source": [
    "def loadbinaryTraces(files, whichData):\n",
    "    #Load all the trace data and normalize traces with baseline adjustments\n",
    "    #Load and doughnut subtract traces\n",
    "    binTraces = loadFiles(files, 'binary_trace', whichData=whichData, multiIndex=True)\n",
    "    \n",
    "    return binTraces"
   ]
  },
  {
   "cell_type": "code",
   "execution_count": 90,
   "metadata": {},
   "outputs": [],
   "source": [
    "ali_binary_traces=loadbinaryTraces(bin_aliFiles, 'Ali')\n",
    "r_binary_traces=loadbinaryTraces(bin_rFiles, 'Rebecca')\n",
    "nr_binary_traces=loadbinaryTraces(bin_nrFiles, 'Rebecca')"
   ]
  },
  {
   "cell_type": "markdown",
   "metadata": {},
   "source": [
    "### Need to load aliSounds,rSounds and nrSounds"
   ]
  },
  {
   "cell_type": "code",
   "execution_count": 91,
   "metadata": {},
   "outputs": [],
   "source": [
    "def makeAliFilenames(mouse_numbers, mouse_days, mouse_sessions):\n",
    "    #Input lists of mouse numbers, days, and sessions to permute to give out directories and dictionary for filename\n",
    "    directories = []\n",
    "    filenames = {}\n",
    "    for m_num in mouse_numbers:\n",
    "        for m_day in mouse_days:\n",
    "            for m_sess in mouse_sessions:\n",
    "                if ((m_day != 2) | (m_sess != 2)): #Skip d2_s2.  Only do d5_s2\n",
    "                    mouse_dir = 'ali{}_d{}_s{}/'.format(m_num, m_day, m_sess)\n",
    "                    directories.append(mouse_dir)\n",
    "                    filenames[mouse_dir] = 'trace_kyleFinal_matched_BinaryVideo.hdf5'\n",
    "                   \n",
    "    return directories, filenames"
   ]
  },
  {
   "cell_type": "code",
   "execution_count": 92,
   "metadata": {},
   "outputs": [],
   "source": [
    "def makeRebeccaFilenames(mouse_numbers, mouse_days, mouse_sessions):\n",
    "    #Input lists of mouse numbers, days, and sessions to permute to give out directories and dictionary for filename\n",
    "    directories = []\n",
    "    filenames = {}\n",
    "    for m_num in mouse_numbers:\n",
    "        for m_day in mouse_days:\n",
    "            for m_sess in mouse_sessions:\n",
    "                mouse_dir = '{}/{}_d{}_s{}/'.format(m_num, m_num, m_day, m_sess)\n",
    "                directories.append(mouse_dir)\n",
    "                filenames[mouse_dir] = 'trace_kyleFinal_BinaryVideo.hdf5'\n",
    "    return directories, filenames"
   ]
  },
  {
   "cell_type": "code",
   "execution_count": 93,
   "metadata": {},
   "outputs": [
    {
     "name": "stdout",
     "output_type": "stream",
     "text": [
      "['/mnt/eng_handata/Kyle_Hansen/AliEyeBlink/ali24_d4_s1/trace_kyleFinal_matched_BinaryVideo.hdf5', '/mnt/eng_handata/Kyle_Hansen/AliEyeBlink/ali24_d4_s2/trace_kyleFinal_matched_BinaryVideo.hdf5', '/mnt/eng_handata/Kyle_Hansen/AliEyeBlink/ali25_d4_s1/trace_kyleFinal_matched_BinaryVideo.hdf5', '/mnt/eng_handata/Kyle_Hansen/AliEyeBlink/ali25_d4_s2/trace_kyleFinal_matched_BinaryVideo.hdf5', '/mnt/eng_handata/Kyle_Hansen/AliEyeBlink/ali26_d4_s1/trace_kyleFinal_matched_BinaryVideo.hdf5', '/mnt/eng_handata/Kyle_Hansen/AliEyeBlink/ali26_d4_s2/trace_kyleFinal_matched_BinaryVideo.hdf5', '/mnt/eng_handata/eng_research_handata2/Kyle_Hansen/TonePuff-Rebecca/2982/2982_d8_s1/trace_kyleFinal_BinaryVideo.hdf5', '/mnt/eng_handata/eng_research_handata2/Kyle_Hansen/TonePuff-Rebecca/4540/4540_d8_s1/trace_kyleFinal_BinaryVideo.hdf5', '/mnt/eng_handata/eng_research_handata2/Kyle_Hansen/TonePuff_Rebecca2/2712/2712_d4_s1/trace_kyleFinal_BinaryVideo.hdf5', '/mnt/eng_handata/eng_research_handata2/Kyle_Hansen/TonePuff_Rebecca2/2713/2713_d4_s1/trace_kyleFinal_BinaryVideo.hdf5', '/mnt/eng_handata/eng_research_handata2/Kyle_Hansen/TonePuff_Rebecca2/2714/2714_d4_s1/trace_kyleFinal_BinaryVideo.hdf5', '/mnt/eng_handata/eng_research_handata2/Kyle_Hansen/TonePuff_Rebecca2/8089/8089_d4_s1/trace_kyleFinal_BinaryVideo.hdf5']\n"
     ]
    }
   ],
   "source": [
    "\n",
    "#Ali Mice\n",
    "aliBase = '/mnt/eng_handata/Kyle_Hansen/AliEyeBlink/'\n",
    "aliMice, aliDays, aliSessions = ([24,25,26], [4], [1,2])\n",
    "aliFolders, aliFilenames = makeAliFilenames(aliMice, aliDays, aliSessions)\n",
    "aliFiles = combineFilenames(aliBase, aliFolders, aliFilenames)\n",
    "#Rebecca Mice\n",
    "rBase = '/mnt/eng_handata/eng_research_handata2/Kyle_Hansen/TonePuff-Rebecca/'\n",
    "rMice, rDays, rSessions = ([2982,4540], [8], [1])\n",
    "rFolders, rFilenames = makeRebeccaFilenames(rMice, rDays, rSessions)\n",
    "rFiles = combineFilenames(rBase, rFolders, rFilenames)\n",
    "#New Rebecca Mic_\n",
    "nrBase = '/mnt/eng_handata/eng_research_handata2/Kyle_Hansen/TonePuff_Rebecca2/'\n",
    "nrMice, nrDays, nrSessions = ([2712, 2713,2714,8089], [4], [1]) #Also have 2 as full imaging session.  Drop 2714 because of data quality\n",
    "nrFolders, nrFilenames = makeRebeccaFilenames(nrMice, nrDays, nrSessions)\n",
    "nrFiles = combineFilenames(nrBase, nrFolders, nrFilenames)\n",
    "#Combine All Filenames into one List\n",
    "allFiles = aliFiles + rFiles + nrFiles\n",
    "print(allFiles)"
   ]
  },
  {
   "cell_type": "code",
   "execution_count": 94,
   "metadata": {},
   "outputs": [],
   "source": [
    "aliSounds = loadFiles(aliFiles, 'binSounds', whichData='Ali')\n",
    "rSounds = loadFiles(rFiles, 'binSounds', whichData='Rebecca')\n",
    "nrSounds = loadFiles(nrFiles, 'binSounds', whichData='Rebecca', fixedSize=39500)\n",
    "sound_traces = pd.concat([aliSounds,rSounds,nrSounds], axis=1)\n",
    "#sound_traces = pd.concat([rSounds,nrSounds], axis=1)"
   ]
  },
  {
   "cell_type": "code",
   "execution_count": 95,
   "metadata": {},
   "outputs": [
    {
     "name": "stdout",
     "output_type": "stream",
     "text": [
      "Ali Binary Blocks\n",
      "ali24_d4_s1\n",
      "ali25_d4_s1\n",
      "ali26_d4_s1\n",
      "Rebecca Binary Blocks\n",
      "2982_d8_s1\n",
      "4540_d8_s1\n",
      "New Rebecca Binary Blocks\n",
      "2712_d4_s1\n",
      "2713_d4_s1\n",
      "2714_d4_s1\n",
      "8089_d4_s1\n"
     ]
    }
   ],
   "source": [
    "print('Ali Binary Blocks')\n",
    "bin_aliTraceBlocks, bin_aliTraceNoBlocks = makeTraceTrialBlocks(ali_binary_traces, aliSounds) \n",
    "print('Rebecca Binary Blocks')\n",
    "bin_rTraceBlocks, bin_rTraceNoBlocks = makeTraceTrialBlocks(r_binary_traces, rSounds) \n",
    "print('New Rebecca Binary Blocks')\n",
    "bin_nrTraceBlocks, bin_nrTraceNoBlocks = makeTraceTrialBlocks(nr_binary_traces, nrSounds) "
   ]
  },
  {
   "cell_type": "code",
   "execution_count": 96,
   "metadata": {},
   "outputs": [
    {
     "name": "stdout",
     "output_type": "stream",
     "text": [
      "(406,)\n",
      "(337,)\n",
      "(584,)\n",
      "(168,)\n",
      "(218,)\n",
      "(159,)\n",
      "(141,)\n",
      "(227,)\n",
      "(108,)\n"
     ]
    }
   ],
   "source": [
    "print(bin_aliTraceBlocks['ali24_d4_s1'].columns.unique('cell_num').shape)\n",
    "print(bin_aliTraceBlocks['ali25_d4_s1'].columns.unique('cell_num').shape)\n",
    "print(bin_aliTraceBlocks['ali26_d4_s1'].columns.unique('cell_num').shape)\n",
    "print(bin_rTraceBlocks['2982_d8_s1'].columns.unique('cell_num').shape)\n",
    "print(bin_rTraceBlocks['4540_d8_s1'].columns.unique('cell_num').shape)\n",
    "print(bin_nrTraceBlocks['2712_d4_s1'].columns.unique('cell_num').shape)\n",
    "print(bin_nrTraceBlocks['2713_d4_s1'].columns.unique('cell_num').shape)\n",
    "print(bin_nrTraceBlocks['2714_d4_s1'].columns.unique('cell_num').shape)\n",
    "print(bin_nrTraceBlocks['8089_d4_s1'].columns.unique('cell_num').shape)"
   ]
  },
  {
   "cell_type": "code",
   "execution_count": 97,
   "metadata": {
    "scrolled": true
   },
   "outputs": [
    {
     "name": "stdout",
     "output_type": "stream",
     "text": [
      "406\n",
      "Done calculating thresholds\n",
      "337\n",
      "Done calculating thresholds\n",
      "584\n",
      "Done calculating thresholds\n"
     ]
    }
   ],
   "source": [
    "threshold_ali24_DB=get_threshold_cell_wise(bin_aliTraceNoBlocks['ali24_d4_s1'])\n",
    "threshold_ali25_DB=get_threshold_cell_wise(bin_aliTraceNoBlocks['ali25_d4_s1'])\n",
    "threshold_ali26_DB=get_threshold_cell_wise(bin_aliTraceNoBlocks['ali26_d4_s1'])"
   ]
  },
  {
   "cell_type": "code",
   "execution_count": 98,
   "metadata": {},
   "outputs": [
    {
     "name": "stdout",
     "output_type": "stream",
     "text": [
      "168\n",
      "Done calculating thresholds\n",
      "218\n",
      "Done calculating thresholds\n"
     ]
    }
   ],
   "source": [
    "threshold_2982_DB=get_threshold_cell_wise(bin_rTraceNoBlocks['2982_d8_s1'])\n",
    "threshold_4540_DB=get_threshold_cell_wise(bin_rTraceNoBlocks['4540_d8_s1'])"
   ]
  },
  {
   "cell_type": "code",
   "execution_count": 99,
   "metadata": {},
   "outputs": [
    {
     "name": "stdout",
     "output_type": "stream",
     "text": [
      "159\n",
      "Done calculating thresholds\n",
      "141\n",
      "Done calculating thresholds\n",
      "227\n",
      "Done calculating thresholds\n",
      "108\n",
      "Done calculating thresholds\n"
     ]
    }
   ],
   "source": [
    "threshold_2712_DB=get_threshold_cell_wise(bin_nrTraceNoBlocks['2712_d4_s1'])\n",
    "threshold_2713_DB=get_threshold_cell_wise(bin_nrTraceNoBlocks['2713_d4_s1'])\n",
    "threshold_2714_DB=get_threshold_cell_wise(bin_nrTraceNoBlocks['2714_d4_s1'])\n",
    "threshold_8089_DB=get_threshold_cell_wise(bin_nrTraceNoBlocks['8089_d4_s1'])"
   ]
  },
  {
   "cell_type": "code",
   "execution_count": 100,
   "metadata": {},
   "outputs": [
    {
     "data": {
      "text/plain": [
       "1852"
      ]
     },
     "execution_count": 100,
     "metadata": {},
     "output_type": "execute_result"
    }
   ],
   "source": [
    "total_cells_day_before = bin_aliTraceBlocks['ali24_d4_s1'].columns.unique('cell_num').shape[0]+bin_aliTraceBlocks['ali26_d4_s1'].columns.unique('cell_num').shape[0]+bin_rTraceBlocks['2982_d8_s1'].columns.unique('cell_num').shape[0]+bin_rTraceBlocks['4540_d8_s1'].columns.unique('cell_num').shape[0]+bin_nrTraceBlocks['2713_d4_s1'].columns.unique('cell_num').shape[0]+bin_nrTraceBlocks['2714_d4_s1'].columns.unique('cell_num').shape[0]+bin_nrTraceBlocks['8089_d4_s1'].columns.unique('cell_num').shape[0]\n",
    "total_cells_day_before"
   ]
  },
  {
   "cell_type": "code",
   "execution_count": 101,
   "metadata": {},
   "outputs": [
    {
     "data": {
      "text/plain": [
       "2348"
      ]
     },
     "execution_count": 101,
     "metadata": {},
     "output_type": "execute_result"
    }
   ],
   "source": [
    "total_cells_day_before_all = bin_aliTraceBlocks['ali24_d4_s1'].columns.unique('cell_num').shape[0]+bin_aliTraceBlocks['ali26_d4_s1'].columns.unique('cell_num').shape[0]+bin_rTraceBlocks['2982_d8_s1'].columns.unique('cell_num').shape[0]+bin_rTraceBlocks['4540_d8_s1'].columns.unique('cell_num').shape[0]+bin_nrTraceBlocks['2713_d4_s1'].columns.unique('cell_num').shape[0]+bin_nrTraceBlocks['2714_d4_s1'].columns.unique('cell_num').shape[0]+bin_nrTraceBlocks['8089_d4_s1'].columns.unique('cell_num').shape[0]+bin_aliTraceBlocks['ali25_d4_s1'].columns.unique('cell_num').shape[0]+bin_nrTraceBlocks['2712_d4_s1'].columns.unique('cell_num').shape[0]\n",
    "total_cells_day_before_all"
   ]
  },
  {
   "cell_type": "code",
   "execution_count": 102,
   "metadata": {},
   "outputs": [],
   "source": [
    "## Save all the thresholds for last day/EX in a .h5 file\n",
    "f1 = h5py.File(\"Thresholds_DB.h5\", \"w\")\n",
    "dset1 = f1.create_dataset(\"/Ali_24\", data=threshold_ali24_DB)\n",
    "dset1 = f1.create_dataset(\"/Ali_25\", data=threshold_ali25_DB)\n",
    "dset1 = f1.create_dataset(\"/Ali_26\", data=threshold_ali26_DB)\n",
    "dset1 = f1.create_dataset(\"/2982\", data=threshold_2982_DB)\n",
    "dset1 = f1.create_dataset(\"/4540\", data=threshold_4540_DB)\n",
    "dset1 = f1.create_dataset(\"/2712\", data=threshold_2712_DB)\n",
    "dset1 = f1.create_dataset(\"/2713\", data=threshold_2713_DB)\n",
    "dset1 = f1.create_dataset(\"/2714\", data=threshold_2714_DB)\n",
    "dset1 = f1.create_dataset(\"/8089\", data=threshold_8089_DB)\n",
    "list(f1.keys())\n",
    "f1.close()"
   ]
  }
 ],
 "metadata": {
  "kernelspec": {
   "display_name": "Python 3",
   "language": "python",
   "name": "python3"
  },
  "language_info": {
   "codemirror_mode": {
    "name": "ipython",
    "version": 3
   },
   "file_extension": ".py",
   "mimetype": "text/x-python",
   "name": "python",
   "nbconvert_exporter": "python",
   "pygments_lexer": "ipython3",
   "version": "3.7.6"
  }
 },
 "nbformat": 4,
 "nbformat_minor": 4
}
