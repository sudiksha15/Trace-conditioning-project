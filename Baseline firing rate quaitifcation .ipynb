{
 "cells": [
  {
   "cell_type": "code",
   "execution_count": 187,
   "metadata": {},
   "outputs": [],
   "source": [
    "import numpy as np\n",
    "import pandas as pd\n",
    "import matplotlib.pyplot as plt\n",
    "import matplotlib.patches as patches\n",
    "#import matplotlib.gridspec as gridspec\n",
    "from matplotlib.colors import LinearSegmentedColormap, ListedColormap\n",
    "import matplotlib.font_manager\n",
    "import random \n",
    "from matplotlib import rcParams, cm\n",
    "import scipy.stats as ss\n",
    "import h5py\n",
    "import glob\n",
    "import seaborn as sns\n",
    "import time\n",
    "import os\n",
    "import itertools\n",
    "import timeit\n",
    "import networkx as nx\n",
    "import collections \n",
    "import scipy.io\n",
    "from matplotlib import gridspec \n",
    "#For ROI Maps\n",
    "from scipy.io import loadmat\n",
    "from skimage import measure\n",
    "from scipy import ndimage\n",
    "\n",
    "#For Fitting Baselines\n",
    "from scipy.optimize import curve_fit\n",
    "\n",
    "#For Clustering\n",
    "from sklearn.cluster.bicluster import SpectralBiclustering"
   ]
  },
  {
   "cell_type": "code",
   "execution_count": 188,
   "metadata": {},
   "outputs": [],
   "source": [
    "%matplotlib inline"
   ]
  },
  {
   "cell_type": "code",
   "execution_count": 189,
   "metadata": {},
   "outputs": [],
   "source": [
    "#matplotlib.font_manager._rebuild()\n",
    "#Set matplotlib fonts for figures\n",
    "rcParams['font.family'] = 'Arial'"
   ]
  },
  {
   "cell_type": "markdown",
   "metadata": {},
   "source": [
    "## Last day of training/extinction "
   ]
  },
  {
   "cell_type": "code",
   "execution_count": 190,
   "metadata": {},
   "outputs": [],
   "source": [
    "def makeAliFilenames(mouse_numbers, mouse_days, mouse_sessions):\n",
    "    #Input lists of mouse numbers, days, and sessions to permute to give out directories and dictionary for filename\n",
    "    directories = []\n",
    "    filenames = {}\n",
    "    for m_num in mouse_numbers:\n",
    "        for m_day in mouse_days:\n",
    "            for m_sess in mouse_sessions:\n",
    "                if ((m_day != 2) | (m_sess != 2)): #Skip d2_s2.  Only do d5_s2\n",
    "                    mouse_dir = 'ali{}_d{}_s{}/'.format(m_num, m_day, m_sess)\n",
    "                    directories.append(mouse_dir)\n",
    "                    if m_day == 2:\n",
    "                        filenames[mouse_dir] = 'trace_kyleFinalwDoughnut_AllBGs_BinaryVideo.hdf5'\n",
    "                         \n",
    "                    else:\n",
    "                        filenames[mouse_dir] = 'trace_matched_final_BinaryVideo.hdf5'\n",
    "    return directories, filenames"
   ]
  },
  {
   "cell_type": "code",
   "execution_count": 191,
   "metadata": {},
   "outputs": [],
   "source": [
    "def makeAliFilenames_modified(mouse_numbers, mouse_days, mouse_sessions):\n",
    "    #Input lists of mouse numbers, days, and sessions to permute to give out directories and dictionary for filename\n",
    "    directories = []\n",
    "    filenames = {}\n",
    "    for m_num in mouse_numbers:\n",
    "        for m_day in mouse_days:\n",
    "            for m_sess in mouse_sessions:\n",
    "                if ((m_day != 2) | (m_sess != 2)): #Skip d2_s2.  Only do d5_s2\n",
    "                    mouse_dir = 'ali{}_d{}_s{}/'.format(m_num, m_day, m_sess)\n",
    "                    directories.append(mouse_dir)\n",
    "                    filenames[mouse_dir] = 'binary_traces_final.h5'\n",
    "                   \n",
    "    return directories, filenames"
   ]
  },
  {
   "cell_type": "code",
   "execution_count": 192,
   "metadata": {},
   "outputs": [],
   "source": [
    "def makeRebeccaFilenames(mouse_numbers, mouse_days, mouse_sessions):\n",
    "    #Input lists of mouse numbers, days, and sessions to permute to give out directories and dictionary for filename\n",
    "    directories = []\n",
    "    filenames = {}\n",
    "    for m_num in mouse_numbers:\n",
    "        for m_day in mouse_days:\n",
    "            for m_sess in mouse_sessions:\n",
    "                mouse_dir = '{}/{}_d{}_s{}/'.format(m_num, m_num, m_day, m_sess)\n",
    "                directories.append(mouse_dir)\n",
    "                if m_day == 1:\n",
    "                    filenames[mouse_dir] = 'trace_kyleFinal_BinaryVideo.hdf5'\n",
    "                else:\n",
    "                    filenames[mouse_dir] = 'trace_final_BinaryVideo.hdf5'\n",
    "                #filenames[mouse_dir] = 'trace_final_BinaryVideo.hdf5'\n",
    "    return directories, filenames"
   ]
  },
  {
   "cell_type": "code",
   "execution_count": 193,
   "metadata": {},
   "outputs": [],
   "source": [
    "def makeRebeccaFilenames_modified(mouse_numbers, mouse_days, mouse_sessions):\n",
    "    #Input lists of mouse numbers, days, and sessions to permute to give out directories and dictionary for filename\n",
    "    directories = []\n",
    "    filenames = {}\n",
    "    for m_num in mouse_numbers:\n",
    "        for m_day in mouse_days:\n",
    "            for m_sess in mouse_sessions:\n",
    "                mouse_dir = '{}/{}_d{}_s{}/'.format(m_num, m_num, m_day, m_sess)\n",
    "                directories.append(mouse_dir)\n",
    "                filenames[mouse_dir] = 'binary_traces_final.h5'\n",
    "    return directories, filenames"
   ]
  },
  {
   "cell_type": "code",
   "execution_count": 194,
   "metadata": {},
   "outputs": [],
   "source": [
    "def combineFilenames(base, dirs, fnDict):\n",
    "    #Combine Filenames into list for multiple directories with a common base.  fnDict is a dictionary of the filename for each directory\n",
    "    outFiles = []\n",
    "    for d in dirs:\n",
    "        outFiles.append(os.path.join(base+d+fnDict[d]))\n",
    "    return outFiles"
   ]
  },
  {
   "cell_type": "code",
   "execution_count": 195,
   "metadata": {},
   "outputs": [
    {
     "name": "stdout",
     "output_type": "stream",
     "text": [
      "['/home/hanlabadmins/eng_handata/Kyle_Hansen/AliEyeBlink/ali24_d2_s1/trace_kyleFinalwDoughnut_AllBGs_BinaryVideo.hdf5', '/home/hanlabadmins/eng_handata/Kyle_Hansen/AliEyeBlink/ali24_d5_s1/trace_matched_final_BinaryVideo.hdf5', '/home/hanlabadmins/eng_handata/Kyle_Hansen/AliEyeBlink/ali24_d5_s2/trace_matched_final_BinaryVideo.hdf5', '/home/hanlabadmins/eng_handata/Kyle_Hansen/AliEyeBlink/ali25_d2_s1/trace_kyleFinalwDoughnut_AllBGs_BinaryVideo.hdf5', '/home/hanlabadmins/eng_handata/Kyle_Hansen/AliEyeBlink/ali25_d5_s1/trace_matched_final_BinaryVideo.hdf5', '/home/hanlabadmins/eng_handata/Kyle_Hansen/AliEyeBlink/ali25_d5_s2/trace_matched_final_BinaryVideo.hdf5', '/home/hanlabadmins/eng_handata/Kyle_Hansen/AliEyeBlink/ali26_d2_s1/trace_kyleFinalwDoughnut_AllBGs_BinaryVideo.hdf5', '/home/hanlabadmins/eng_handata/Kyle_Hansen/AliEyeBlink/ali26_d5_s1/trace_matched_final_BinaryVideo.hdf5', '/home/hanlabadmins/eng_handata/Kyle_Hansen/AliEyeBlink/ali26_d5_s2/trace_matched_final_BinaryVideo.hdf5', '/home/hanlabadmins/eng_handata/eng_research_handata2/Kyle_Hansen/TonePuff-Rebecca/2982/2982_d1_s1/trace_kyleFinal_BinaryVideo.hdf5', '/home/hanlabadmins/eng_handata/eng_research_handata2/Kyle_Hansen/TonePuff-Rebecca/2982/2982_d9_s1/trace_final_BinaryVideo.hdf5', '/home/hanlabadmins/eng_handata/eng_research_handata2/Kyle_Hansen/TonePuff-Rebecca/4540/4540_d1_s1/trace_kyleFinal_BinaryVideo.hdf5', '/home/hanlabadmins/eng_handata/eng_research_handata2/Kyle_Hansen/TonePuff-Rebecca/4540/4540_d9_s1/trace_final_BinaryVideo.hdf5', '/home/hanlabadmins/eng_handata/eng_research_handata2/Kyle_Hansen/TonePuff_Rebecca2/2712/2712_d1_s1/trace_kyleFinal_BinaryVideo.hdf5', '/home/hanlabadmins/eng_handata/eng_research_handata2/Kyle_Hansen/TonePuff_Rebecca2/2712/2712_d5_s1/trace_final_BinaryVideo.hdf5', '/home/hanlabadmins/eng_handata/eng_research_handata2/Kyle_Hansen/TonePuff_Rebecca2/2713/2713_d1_s1/trace_kyleFinal_BinaryVideo.hdf5', '/home/hanlabadmins/eng_handata/eng_research_handata2/Kyle_Hansen/TonePuff_Rebecca2/2713/2713_d5_s1/trace_final_BinaryVideo.hdf5', '/home/hanlabadmins/eng_handata/eng_research_handata2/Kyle_Hansen/TonePuff_Rebecca2/2714/2714_d1_s1/trace_kyleFinal_BinaryVideo.hdf5', '/home/hanlabadmins/eng_handata/eng_research_handata2/Kyle_Hansen/TonePuff_Rebecca2/2714/2714_d5_s1/trace_final_BinaryVideo.hdf5', '/home/hanlabadmins/eng_handata/eng_research_handata2/Kyle_Hansen/TonePuff_Rebecca2/8089/8089_d1_s1/trace_kyleFinal_BinaryVideo.hdf5', '/home/hanlabadmins/eng_handata/eng_research_handata2/Kyle_Hansen/TonePuff_Rebecca2/8089/8089_d5_s1/trace_final_BinaryVideo.hdf5']\n"
     ]
    }
   ],
   "source": [
    "#Initialize Input Values\n",
    "#Ali Mice\n",
    "aliBase = '/home/hanlabadmins/eng_handata/Kyle_Hansen/AliEyeBlink/'\n",
    "aliMice, aliDays, aliSessions = ([24, 25, 26], [2,5], [1,2])\n",
    "aliFolders, aliFilenames = makeAliFilenames(aliMice, aliDays, aliSessions)\n",
    "aliFiles = combineFilenames(aliBase, aliFolders, aliFilenames)\n",
    "#Rebecca Mice\n",
    "rBase = '/home/hanlabadmins/eng_handata/eng_research_handata2/Kyle_Hansen/TonePuff-Rebecca/'\n",
    "\n",
    "rMice, rDays, rSessions = ([2982,4540], [1,9], [1])\n",
    "rFolders, rFilenames = makeRebeccaFilenames(rMice, rDays, rSessions)\n",
    "rFiles = combineFilenames(rBase, rFolders, rFilenames)\n",
    "#New Rebecca Mice\n",
    "nrBase = '/home/hanlabadmins/eng_handata/eng_research_handata2/Kyle_Hansen/TonePuff_Rebecca2/'\n",
    "nrMice, nrDays, nrSessions = ([2712, 2713,2714,8089], [1,5], [1]) #Also have 2 as full imaging session.  Drop 2714 because of data quality\n",
    "nrFolders, nrFilenames = makeRebeccaFilenames(nrMice, nrDays, nrSessions)\n",
    "nrFiles = combineFilenames(nrBase, nrFolders, nrFilenames)\n",
    "#Combine All Filenames into one List\n",
    "allFiles = aliFiles + rFiles + nrFiles\n",
    "print(allFiles)"
   ]
  },
  {
   "cell_type": "markdown",
   "metadata": {},
   "source": [
    "### Load behavior data "
   ]
  },
  {
   "cell_type": "code",
   "execution_count": 196,
   "metadata": {},
   "outputs": [],
   "source": [
    "def loadFiles(allFiles, fieldName, whichData=None, multiIndex=False, fixedSize=None):\n",
    "    #Get File Inputs\n",
    "    firstf = allFiles[0]\n",
    "    firstdir = firstf.split('/')[-2]\n",
    "    f = h5py.File(firstf, 'r')\n",
    "    if multiIndex: #Adjust indexing for first DataFrame if using a multi-index\n",
    "        first_array = np.array(f[fieldName]).T\n",
    "        index_iterables = [[firstdir], range(first_array.shape[1])]\n",
    "        index = pd.MultiIndex.from_product(index_iterables, names=['mouse','cell_num'])\n",
    "        df = pd.DataFrame(data=first_array, columns=index)\n",
    "    else:\n",
    "        if fixedSize == None:\n",
    "            df = pd.DataFrame(data=np.array(f[fieldName]).T, columns=[firstdir])\n",
    "        else:\n",
    "            df = pd.DataFrame(data=np.array(f[fieldName]).T[:(fixedSize)], columns=[firstdir])\n",
    "    \n",
    "    df.index.name='Time'\n",
    "    df_size = df.shape[0] #Determine Size of DataFrame\n",
    "    for f in allFiles[1:]: #Loop through remaining files and add to DataFrame\n",
    "        fdir = f.split('/')[-2] #Current Filename/Dir\n",
    "        f = h5py.File(f, 'r')\n",
    "        if multiIndex: #Iteratively add multiIndexed DataFrames\n",
    "            data_arr = np.array(f[fieldName]).T\n",
    "            index_iterables = [[fdir], range(data_arr.shape[1])]\n",
    "            index = pd.MultiIndex.from_product(index_iterables, names=['mouse', 'cell_num'])\n",
    "            df = df.join(pd.DataFrame(data=data_arr, columns=index))\n",
    "        else:\n",
    "            #print(f)\n",
    "            #print(df.shape)\n",
    "            #print(df_size)\n",
    "            #print(np.array(f[fieldName]).T.shape)\n",
    "            try: #Standard Loading\n",
    "                df.loc[:,fdir] = np.array(f[fieldName]).T \n",
    "            except ValueError: #Exception cases where behavior was different size from other behavior sessions\n",
    "                if (whichData == 'Ali'): #Ali26_d5_s2 and Ali25_d5_s2 are one frame short\n",
    "                    df.loc[:,fdir] = np.insert(np.array(f[fieldName]).T, 0, np.array(f[fieldName]).T.mean())\n",
    "                elif np.array(f[fieldName]).T.shape[0]<df_size:\n",
    "                    temp = np.array(f[fieldName]).T\n",
    "                    df.loc[:,fdir] = np.append(temp, temp.mean().reshape(1,-1), axis=0)\n",
    "                elif (whichData == 'Rebecca'): #2982_d9_s1 is one frame longer\n",
    "                    new_size = np.array(f[fieldName]).shape[1]\n",
    "                    diff_size = abs(new_size-df_size)\n",
    "                    df.loc[:,fdir] = np.array(f[fieldName]).T[:-diff_size]\n",
    "    drop_index = df.index[df.isna().any(axis='columns')]\n",
    "    df = df.drop(drop_index)\n",
    "    return df"
   ]
  },
  {
   "cell_type": "code",
   "execution_count": 197,
   "metadata": {},
   "outputs": [],
   "source": [
    "aliSounds = loadFiles(aliFiles, 'binSounds', whichData='Ali')\n",
    "rSounds = loadFiles(rFiles, 'binSounds', whichData='Rebecca')\n",
    "nrSounds = loadFiles(nrFiles, 'binSounds', whichData='Rebecca', fixedSize=39500)\n",
    "sound_traces = pd.concat([aliSounds,rSounds,nrSounds], axis=1)"
   ]
  },
  {
   "cell_type": "code",
   "execution_count": 198,
   "metadata": {},
   "outputs": [],
   "source": [
    "aliPuffs = loadFiles(aliFiles, 'binPuffs', whichData='Ali')\n",
    "rPuffs = loadFiles(rFiles, 'binPuffs', whichData='Rebecca')\n",
    "nrPuffs = loadFiles(nrFiles, 'binPuffs', whichData='Rebecca', fixedSize=39500)\n",
    "puff_traces = pd.concat([aliPuffs,rPuffs,nrPuffs], axis=1)"
   ]
  },
  {
   "cell_type": "code",
   "execution_count": 84,
   "metadata": {},
   "outputs": [],
   "source": [
    "aliTrials = loadFiles(aliFiles, 'binTrials', whichData='Ali')\n",
    "rTrials = loadFiles(rFiles, 'binTrials', whichData='Rebecca')\n",
    "nrTrials = loadFiles(nrFiles, 'binTrials', whichData='Rebecca', fixedSize=39500)\n",
    "trial_traces = pd.concat([aliTrials,rTrials,nrTrials], axis=1)"
   ]
  },
  {
   "cell_type": "code",
   "execution_count": 14,
   "metadata": {},
   "outputs": [],
   "source": [
    "aliEyeTraces = loadFiles(aliFiles, 'eyeTrace', whichData='Ali')\n",
    "rEyeTraces = loadFiles(rFiles, 'eyeTrace', whichData='Rebecca')\n",
    "nrEyeTraces = loadFiles(nrFiles, 'eyeTrace', whichData='Rebecca', fixedSize=39500)\n",
    "eye_traces = pd.concat([aliEyeTraces,rEyeTraces,nrEyeTraces], axis=1)"
   ]
  },
  {
   "cell_type": "code",
   "execution_count": 15,
   "metadata": {},
   "outputs": [],
   "source": [
    "def linear_func(x, a, b):\n",
    "    return a*x + b"
   ]
  },
  {
   "cell_type": "code",
   "execution_count": 16,
   "metadata": {},
   "outputs": [],
   "source": [
    "def curve_fit_wrapper(y, x, func):\n",
    "    #Wrap curve_fit to match Pandas DataFrame Use and return only parameters, not covariance\n",
    "    return curve_fit(func, x, y)[0]"
   ]
  },
  {
   "cell_type": "code",
   "execution_count": 17,
   "metadata": {},
   "outputs": [],
   "source": [
    "def generate_line_wrapper(params, x, func):\n",
    "    #Apply Funcion in a way that works with Pandas DataFrame\n",
    "    return func(x, *params)"
   ]
  },
  {
   "cell_type": "code",
   "execution_count": 18,
   "metadata": {},
   "outputs": [],
   "source": [
    "def pick_thresh_idx_wrapper(bool_arr):\n",
    "    return bool_arr.index[bool_arr == True][-1]"
   ]
  },
  {
   "cell_type": "code",
   "execution_count": 19,
   "metadata": {},
   "outputs": [],
   "source": [
    "def calcThresholds(trace_df, drop_thresh, pct_fit, make_plots):\n",
    "    #Calculate thresholds for each trace by removing linearized value\n",
    "    #Sort each trace\n",
    "    sorted_traces = trace_df.apply(np.sort, axis=0)\n",
    "    #Calculate indexes for use\n",
    "    Ntot = sorted_traces.shape[0]\n",
    "    Nhalf = np.floor(Ntot/2).astype(int)\n",
    "    Nfit = np.floor(Ntot * pct_fit).astype(int)\n",
    "    fit_start = np.floor((Ntot-Nfit)/2).astype(int)\n",
    "    fit_end = Ntot-fit_start\n",
    "    #Generate X Data and Fit Line\n",
    "    x_tot = np.arange(0, Ntot)\n",
    "    fitted_params = sorted_traces.loc[fit_start:fit_end,:].apply(curve_fit_wrapper, args=(x_tot[fit_start:(fit_end+1)], linear_func)) #Add 1 to fit end because of np/pd differences in indexing\n",
    "    fit_lines = fitted_params.apply(generate_line_wrapper, args=(x_tot, linear_func))\n",
    "    #Adjust traces by fit line and determine thresholds\n",
    "    shift_traces = sorted_traces.subtract(fit_lines)\n",
    "    half_thresh = (shift_traces < drop_thresh).loc[:Nhalf,:]\n",
    "    thresh_idxs = half_thresh.apply(pick_thresh_idx_wrapper)\n",
    "    pick_thresh = []\n",
    "    for idx, col in zip(thresh_idxs, thresh_idxs.index):\n",
    "        pick_thresh.append(sorted_traces.loc[idx, col])\n",
    "    if make_plots: #Make Plots of Interest\n",
    "        #Fixed Plot Parameters\n",
    "        maxWidth = 3.\n",
    "        #Dynamic Parameters\n",
    "        Nplots = sorted_traces.shape[1]\n",
    "        layoutR, layoutC = [np.ceil(Nplots/maxWidth).astype(int), int(min(Nplots, maxWidth))]\n",
    "        all_ax = sorted_traces.plot(subplots=True, figsize=(9,layoutR*5), layout=(layoutR, layoutC), legend=False)\n",
    "        step=0\n",
    "        for ax_row in all_ax:\n",
    "            for sel_ax in ax_row:\n",
    "                fit_lines.iloc[:,step].plot(ax=sel_ax, legend=True, linestyle='--', color='k')\n",
    "                step+=1\n",
    "    return pd.DataFrame(data=np.array(pick_thresh).reshape(1,-1), columns=thresh_idxs.index.tolist())"
   ]
  },
  {
   "cell_type": "code",
   "execution_count": 20,
   "metadata": {},
   "outputs": [],
   "source": [
    "def findPulses(inputTrace):\n",
    "    #Find location of onset and offset of pulses\n",
    "    #inputTrace = 1-D Numpy Array Trace of values assumed to be similar to a train of ttl pulses, where there is a clear onset and offset for each pulse.\n",
    "    #locationTrace = Pseudo-logical 1-D trace, with 1s at pulse onset, and -1s at pulse offset, and 0s everywhere else\n",
    "    \n",
    "    shiftedInput = inputTrace - inputTrace.mean() #Shift to have mean 0 and baseline below 0\n",
    "    changes = np.sign(shiftedInput) #Find where sign changes\n",
    "    locationTrace = np.zeros(inputTrace.shape); #Initialize Output\n",
    "    #locationTrace = np.zeros((behav_df.shape[0]+1,behav_df.shape[1]))\n",
    "    diffArray = np.diff(changes)\n",
    "    locationTrace[np.insert(diffArray==2,0,0)] = 1 #Set onsets to 1\n",
    "    locationTrace[np.insert(diffArray==-2,0,0)] = -1 #Set offsets to -1\n",
    "    return locationTrace"
   ]
  },
  {
   "cell_type": "code",
   "execution_count": 21,
   "metadata": {},
   "outputs": [],
   "source": [
    "def makeBehavTrialBlocks(trace_df, behav_df):\n",
    "    #Make Blocks of Trials for plain index behavior, and return df with those trial blocks removed\n",
    "    #Pre-defined Values\n",
    "    tot_block_time = 201 #201 timepoints is about 10 seconds\n",
    "    before_sound_time = 40 #40 timepoints before the puff 2 seconds\n",
    "    after_sound_time = tot_block_time - before_sound_time - 1 #Time after sound.  Subtract 1 as index between before sound and after sound is included as \"spot\"\n",
    "    #Shorten behav_df to length of trace_df\n",
    "    behav_length = behav_df.shape[0]\n",
    "    trace_length = trace_df.shape[0]\n",
    "    if behav_length > trace_length:\n",
    "        behav_df = behav_df.loc[:(trace_length-1),:]\n",
    "    #Make Trial Blocks for Each Mouse\n",
    "    trace_blocks=[]\n",
    "    trace_noBlocks_df = trace_df.copy()\n",
    "    for mouse in trace_df:\n",
    "        soundPulses = findPulses(behav_df.loc[:,mouse])\n",
    "        sound_on_inds = behav_df.index[soundPulses == 1]\n",
    "        if sound_on_inds[-1]+after_sound_time > trace_df.loc[:,mouse].shape[0]: #Get rid of last pulse on at end of recording\n",
    "            sound_on_inds = sound_on_inds[:-1]\n",
    "        cur_block = np.zeros((sound_on_inds.shape[0], tot_block_time))\n",
    "        for idx, spot in enumerate(sound_on_inds):\n",
    "            cur_block[idx,:] = trace_df.loc[(spot-before_sound_time):(spot+after_sound_time),mouse].values\n",
    "            trace_noBlocks_df.loc[:, mouse] = trace_noBlocks_df.loc[:, mouse].drop(range((spot-before_sound_time), (spot+after_sound_time)))\n",
    "        trace_blocks.append(cur_block)\n",
    "    return np.stack(trace_blocks), trace_noBlocks_df.dropna().reset_index(drop=True)"
   ]
  },
  {
   "cell_type": "code",
   "execution_count": 22,
   "metadata": {},
   "outputs": [],
   "source": [
    "def norm_MA_block(trace_df, windSize, sounds):\n",
    "    #Normalize traces, take moving window of windSize, and make trial blocks\n",
    "    norm_df = (trace_df - trace_df.mean(axis=0)) / trace_df.mean(axis=0)\n",
    "    wind_df = norm_df.subtract(norm_df.rolling(windSize).mean())\n",
    "    blocks, allButBlocks = makeBehavTrialBlocks(wind_df, sounds)\n",
    "    return blocks, allButBlocks"
   ]
  },
  {
   "cell_type": "code",
   "execution_count": 23,
   "metadata": {},
   "outputs": [],
   "source": [
    "aliEyeBlocks, aliAllButEyeBlocks = norm_MA_block(aliEyeTraces, 20, aliSounds)\n",
    "rEyeBlocks, rAllButEyeBlocks = norm_MA_block(rEyeTraces, 20, rSounds)\n",
    "nrEyeBlocks, nrAllButEyeBlocks = norm_MA_block(nrEyeTraces, 20, nrSounds)"
   ]
  },
  {
   "cell_type": "code",
   "execution_count": 24,
   "metadata": {},
   "outputs": [
    {
     "data": {
      "text/html": [
       "<div>\n",
       "<style scoped>\n",
       "    .dataframe tbody tr th:only-of-type {\n",
       "        vertical-align: middle;\n",
       "    }\n",
       "\n",
       "    .dataframe tbody tr th {\n",
       "        vertical-align: top;\n",
       "    }\n",
       "\n",
       "    .dataframe thead th {\n",
       "        text-align: right;\n",
       "    }\n",
       "</style>\n",
       "<table border=\"1\" class=\"dataframe\">\n",
       "  <thead>\n",
       "    <tr style=\"text-align: right;\">\n",
       "      <th></th>\n",
       "      <th>ali24_d5_s1</th>\n",
       "      <th>ali24_d5_s2</th>\n",
       "      <th>ali25_d5_s1</th>\n",
       "      <th>ali25_d5_s2</th>\n",
       "      <th>ali26_d5_s1</th>\n",
       "      <th>ali26_d5_s2</th>\n",
       "    </tr>\n",
       "  </thead>\n",
       "  <tbody>\n",
       "    <tr>\n",
       "      <th>0</th>\n",
       "      <td>-0.083445</td>\n",
       "      <td>-0.049202</td>\n",
       "      <td>-0.106046</td>\n",
       "      <td>-0.044256</td>\n",
       "      <td>-0.046424</td>\n",
       "      <td>-0.060169</td>\n",
       "    </tr>\n",
       "  </tbody>\n",
       "</table>\n",
       "</div>"
      ],
      "text/plain": [
       "   ali24_d5_s1  ali24_d5_s2  ali25_d5_s1  ali25_d5_s2  ali26_d5_s1  \\\n",
       "0    -0.083445    -0.049202    -0.106046    -0.044256    -0.046424   \n",
       "\n",
       "   ali26_d5_s2  \n",
       "0    -0.060169  "
      ]
     },
     "execution_count": 24,
     "metadata": {},
     "output_type": "execute_result"
    }
   ],
   "source": [
    "aliEyeThresholds = calcThresholds(aliAllButEyeBlocks, -0.02, 0.95, 0)\n",
    "aliEyeThresholds"
   ]
  },
  {
   "cell_type": "code",
   "execution_count": 25,
   "metadata": {},
   "outputs": [
    {
     "data": {
      "text/html": [
       "<div>\n",
       "<style scoped>\n",
       "    .dataframe tbody tr th:only-of-type {\n",
       "        vertical-align: middle;\n",
       "    }\n",
       "\n",
       "    .dataframe tbody tr th {\n",
       "        vertical-align: top;\n",
       "    }\n",
       "\n",
       "    .dataframe thead th {\n",
       "        text-align: right;\n",
       "    }\n",
       "</style>\n",
       "<table border=\"1\" class=\"dataframe\">\n",
       "  <thead>\n",
       "    <tr style=\"text-align: right;\">\n",
       "      <th></th>\n",
       "      <th>2982_d9_s1</th>\n",
       "      <th>4540_d9_s1</th>\n",
       "    </tr>\n",
       "  </thead>\n",
       "  <tbody>\n",
       "    <tr>\n",
       "      <th>0</th>\n",
       "      <td>-0.07293</td>\n",
       "      <td>-0.117255</td>\n",
       "    </tr>\n",
       "  </tbody>\n",
       "</table>\n",
       "</div>"
      ],
      "text/plain": [
       "   2982_d9_s1  4540_d9_s1\n",
       "0    -0.07293   -0.117255"
      ]
     },
     "execution_count": 25,
     "metadata": {},
     "output_type": "execute_result"
    }
   ],
   "source": [
    "rEyeThresholds = calcThresholds(rAllButEyeBlocks, -0.02, 0.95, 0)\n",
    "rEyeThresholds"
   ]
  },
  {
   "cell_type": "code",
   "execution_count": 26,
   "metadata": {},
   "outputs": [
    {
     "data": {
      "text/html": [
       "<div>\n",
       "<style scoped>\n",
       "    .dataframe tbody tr th:only-of-type {\n",
       "        vertical-align: middle;\n",
       "    }\n",
       "\n",
       "    .dataframe tbody tr th {\n",
       "        vertical-align: top;\n",
       "    }\n",
       "\n",
       "    .dataframe thead th {\n",
       "        text-align: right;\n",
       "    }\n",
       "</style>\n",
       "<table border=\"1\" class=\"dataframe\">\n",
       "  <thead>\n",
       "    <tr style=\"text-align: right;\">\n",
       "      <th></th>\n",
       "      <th>2712_d5_s1</th>\n",
       "      <th>2713_d5_s1</th>\n",
       "      <th>2714_d5_s1</th>\n",
       "      <th>8089_d5_s1</th>\n",
       "    </tr>\n",
       "  </thead>\n",
       "  <tbody>\n",
       "    <tr>\n",
       "      <th>0</th>\n",
       "      <td>-0.09615</td>\n",
       "      <td>-0.106935</td>\n",
       "      <td>-0.115779</td>\n",
       "      <td>-0.082427</td>\n",
       "    </tr>\n",
       "  </tbody>\n",
       "</table>\n",
       "</div>"
      ],
      "text/plain": [
       "   2712_d5_s1  2713_d5_s1  2714_d5_s1  8089_d5_s1\n",
       "0    -0.09615   -0.106935   -0.115779   -0.082427"
      ]
     },
     "execution_count": 26,
     "metadata": {},
     "output_type": "execute_result"
    }
   ],
   "source": [
    "nrEyeThresholds = calcThresholds(nrAllButEyeBlocks, -0.02, 0.95, 0)\n",
    "nrEyeThresholds"
   ]
  },
  {
   "cell_type": "code",
   "execution_count": 27,
   "metadata": {},
   "outputs": [],
   "source": [
    "def binaryBehaviorScoring(blocks, thresholds, make_plots):\n",
    "    #Take blocks (trial by trial blocks as np.array) and use thresholds (pandas df) to determine values\n",
    "    #Fixed Parameters\n",
    "    start=40\n",
    "    end=52\n",
    "    #Thresholding\n",
    "    blockMins = blocks[:,:,start:end].min(axis=2)\n",
    "    binScoring = pd.DataFrame(columns=thresholds.columns)\n",
    "    for idx, mouse in enumerate(thresholds):\n",
    "        binScoring.loc[:,mouse] = blockMins[idx,:] < thresholds.loc[0,mouse]\n",
    "    if make_plots:\n",
    "        #Fixed Plot Parameters\n",
    "        maxWidth = 2.\n",
    "        endView = 60\n",
    "        cmax = .1\n",
    "        cmin = -.1\n",
    "        #Dynamic Parameters\n",
    "        Nplots = thresholds.shape[1]\n",
    "        layoutR, layoutC = [np.ceil(Nplots/maxWidth).astype(int), int(min(Nplots, maxWidth))]\n",
    "        fig, all_ax = plt.subplots(figsize=(9, layoutR*4), nrows=layoutR, ncols=layoutC)\n",
    "        fig.tight_layout()\n",
    "        try: #Reshape if only one row of axes indexes\n",
    "            all_ax.shape[1]\n",
    "        except:\n",
    "            all_ax = all_ax.reshape(1,-1)\n",
    "        step=0\n",
    "        for ax_row in all_ax:\n",
    "            for sel_ax in ax_row:\n",
    "                if step == Nplots:\n",
    "                    sel_ax.set_axis_off()\n",
    "                else:\n",
    "                    sns.heatmap(blocks[step,:,:endView], ax=sel_ax, vmin=cmin, vmax=cmax, cmap=plt.get_cmap(\"bwr\"))\n",
    "                    sel_ax.axvline(x=start, linestyle='-.', color='k')\n",
    "                    sel_ax.axvline(x=end, linestyle='--', color='k')\n",
    "                    sel_ax.set_title(thresholds.columns[step])\n",
    "                    step+=1\n",
    "    return binScoring"
   ]
  },
  {
   "cell_type": "code",
   "execution_count": 28,
   "metadata": {},
   "outputs": [
    {
     "name": "stderr",
     "output_type": "stream",
     "text": [
      "findfont: Font family ['Arial'] not found. Falling back to DejaVu Sans.\n",
      "findfont: Font family ['Arial'] not found. Falling back to DejaVu Sans.\n"
     ]
    },
    {
     "data": {
      "image/png": "[encoded data removed]",
      "text/plain": [
       "<Figure size 648x864 with 12 Axes>"
      ]
     },
     "metadata": {
      "needs_background": "light"
     },
     "output_type": "display_data"
    },
    {
     "data": {
      "image/png": "[encoded data removed]",
      "text/plain": [
       "<Figure size 648x288 with 4 Axes>"
      ]
     },
     "metadata": {
      "needs_background": "light"
     },
     "output_type": "display_data"
    },
    {
     "data": {
      "image/png": "[encoded data removed]",
      "text/plain": [
       "<Figure size 648x576 with 8 Axes>"
      ]
     },
     "metadata": {
      "needs_background": "light"
     },
     "output_type": "display_data"
    }
   ],
   "source": [
    "aliBehaviorScoring = binaryBehaviorScoring(aliEyeBlocks, aliEyeThresholds, 1)\n",
    "rBehaviorScoring = binaryBehaviorScoring(rEyeBlocks, rEyeThresholds, 1)\n",
    "nrBehaviorScoring = binaryBehaviorScoring(nrEyeBlocks, nrEyeThresholds, 1)"
   ]
  },
  {
   "cell_type": "markdown",
   "metadata": {},
   "source": [
    "### Load traces to make hdf5 files "
   ]
  },
  {
   "cell_type": "code",
   "execution_count": 29,
   "metadata": {},
   "outputs": [],
   "source": [
    "def linear_func(x, a, b):\n",
    "    return a*x + b"
   ]
  },
  {
   "cell_type": "code",
   "execution_count": 30,
   "metadata": {},
   "outputs": [],
   "source": [
    "def curve_fit_wrapper(y, x, func):\n",
    "    #Wrap curve_fit to match Pandas DataFrame Use and return only parameters, not covariance\n",
    "    return curve_fit(func, x, y)[0]"
   ]
  },
  {
   "cell_type": "code",
   "execution_count": 31,
   "metadata": {},
   "outputs": [],
   "source": [
    "def calcBaselineDistributions(df, regress_thresh=0.05, pct_datapoints=0.5):\n",
    "    #Take DataFrame of traces, fit linear baseline, and calculate calcium threshold from devaition of residuals from that fit\n",
    "    #Number of points for linear fit (Default is 0.5, or first half of sorted data)\n",
    "    N_linfit = int(np.floor(df.shape[0]*pct_datapoints))\n",
    "    #Calculate Distribution Fits and Generate Parameters and Outputs Matrix\n",
    "    dist_series = df.apply(lambda x: ss.probplot(x)[0], axis=0)\n",
    "    distributions = pd.DataFrame(data=[dist_series[item] for item in dist_series])\n",
    "    #Rename Columns/Rows, since doesn't work at creation time for some reason...\n",
    "    distributions.columns = ['Theoretical', 'Measured']\n",
    "    distributions.index = dist_series.columns\n",
    "    param_series = distributions.apply(lambda x: curve_fit(linear_func, x['Theoretical'][:N_linfit], x['Measured'][:N_linfit]), axis=1)\n",
    "    distributions[['Parameters','Covariance']] = pd.DataFrame(data=[item for item in param_series], index=distributions.index, columns=['Parameters', 'Covariance'])\n",
    "    distributions['Line'] = distributions.apply(lambda x: linear_func(x['Theoretical'], *x['Parameters']), axis=1)\n",
    "    distributions['Difference'] = distributions.apply(lambda x: (x['Measured'] - x['Line']) / (np.nanmax(x['Measured']) - np.nanmin(x['Measured'])), axis=1)\n",
    "    distributions['Deviation_idx'] = distributions.apply(lambda x: np.argmax(x['Difference'][N_linfit:] > regress_thresh)+N_linfit, axis=1)\n",
    "    distributions['Ca_thresh'] = distributions.apply(lambda x: x['Measured'][x['Deviation_idx']], axis=1)\n",
    "    \n",
    "    return distributions"
   ]
  },
  {
   "cell_type": "code",
   "execution_count": 32,
   "metadata": {},
   "outputs": [],
   "source": [
    "def scaleTraces(df):\n",
    "    #Take DataFrame of traces, subtract off linear baseline and scale by percentage of maximum values for cell\n",
    "    distribution_calculations = calcBaselineDistributions(df)\n",
    "    #Get list of values into DataFrames/Series for scaling\n",
    "    scale_vals = distribution_calculations.loc[:,('Parameters', 'Ca_thresh')].transpose(copy=True)\n",
    "    baseline_list = []\n",
    "    for row in scale_vals.loc['Parameters',:]:\n",
    "        baseline_list.append(row[1])\n",
    "    scale_vals.loc['Baseline',:] = pd.Series(baseline_list, index=scale_vals.columns)\n",
    "    scale_vals.loc['Unit_Val',:] = scale_vals.loc['Ca_thresh',:] - scale_vals.loc['Baseline',:]\n",
    "    #Adjust by subtracting baseline and dividing by scaling unit\n",
    "    scaled_df = (df - scale_vals.loc['Baseline',:]) / scale_vals.loc['Unit_Val',:]\n",
    "    \n",
    "    return scaled_df"
   ]
  },
  {
   "cell_type": "code",
   "execution_count": 33,
   "metadata": {},
   "outputs": [],
   "source": [
    "def loadTraces(files, whichData):\n",
    "    #Load all the trace data and normalize traces with baseline adjustments\n",
    "    #Load and doughnut subtract traces\n",
    "    rawTraces = loadFiles(files, 'trace', whichData=whichData, multiIndex=True)\n",
    "    BGTraces = loadFiles(files, 'BG10trace', whichData=whichData, multiIndex=True)\n",
    "    traces = rawTraces.subtract(BGTraces)\n",
    "    #Adjust Baseline Calculations\n",
    "    scaled_traces= scaleTraces(traces)\n",
    "    #Load Color Info TODO: Add Loading Color Values to loadFiles\n",
    "    #colors = loadFiles(files, 'color', whichData)\n",
    "    \n",
    "    return scaled_traces"
   ]
  },
  {
   "cell_type": "code",
   "execution_count": 34,
   "metadata": {},
   "outputs": [],
   "source": [
    "aliTraces = loadTraces(aliFiles, 'Ali')\n",
    "rTraces = loadTraces(rFiles, 'Rebecca')\n",
    "nrTraces = loadTraces(nrFiles, 'Rebecca')"
   ]
  },
  {
   "cell_type": "markdown",
   "metadata": {},
   "source": [
    "###  Convert to hdf5 files for Rebecca's mice to run event detection"
   ]
  },
  {
   "cell_type": "code",
   "execution_count": 35,
   "metadata": {},
   "outputs": [],
   "source": [
    "# Convert to hdf5 files - r mice\n",
    "traces= nrTraces['2713_d5_s1']\n",
    "f1 = h5py.File(\"traces_2713_n.h5\", \"w\")\n",
    "dset1 = f1.create_dataset(\"/traces\", data=traces)\n",
    "list(f1.keys())\n",
    "f1.close()"
   ]
  },
  {
   "cell_type": "markdown",
   "metadata": {},
   "source": [
    "## Function to make trial blocks"
   ]
  },
  {
   "cell_type": "code",
   "execution_count": 36,
   "metadata": {},
   "outputs": [],
   "source": [
    "def findPulses(inputTrace):\n",
    "    #Find location of onset and offset of pulses\n",
    "    #inputTrace = 1-D Numpy Array Trace of values assumed to be similar to a train of ttl pulses, where there is a clear onset and offset for each pulse.\n",
    "    #locationTrace = Pseudo-logical 1-D trace, with 1s at pulse onset, and -1s at pulse offset, and 0s everywhere else\n",
    "    \n",
    "    shiftedInput = inputTrace - inputTrace.mean() #Shift to have mean 0 and baseline below 0\n",
    "    changes = np.sign(shiftedInput) #Find where sign changes\n",
    "    locationTrace = np.zeros(inputTrace.shape); #Initialize Output\n",
    "    #locationTrace = np.zeros((behav_df.shape[0]+1,behav_df.shape[1]))\n",
    "    diffArray = np.diff(changes)\n",
    "    locationTrace[np.insert(diffArray==2,0,0)] = 1 #Set onsets to 1\n",
    "    locationTrace[np.insert(diffArray==-2,0,0)] = -1 #Set offsets to -1\n",
    "    return locationTrace"
   ]
  },
  {
   "cell_type": "code",
   "execution_count": 37,
   "metadata": {},
   "outputs": [],
   "source": [
    "def makeTraceTrialBlocks(trace_df, behav_df):\n",
    "    #Make Blocks of Trials for Traces (with MultiIndex), and return df with those trial blocks removed\n",
    "    #Pre-defined Values\n",
    "    tot_block_time = 201 #201 timepoints is about 10 seconds\n",
    "    before_sound_time = 40 #40 timepoints before the puff 2 seconds\n",
    "    after_sound_time = tot_block_time - before_sound_time - 1 #Time after sound.  Subtract 1 as index between before sound and after sound is included as \"spot\"\n",
    "    #Shorten behav_df to length of trace_df\n",
    "    behav_length = behav_df.shape[0]\n",
    "    trace_length = trace_df.shape[0]\n",
    "    if behav_length > trace_length:\n",
    "        behav_df = behav_df.loc[:(trace_length-1),:]\n",
    "    #Initialize Lists\n",
    "    trace_blocks=[]\n",
    "    trace_noBlocks=[]\n",
    "    for mouse, cell_df in trace_df.groupby(level='mouse', axis=1):\n",
    "        print(mouse) #Output Tracking\n",
    "        #Shape Behavior Data\n",
    "        soundPulses = findPulses(behav_df.loc[:,mouse])\n",
    "        sound_on_inds = behav_df.index[soundPulses == 1]\n",
    "        if sound_on_inds[-1]+after_sound_time > trace_df.loc[:,mouse].shape[0]: #Get rid of last pulse on at end of recording\n",
    "            sound_on_inds = sound_on_inds[:-1]\n",
    "        #Setup Numpy Arrays for Faster Loops\n",
    "        cur_block = np.zeros((tot_block_time, sound_on_inds.shape[0], cell_df.shape[1]))\n",
    "        cur_noBlock = cell_df.copy()\n",
    "        cur_blockDrop = []\n",
    "        for trial_idx, spot in enumerate(sound_on_inds):\n",
    "            cur_block[:, trial_idx, :] = cell_df.loc[(spot-before_sound_time):(spot+after_sound_time), :].values\n",
    "            cur_blockDrop.append(range((spot-before_sound_time), (spot+after_sound_time)))\n",
    "        #Drop Indexes from Current Values and Save Dataframe\n",
    "        flat_blockDrop = [value for sublist in cur_blockDrop for value in sublist]\n",
    "        trace_noBlocks.append(cur_noBlock.drop(flat_blockDrop).reset_index(drop=True))\n",
    "        #Make DataFrame for Current Cell Case\n",
    "        mIdx = pd.MultiIndex.from_product([[mouse], range(sound_on_inds.shape[0]), range(cell_df.shape[1])], names=['mouse', 'trial', 'cell_num'])\n",
    "        cur_df = pd.DataFrame(data=cur_block.reshape(tot_block_time,-1), columns=mIdx)\n",
    "        trace_blocks.append(cur_df)\n",
    "    #Convert Lists into Concatenated DataFrame\n",
    "    trace_noBlocks_df = pd.concat(trace_noBlocks, axis=1)\n",
    "    trace_blocks_df = pd.concat(trace_blocks, axis=1)\n",
    "    trace_blocks_df.index.name = 'Time'\n",
    "    return trace_blocks_df, trace_noBlocks_df"
   ]
  },
  {
   "cell_type": "markdown",
   "metadata": {},
   "source": [
    "## Function to match cells"
   ]
  },
  {
   "cell_type": "code",
   "execution_count": 38,
   "metadata": {},
   "outputs": [],
   "source": [
    "def loadMatchedIndexes(files):\n",
    "    #Function to load matched cell indexes and output them in a DataFrame\n",
    "    allInds=[]\n",
    "    for f in files:\n",
    "        name = f.split('/')[-2]\n",
    "        if ('d5' in name):\n",
    "            f_open = h5py.File(f,'r')\n",
    "            mIdx = pd.MultiIndex.from_tuples([(name,'lastTraining')], names=['mouse','session'])\n",
    "            cellIndexes = pd.DataFrame(data=np.array(f_open['lastTraining_d5_s1_index']), columns=mIdx)\n",
    "            cellIndexes[name,'firstExtinction'] = np.array(f_open['firstExtinction_d5_s2_index'])\n",
    "            allInds.append(cellIndexes)\n",
    "    return pd.concat(allInds, axis=1)"
   ]
  },
  {
   "cell_type": "code",
   "execution_count": 39,
   "metadata": {},
   "outputs": [],
   "source": [
    "def matchDF(traces, match_df):\n",
    "    #Function to compare match values in a dataframe and output only those matched in appropriate sessions\n",
    "    #Includes re-sorting to ensure column match at cell-level\n",
    "    mice = traces.columns.unique('mouse')\n",
    "    matchedInds=[]\n",
    "    for mouse in mice:\n",
    "        print(mouse)\n",
    "        if ('d5' in mouse): #If a d5 Session with Matching\n",
    "            match_sess = match_df[mouse].dropna()\n",
    "            if ('s1' in mouse):\n",
    "                search_col = 'firstExtinction'\n",
    "                sel_col = 'lastTraining'\n",
    "                sel_inds = (match_sess.loc[(match_sess[search_col] != -1), sel_col] - 1).values.astype(int)\n",
    "                trace_sess = traces[mouse]\n",
    "                out_sess = trace_sess.loc[:,sel_inds]\n",
    "            elif ('s2' in mouse):\n",
    "                search_col = 'lastTraining'\n",
    "                sel_col = 'firstExtinction'\n",
    "                #Number Magic because Pandas Dataframes with MultiIndexing doesn't sort correctly... :(\n",
    "                sel_inds_wrongSorting = (match_sess.loc[(match_sess[search_col] != -1), sel_col] - 1).values.astype(int)\n",
    "                sel_inds_toSort = (match_sess.loc[(match_sess[search_col] != -1), search_col] - 1).values.astype(int)\n",
    "                sorting_inds = np.argsort(sel_inds_toSort)\n",
    "                sel_inds = sel_inds_wrongSorting[sorting_inds]\n",
    "                #corr_sorting_multi_cols = pd.MultiIndex.from_product([sel_inds], names=['cell_num'])\n",
    "                trace_sess = traces[mouse]\n",
    "                out_sess = trace_sess.loc[:,sel_inds]\n",
    "            mIdx = pd.MultiIndex.from_product([[mouse],range(sel_inds.shape[0])], names=['mouse','cell_num'])\n",
    "            out_sess.columns = mIdx\n",
    "            matchedInds.append(out_sess)\n",
    "        else: #No d5 Session with Matching\n",
    "            noChange = traces[mouse]\n",
    "            noChange.columns = pd.MultiIndex.from_product([[mouse],noChange.columns], names=['mouse','cell_num'])\n",
    "            matchedInds.append(noChange)\n",
    "    return pd.concat(matchedInds, axis=1)"
   ]
  },
  {
   "cell_type": "code",
   "execution_count": 40,
   "metadata": {},
   "outputs": [],
   "source": [
    "def matchCells(files, traces):\n",
    "    #Function to cell index matches and output a DataFrame with those cell indexes matched\n",
    "    #Load Matched Indexes\n",
    "    matchInds = loadMatchedIndexes(files)\n",
    "    \n",
    "    #Match Indexes and Output\n",
    "    matchedTraces = matchDF(traces, matchInds)\n",
    "        \n",
    "    return matchedTraces, matchInds"
   ]
  },
  {
   "cell_type": "code",
   "execution_count": 41,
   "metadata": {},
   "outputs": [
    {
     "name": "stdout",
     "output_type": "stream",
     "text": [
      "ali24_d5_s1\n",
      "ali24_d5_s2\n",
      "ali25_d5_s1\n",
      "ali25_d5_s2\n",
      "ali26_d5_s1\n",
      "ali26_d5_s2\n"
     ]
    }
   ],
   "source": [
    "aliMatched, aliMatchInds = matchCells(aliFiles, aliTraces)"
   ]
  },
  {
   "cell_type": "code",
   "execution_count": 42,
   "metadata": {},
   "outputs": [
    {
     "data": {
      "text/html": [
       "<div>\n",
       "<style scoped>\n",
       "    .dataframe tbody tr th:only-of-type {\n",
       "        vertical-align: middle;\n",
       "    }\n",
       "\n",
       "    .dataframe tbody tr th {\n",
       "        vertical-align: top;\n",
       "    }\n",
       "\n",
       "    .dataframe thead th {\n",
       "        text-align: right;\n",
       "    }\n",
       "</style>\n",
       "<table border=\"1\" class=\"dataframe\">\n",
       "  <thead>\n",
       "    <tr style=\"text-align: right;\">\n",
       "      <th>cell_num</th>\n",
       "      <th>0</th>\n",
       "      <th>1</th>\n",
       "      <th>2</th>\n",
       "      <th>3</th>\n",
       "      <th>4</th>\n",
       "      <th>5</th>\n",
       "      <th>6</th>\n",
       "      <th>7</th>\n",
       "      <th>8</th>\n",
       "      <th>9</th>\n",
       "      <th>...</th>\n",
       "      <th>311</th>\n",
       "      <th>312</th>\n",
       "      <th>313</th>\n",
       "      <th>314</th>\n",
       "      <th>315</th>\n",
       "      <th>316</th>\n",
       "      <th>317</th>\n",
       "      <th>318</th>\n",
       "      <th>319</th>\n",
       "      <th>320</th>\n",
       "    </tr>\n",
       "    <tr>\n",
       "      <th>Time</th>\n",
       "      <th></th>\n",
       "      <th></th>\n",
       "      <th></th>\n",
       "      <th></th>\n",
       "      <th></th>\n",
       "      <th></th>\n",
       "      <th></th>\n",
       "      <th></th>\n",
       "      <th></th>\n",
       "      <th></th>\n",
       "      <th></th>\n",
       "      <th></th>\n",
       "      <th></th>\n",
       "      <th></th>\n",
       "      <th></th>\n",
       "      <th></th>\n",
       "      <th></th>\n",
       "      <th></th>\n",
       "      <th></th>\n",
       "      <th></th>\n",
       "      <th></th>\n",
       "    </tr>\n",
       "  </thead>\n",
       "  <tbody>\n",
       "    <tr>\n",
       "      <th>0</th>\n",
       "      <td>0.134247</td>\n",
       "      <td>2.560634</td>\n",
       "      <td>0.648526</td>\n",
       "      <td>-0.010525</td>\n",
       "      <td>1.263843</td>\n",
       "      <td>0.883854</td>\n",
       "      <td>-0.097179</td>\n",
       "      <td>0.050932</td>\n",
       "      <td>0.367342</td>\n",
       "      <td>0.271267</td>\n",
       "      <td>...</td>\n",
       "      <td>-0.432709</td>\n",
       "      <td>2.607987</td>\n",
       "      <td>0.818500</td>\n",
       "      <td>-0.457522</td>\n",
       "      <td>1.947966</td>\n",
       "      <td>-0.557557</td>\n",
       "      <td>-0.184207</td>\n",
       "      <td>-0.178068</td>\n",
       "      <td>-0.034590</td>\n",
       "      <td>-0.064788</td>\n",
       "    </tr>\n",
       "    <tr>\n",
       "      <th>1</th>\n",
       "      <td>0.026904</td>\n",
       "      <td>1.694838</td>\n",
       "      <td>0.614711</td>\n",
       "      <td>0.001805</td>\n",
       "      <td>1.029390</td>\n",
       "      <td>0.720393</td>\n",
       "      <td>-0.139837</td>\n",
       "      <td>0.516313</td>\n",
       "      <td>0.213910</td>\n",
       "      <td>0.496811</td>\n",
       "      <td>...</td>\n",
       "      <td>-0.731785</td>\n",
       "      <td>2.447858</td>\n",
       "      <td>0.924479</td>\n",
       "      <td>-0.392479</td>\n",
       "      <td>1.999042</td>\n",
       "      <td>-0.528550</td>\n",
       "      <td>-0.107367</td>\n",
       "      <td>0.020739</td>\n",
       "      <td>0.044920</td>\n",
       "      <td>0.043649</td>\n",
       "    </tr>\n",
       "    <tr>\n",
       "      <th>2</th>\n",
       "      <td>0.118428</td>\n",
       "      <td>1.894202</td>\n",
       "      <td>0.782734</td>\n",
       "      <td>0.315057</td>\n",
       "      <td>0.699401</td>\n",
       "      <td>0.763207</td>\n",
       "      <td>-0.207204</td>\n",
       "      <td>0.333901</td>\n",
       "      <td>0.311776</td>\n",
       "      <td>0.512857</td>\n",
       "      <td>...</td>\n",
       "      <td>-0.373491</td>\n",
       "      <td>2.577815</td>\n",
       "      <td>0.820217</td>\n",
       "      <td>-0.075433</td>\n",
       "      <td>1.889641</td>\n",
       "      <td>-0.635769</td>\n",
       "      <td>-0.271914</td>\n",
       "      <td>-0.073472</td>\n",
       "      <td>-0.064119</td>\n",
       "      <td>-0.019100</td>\n",
       "    </tr>\n",
       "    <tr>\n",
       "      <th>3</th>\n",
       "      <td>-0.007620</td>\n",
       "      <td>1.474720</td>\n",
       "      <td>0.369188</td>\n",
       "      <td>0.119869</td>\n",
       "      <td>0.355084</td>\n",
       "      <td>0.629528</td>\n",
       "      <td>-0.238108</td>\n",
       "      <td>-0.110650</td>\n",
       "      <td>-0.087634</td>\n",
       "      <td>0.324159</td>\n",
       "      <td>...</td>\n",
       "      <td>-0.220021</td>\n",
       "      <td>2.115447</td>\n",
       "      <td>0.773415</td>\n",
       "      <td>-0.061379</td>\n",
       "      <td>1.423951</td>\n",
       "      <td>-0.461160</td>\n",
       "      <td>-0.188779</td>\n",
       "      <td>-0.015428</td>\n",
       "      <td>-0.053141</td>\n",
       "      <td>-0.062171</td>\n",
       "    </tr>\n",
       "    <tr>\n",
       "      <th>4</th>\n",
       "      <td>0.352272</td>\n",
       "      <td>2.110743</td>\n",
       "      <td>0.501358</td>\n",
       "      <td>0.196372</td>\n",
       "      <td>0.612778</td>\n",
       "      <td>0.781227</td>\n",
       "      <td>-0.111757</td>\n",
       "      <td>-0.188460</td>\n",
       "      <td>0.473016</td>\n",
       "      <td>0.436990</td>\n",
       "      <td>...</td>\n",
       "      <td>-0.062958</td>\n",
       "      <td>2.089172</td>\n",
       "      <td>0.797337</td>\n",
       "      <td>0.273510</td>\n",
       "      <td>1.135293</td>\n",
       "      <td>-0.469409</td>\n",
       "      <td>-0.267668</td>\n",
       "      <td>0.294436</td>\n",
       "      <td>0.016269</td>\n",
       "      <td>-0.171535</td>\n",
       "    </tr>\n",
       "    <tr>\n",
       "      <th>...</th>\n",
       "      <td>...</td>\n",
       "      <td>...</td>\n",
       "      <td>...</td>\n",
       "      <td>...</td>\n",
       "      <td>...</td>\n",
       "      <td>...</td>\n",
       "      <td>...</td>\n",
       "      <td>...</td>\n",
       "      <td>...</td>\n",
       "      <td>...</td>\n",
       "      <td>...</td>\n",
       "      <td>...</td>\n",
       "      <td>...</td>\n",
       "      <td>...</td>\n",
       "      <td>...</td>\n",
       "      <td>...</td>\n",
       "      <td>...</td>\n",
       "      <td>...</td>\n",
       "      <td>...</td>\n",
       "      <td>...</td>\n",
       "      <td>...</td>\n",
       "    </tr>\n",
       "    <tr>\n",
       "      <th>26477</th>\n",
       "      <td>-0.234812</td>\n",
       "      <td>2.832761</td>\n",
       "      <td>0.319006</td>\n",
       "      <td>0.232698</td>\n",
       "      <td>0.549048</td>\n",
       "      <td>-0.474531</td>\n",
       "      <td>-0.207775</td>\n",
       "      <td>-0.566180</td>\n",
       "      <td>-0.408151</td>\n",
       "      <td>0.273293</td>\n",
       "      <td>...</td>\n",
       "      <td>0.621530</td>\n",
       "      <td>-1.219931</td>\n",
       "      <td>-0.815103</td>\n",
       "      <td>-0.873928</td>\n",
       "      <td>-1.389977</td>\n",
       "      <td>0.313987</td>\n",
       "      <td>-0.038933</td>\n",
       "      <td>0.486957</td>\n",
       "      <td>0.062265</td>\n",
       "      <td>2.504184</td>\n",
       "    </tr>\n",
       "    <tr>\n",
       "      <th>26478</th>\n",
       "      <td>-0.153354</td>\n",
       "      <td>2.853344</td>\n",
       "      <td>0.204058</td>\n",
       "      <td>0.146408</td>\n",
       "      <td>0.665331</td>\n",
       "      <td>-0.794330</td>\n",
       "      <td>-0.278018</td>\n",
       "      <td>-0.207080</td>\n",
       "      <td>-0.317338</td>\n",
       "      <td>0.187191</td>\n",
       "      <td>...</td>\n",
       "      <td>0.649858</td>\n",
       "      <td>-1.545909</td>\n",
       "      <td>-0.850827</td>\n",
       "      <td>-1.125449</td>\n",
       "      <td>-1.444812</td>\n",
       "      <td>0.296799</td>\n",
       "      <td>-0.153601</td>\n",
       "      <td>0.178629</td>\n",
       "      <td>0.166806</td>\n",
       "      <td>2.284881</td>\n",
       "    </tr>\n",
       "    <tr>\n",
       "      <th>26479</th>\n",
       "      <td>-0.138794</td>\n",
       "      <td>3.008380</td>\n",
       "      <td>0.341852</td>\n",
       "      <td>0.214725</td>\n",
       "      <td>0.622193</td>\n",
       "      <td>-0.896566</td>\n",
       "      <td>-0.272724</td>\n",
       "      <td>-0.376924</td>\n",
       "      <td>-0.300546</td>\n",
       "      <td>0.171462</td>\n",
       "      <td>...</td>\n",
       "      <td>0.548290</td>\n",
       "      <td>-1.455468</td>\n",
       "      <td>-0.894209</td>\n",
       "      <td>-0.782700</td>\n",
       "      <td>-1.263288</td>\n",
       "      <td>0.275779</td>\n",
       "      <td>-0.117846</td>\n",
       "      <td>0.323920</td>\n",
       "      <td>0.150866</td>\n",
       "      <td>2.460256</td>\n",
       "    </tr>\n",
       "    <tr>\n",
       "      <th>26480</th>\n",
       "      <td>-0.136290</td>\n",
       "      <td>2.672342</td>\n",
       "      <td>0.063163</td>\n",
       "      <td>0.179449</td>\n",
       "      <td>0.542604</td>\n",
       "      <td>-0.893162</td>\n",
       "      <td>-0.195765</td>\n",
       "      <td>-0.293273</td>\n",
       "      <td>-0.524704</td>\n",
       "      <td>0.288852</td>\n",
       "      <td>...</td>\n",
       "      <td>0.555935</td>\n",
       "      <td>-1.490353</td>\n",
       "      <td>-1.063435</td>\n",
       "      <td>-1.231206</td>\n",
       "      <td>-0.908329</td>\n",
       "      <td>0.352009</td>\n",
       "      <td>0.016224</td>\n",
       "      <td>-0.152298</td>\n",
       "      <td>-0.021373</td>\n",
       "      <td>2.143723</td>\n",
       "    </tr>\n",
       "    <tr>\n",
       "      <th>26481</th>\n",
       "      <td>-0.359421</td>\n",
       "      <td>2.482719</td>\n",
       "      <td>0.334731</td>\n",
       "      <td>0.225794</td>\n",
       "      <td>0.966381</td>\n",
       "      <td>-0.734828</td>\n",
       "      <td>-0.104436</td>\n",
       "      <td>-0.223133</td>\n",
       "      <td>-0.100770</td>\n",
       "      <td>0.303338</td>\n",
       "      <td>...</td>\n",
       "      <td>0.379342</td>\n",
       "      <td>-1.522041</td>\n",
       "      <td>-0.711056</td>\n",
       "      <td>-0.689076</td>\n",
       "      <td>-1.202724</td>\n",
       "      <td>0.222462</td>\n",
       "      <td>-0.079842</td>\n",
       "      <td>0.251764</td>\n",
       "      <td>0.060860</td>\n",
       "      <td>2.212505</td>\n",
       "    </tr>\n",
       "  </tbody>\n",
       "</table>\n",
       "<p>26482 rows × 321 columns</p>\n",
       "</div>"
      ],
      "text/plain": [
       "cell_num       0         1         2         3         4         5    \\\n",
       "Time                                                                   \n",
       "0         0.134247  2.560634  0.648526 -0.010525  1.263843  0.883854   \n",
       "1         0.026904  1.694838  0.614711  0.001805  1.029390  0.720393   \n",
       "2         0.118428  1.894202  0.782734  0.315057  0.699401  0.763207   \n",
       "3        -0.007620  1.474720  0.369188  0.119869  0.355084  0.629528   \n",
       "4         0.352272  2.110743  0.501358  0.196372  0.612778  0.781227   \n",
       "...            ...       ...       ...       ...       ...       ...   \n",
       "26477    -0.234812  2.832761  0.319006  0.232698  0.549048 -0.474531   \n",
       "26478    -0.153354  2.853344  0.204058  0.146408  0.665331 -0.794330   \n",
       "26479    -0.138794  3.008380  0.341852  0.214725  0.622193 -0.896566   \n",
       "26480    -0.136290  2.672342  0.063163  0.179449  0.542604 -0.893162   \n",
       "26481    -0.359421  2.482719  0.334731  0.225794  0.966381 -0.734828   \n",
       "\n",
       "cell_num       6         7         8         9    ...       311       312  \\\n",
       "Time                                              ...                       \n",
       "0        -0.097179  0.050932  0.367342  0.271267  ... -0.432709  2.607987   \n",
       "1        -0.139837  0.516313  0.213910  0.496811  ... -0.731785  2.447858   \n",
       "2        -0.207204  0.333901  0.311776  0.512857  ... -0.373491  2.577815   \n",
       "3        -0.238108 -0.110650 -0.087634  0.324159  ... -0.220021  2.115447   \n",
       "4        -0.111757 -0.188460  0.473016  0.436990  ... -0.062958  2.089172   \n",
       "...            ...       ...       ...       ...  ...       ...       ...   \n",
       "26477    -0.207775 -0.566180 -0.408151  0.273293  ...  0.621530 -1.219931   \n",
       "26478    -0.278018 -0.207080 -0.317338  0.187191  ...  0.649858 -1.545909   \n",
       "26479    -0.272724 -0.376924 -0.300546  0.171462  ...  0.548290 -1.455468   \n",
       "26480    -0.195765 -0.293273 -0.524704  0.288852  ...  0.555935 -1.490353   \n",
       "26481    -0.104436 -0.223133 -0.100770  0.303338  ...  0.379342 -1.522041   \n",
       "\n",
       "cell_num       313       314       315       316       317       318  \\\n",
       "Time                                                                   \n",
       "0         0.818500 -0.457522  1.947966 -0.557557 -0.184207 -0.178068   \n",
       "1         0.924479 -0.392479  1.999042 -0.528550 -0.107367  0.020739   \n",
       "2         0.820217 -0.075433  1.889641 -0.635769 -0.271914 -0.073472   \n",
       "3         0.773415 -0.061379  1.423951 -0.461160 -0.188779 -0.015428   \n",
       "4         0.797337  0.273510  1.135293 -0.469409 -0.267668  0.294436   \n",
       "...            ...       ...       ...       ...       ...       ...   \n",
       "26477    -0.815103 -0.873928 -1.389977  0.313987 -0.038933  0.486957   \n",
       "26478    -0.850827 -1.125449 -1.444812  0.296799 -0.153601  0.178629   \n",
       "26479    -0.894209 -0.782700 -1.263288  0.275779 -0.117846  0.323920   \n",
       "26480    -1.063435 -1.231206 -0.908329  0.352009  0.016224 -0.152298   \n",
       "26481    -0.711056 -0.689076 -1.202724  0.222462 -0.079842  0.251764   \n",
       "\n",
       "cell_num       319       320  \n",
       "Time                          \n",
       "0        -0.034590 -0.064788  \n",
       "1         0.044920  0.043649  \n",
       "2        -0.064119 -0.019100  \n",
       "3        -0.053141 -0.062171  \n",
       "4         0.016269 -0.171535  \n",
       "...            ...       ...  \n",
       "26477     0.062265  2.504184  \n",
       "26478     0.166806  2.284881  \n",
       "26479     0.150866  2.460256  \n",
       "26480    -0.021373  2.143723  \n",
       "26481     0.060860  2.212505  \n",
       "\n",
       "[26482 rows x 321 columns]"
      ]
     },
     "execution_count": 42,
     "metadata": {},
     "output_type": "execute_result"
    }
   ],
   "source": [
    "aliMatched['ali24_d5_s2']"
   ]
  },
  {
   "cell_type": "markdown",
   "metadata": {},
   "source": [
    "## Loading binary traces after event detection ( event onsets as 1)"
   ]
  },
  {
   "cell_type": "code",
   "execution_count": 199,
   "metadata": {},
   "outputs": [
    {
     "name": "stdout",
     "output_type": "stream",
     "text": [
      "['/home/hanlabadmins/eng_handata/Kyle_Hansen/AliEyeBlink/ali24_d5_s1/binary_traces_final.h5', '/home/hanlabadmins/eng_handata/Kyle_Hansen/AliEyeBlink/ali24_d5_s2/binary_traces_final.h5', '/home/hanlabadmins/eng_handata/Kyle_Hansen/AliEyeBlink/ali25_d5_s1/binary_traces_final.h5', '/home/hanlabadmins/eng_handata/Kyle_Hansen/AliEyeBlink/ali25_d5_s2/binary_traces_final.h5', '/home/hanlabadmins/eng_handata/Kyle_Hansen/AliEyeBlink/ali26_d5_s1/binary_traces_final.h5', '/home/hanlabadmins/eng_handata/Kyle_Hansen/AliEyeBlink/ali26_d5_s2/binary_traces_final.h5', '/home/hanlabadmins/eng_handata/eng_research_handata2/Kyle_Hansen/TonePuff-Rebecca/2982/2982_d9_s1/binary_traces_final.h5', '/home/hanlabadmins/eng_handata/eng_research_handata2/Kyle_Hansen/TonePuff-Rebecca/4540/4540_d9_s1/binary_traces_final.h5', '/home/hanlabadmins/eng_handata/eng_research_handata2/Kyle_Hansen/TonePuff_Rebecca2/2712/2712_d5_s1/binary_traces_final.h5', '/home/hanlabadmins/eng_handata/eng_research_handata2/Kyle_Hansen/TonePuff_Rebecca2/2713/2713_d5_s1/binary_traces_final.h5', '/home/hanlabadmins/eng_handata/eng_research_handata2/Kyle_Hansen/TonePuff_Rebecca2/2714/2714_d5_s1/binary_traces_final.h5', '/home/hanlabadmins/eng_handata/eng_research_handata2/Kyle_Hansen/TonePuff_Rebecca2/8089/8089_d5_s1/binary_traces_final.h5']\n"
     ]
    }
   ],
   "source": [
    "#Initialize Input Values\n",
    "#Ali Mice\n",
    "aliBase = '/home/hanlabadmins/eng_handata/Kyle_Hansen/AliEyeBlink/'\n",
    "aliMice, aliDays, aliSessions = ([24,25,26], [5], [1,2])\n",
    "aliFolders, aliFilenames = makeAliFilenames_modified(aliMice, aliDays, aliSessions)\n",
    "bin_aliFiles = combineFilenames(aliBase, aliFolders, aliFilenames)\n",
    "#Rebecca Mice\n",
    "rBase = '/home/hanlabadmins/eng_handata/eng_research_handata2/Kyle_Hansen/TonePuff-Rebecca/'\n",
    "rMice, rDays, rSessions = ([2982,4540], [9], [1])\n",
    "rFolders, rFilenames = makeRebeccaFilenames_modified(rMice, rDays, rSessions)\n",
    "bin_rFiles = combineFilenames(rBase, rFolders, rFilenames)\n",
    "#New Rebecca Mice\n",
    "nrBase = '/home/hanlabadmins/eng_handata/eng_research_handata2/Kyle_Hansen/TonePuff_Rebecca2/'\n",
    "nrMice, nrDays, nrSessions = ([2712, 2713,2714,8089], [5], [1]) #Also have 2 as full imaging session.  Drop 2714 because of data quality\n",
    "nrFolders, nrFilenames = makeRebeccaFilenames_modified(nrMice, nrDays, nrSessions)\n",
    "bin_nrFiles = combineFilenames(nrBase, nrFolders, nrFilenames)\n",
    "#Combine All Filenames into one List\n",
    "bin_allFiles = bin_aliFiles + bin_rFiles + bin_nrFiles\n",
    "print(bin_allFiles)"
   ]
  },
  {
   "cell_type": "code",
   "execution_count": 200,
   "metadata": {},
   "outputs": [],
   "source": [
    "def loadbinaryTraces(files, whichData):\n",
    "    #Load all the trace data and normalize traces with baseline adjustments\n",
    "    #Load and doughnut subtract traces\n",
    "    binTraces = loadFiles(files, 'onset_binary_trace', whichData=whichData, multiIndex=True)\n",
    "    \n",
    "    return binTraces"
   ]
  },
  {
   "cell_type": "code",
   "execution_count": 201,
   "metadata": {},
   "outputs": [],
   "source": [
    "ali_binary_traces=loadbinaryTraces(bin_aliFiles, 'Ali')\n",
    "r_binary_traces=loadbinaryTraces(bin_rFiles, 'Rebecca')\n",
    "nr_binary_traces=loadbinaryTraces(bin_nrFiles, 'Rebecca')"
   ]
  },
  {
   "cell_type": "markdown",
   "metadata": {},
   "source": [
    "#### Check"
   ]
  },
  {
   "cell_type": "code",
   "execution_count": 202,
   "metadata": {},
   "outputs": [
    {
     "data": {
      "text/plain": [
       "array([0., 1.])"
      ]
     },
     "execution_count": 202,
     "metadata": {},
     "output_type": "execute_result"
    }
   ],
   "source": [
    "np.unique(ali_binary_traces['ali24_d5_s2'])"
   ]
  },
  {
   "cell_type": "code",
   "execution_count": 203,
   "metadata": {},
   "outputs": [
    {
     "data": {
      "text/html": [
       "<div>\n",
       "<style scoped>\n",
       "    .dataframe tbody tr th:only-of-type {\n",
       "        vertical-align: middle;\n",
       "    }\n",
       "\n",
       "    .dataframe tbody tr th {\n",
       "        vertical-align: top;\n",
       "    }\n",
       "\n",
       "    .dataframe thead th {\n",
       "        text-align: right;\n",
       "    }\n",
       "</style>\n",
       "<table border=\"1\" class=\"dataframe\">\n",
       "  <thead>\n",
       "    <tr style=\"text-align: right;\">\n",
       "      <th>cell_num</th>\n",
       "      <th>0</th>\n",
       "      <th>1</th>\n",
       "      <th>2</th>\n",
       "      <th>3</th>\n",
       "      <th>4</th>\n",
       "      <th>5</th>\n",
       "      <th>6</th>\n",
       "      <th>7</th>\n",
       "      <th>8</th>\n",
       "      <th>9</th>\n",
       "      <th>...</th>\n",
       "      <th>311</th>\n",
       "      <th>312</th>\n",
       "      <th>313</th>\n",
       "      <th>314</th>\n",
       "      <th>315</th>\n",
       "      <th>316</th>\n",
       "      <th>317</th>\n",
       "      <th>318</th>\n",
       "      <th>319</th>\n",
       "      <th>320</th>\n",
       "    </tr>\n",
       "    <tr>\n",
       "      <th>Time</th>\n",
       "      <th></th>\n",
       "      <th></th>\n",
       "      <th></th>\n",
       "      <th></th>\n",
       "      <th></th>\n",
       "      <th></th>\n",
       "      <th></th>\n",
       "      <th></th>\n",
       "      <th></th>\n",
       "      <th></th>\n",
       "      <th></th>\n",
       "      <th></th>\n",
       "      <th></th>\n",
       "      <th></th>\n",
       "      <th></th>\n",
       "      <th></th>\n",
       "      <th></th>\n",
       "      <th></th>\n",
       "      <th></th>\n",
       "      <th></th>\n",
       "      <th></th>\n",
       "    </tr>\n",
       "  </thead>\n",
       "  <tbody>\n",
       "    <tr>\n",
       "      <th>0</th>\n",
       "      <td>0.0</td>\n",
       "      <td>0.0</td>\n",
       "      <td>0.0</td>\n",
       "      <td>0.0</td>\n",
       "      <td>0.0</td>\n",
       "      <td>0.0</td>\n",
       "      <td>0.0</td>\n",
       "      <td>0.0</td>\n",
       "      <td>0.0</td>\n",
       "      <td>0.0</td>\n",
       "      <td>...</td>\n",
       "      <td>0.0</td>\n",
       "      <td>0.0</td>\n",
       "      <td>0.0</td>\n",
       "      <td>0.0</td>\n",
       "      <td>0.0</td>\n",
       "      <td>0.0</td>\n",
       "      <td>0.0</td>\n",
       "      <td>0.0</td>\n",
       "      <td>0.0</td>\n",
       "      <td>0.0</td>\n",
       "    </tr>\n",
       "    <tr>\n",
       "      <th>1</th>\n",
       "      <td>0.0</td>\n",
       "      <td>0.0</td>\n",
       "      <td>0.0</td>\n",
       "      <td>0.0</td>\n",
       "      <td>0.0</td>\n",
       "      <td>0.0</td>\n",
       "      <td>0.0</td>\n",
       "      <td>0.0</td>\n",
       "      <td>0.0</td>\n",
       "      <td>0.0</td>\n",
       "      <td>...</td>\n",
       "      <td>0.0</td>\n",
       "      <td>0.0</td>\n",
       "      <td>0.0</td>\n",
       "      <td>0.0</td>\n",
       "      <td>0.0</td>\n",
       "      <td>0.0</td>\n",
       "      <td>0.0</td>\n",
       "      <td>0.0</td>\n",
       "      <td>0.0</td>\n",
       "      <td>0.0</td>\n",
       "    </tr>\n",
       "    <tr>\n",
       "      <th>2</th>\n",
       "      <td>0.0</td>\n",
       "      <td>0.0</td>\n",
       "      <td>0.0</td>\n",
       "      <td>0.0</td>\n",
       "      <td>0.0</td>\n",
       "      <td>0.0</td>\n",
       "      <td>0.0</td>\n",
       "      <td>0.0</td>\n",
       "      <td>0.0</td>\n",
       "      <td>0.0</td>\n",
       "      <td>...</td>\n",
       "      <td>0.0</td>\n",
       "      <td>0.0</td>\n",
       "      <td>0.0</td>\n",
       "      <td>0.0</td>\n",
       "      <td>0.0</td>\n",
       "      <td>0.0</td>\n",
       "      <td>0.0</td>\n",
       "      <td>0.0</td>\n",
       "      <td>0.0</td>\n",
       "      <td>0.0</td>\n",
       "    </tr>\n",
       "    <tr>\n",
       "      <th>3</th>\n",
       "      <td>0.0</td>\n",
       "      <td>0.0</td>\n",
       "      <td>0.0</td>\n",
       "      <td>0.0</td>\n",
       "      <td>0.0</td>\n",
       "      <td>0.0</td>\n",
       "      <td>0.0</td>\n",
       "      <td>0.0</td>\n",
       "      <td>0.0</td>\n",
       "      <td>0.0</td>\n",
       "      <td>...</td>\n",
       "      <td>0.0</td>\n",
       "      <td>0.0</td>\n",
       "      <td>0.0</td>\n",
       "      <td>0.0</td>\n",
       "      <td>0.0</td>\n",
       "      <td>0.0</td>\n",
       "      <td>0.0</td>\n",
       "      <td>0.0</td>\n",
       "      <td>0.0</td>\n",
       "      <td>0.0</td>\n",
       "    </tr>\n",
       "    <tr>\n",
       "      <th>4</th>\n",
       "      <td>0.0</td>\n",
       "      <td>0.0</td>\n",
       "      <td>0.0</td>\n",
       "      <td>0.0</td>\n",
       "      <td>0.0</td>\n",
       "      <td>0.0</td>\n",
       "      <td>0.0</td>\n",
       "      <td>0.0</td>\n",
       "      <td>0.0</td>\n",
       "      <td>0.0</td>\n",
       "      <td>...</td>\n",
       "      <td>0.0</td>\n",
       "      <td>0.0</td>\n",
       "      <td>0.0</td>\n",
       "      <td>0.0</td>\n",
       "      <td>0.0</td>\n",
       "      <td>0.0</td>\n",
       "      <td>0.0</td>\n",
       "      <td>0.0</td>\n",
       "      <td>0.0</td>\n",
       "      <td>0.0</td>\n",
       "    </tr>\n",
       "    <tr>\n",
       "      <th>...</th>\n",
       "      <td>...</td>\n",
       "      <td>...</td>\n",
       "      <td>...</td>\n",
       "      <td>...</td>\n",
       "      <td>...</td>\n",
       "      <td>...</td>\n",
       "      <td>...</td>\n",
       "      <td>...</td>\n",
       "      <td>...</td>\n",
       "      <td>...</td>\n",
       "      <td>...</td>\n",
       "      <td>...</td>\n",
       "      <td>...</td>\n",
       "      <td>...</td>\n",
       "      <td>...</td>\n",
       "      <td>...</td>\n",
       "      <td>...</td>\n",
       "      <td>...</td>\n",
       "      <td>...</td>\n",
       "      <td>...</td>\n",
       "      <td>...</td>\n",
       "    </tr>\n",
       "    <tr>\n",
       "      <th>26477</th>\n",
       "      <td>0.0</td>\n",
       "      <td>0.0</td>\n",
       "      <td>0.0</td>\n",
       "      <td>0.0</td>\n",
       "      <td>0.0</td>\n",
       "      <td>0.0</td>\n",
       "      <td>0.0</td>\n",
       "      <td>0.0</td>\n",
       "      <td>0.0</td>\n",
       "      <td>0.0</td>\n",
       "      <td>...</td>\n",
       "      <td>0.0</td>\n",
       "      <td>0.0</td>\n",
       "      <td>0.0</td>\n",
       "      <td>0.0</td>\n",
       "      <td>0.0</td>\n",
       "      <td>0.0</td>\n",
       "      <td>0.0</td>\n",
       "      <td>0.0</td>\n",
       "      <td>0.0</td>\n",
       "      <td>0.0</td>\n",
       "    </tr>\n",
       "    <tr>\n",
       "      <th>26478</th>\n",
       "      <td>0.0</td>\n",
       "      <td>0.0</td>\n",
       "      <td>0.0</td>\n",
       "      <td>0.0</td>\n",
       "      <td>0.0</td>\n",
       "      <td>0.0</td>\n",
       "      <td>0.0</td>\n",
       "      <td>0.0</td>\n",
       "      <td>0.0</td>\n",
       "      <td>0.0</td>\n",
       "      <td>...</td>\n",
       "      <td>0.0</td>\n",
       "      <td>0.0</td>\n",
       "      <td>0.0</td>\n",
       "      <td>0.0</td>\n",
       "      <td>0.0</td>\n",
       "      <td>0.0</td>\n",
       "      <td>0.0</td>\n",
       "      <td>0.0</td>\n",
       "      <td>0.0</td>\n",
       "      <td>0.0</td>\n",
       "    </tr>\n",
       "    <tr>\n",
       "      <th>26479</th>\n",
       "      <td>0.0</td>\n",
       "      <td>0.0</td>\n",
       "      <td>0.0</td>\n",
       "      <td>0.0</td>\n",
       "      <td>0.0</td>\n",
       "      <td>0.0</td>\n",
       "      <td>0.0</td>\n",
       "      <td>0.0</td>\n",
       "      <td>0.0</td>\n",
       "      <td>0.0</td>\n",
       "      <td>...</td>\n",
       "      <td>0.0</td>\n",
       "      <td>0.0</td>\n",
       "      <td>0.0</td>\n",
       "      <td>0.0</td>\n",
       "      <td>0.0</td>\n",
       "      <td>0.0</td>\n",
       "      <td>0.0</td>\n",
       "      <td>0.0</td>\n",
       "      <td>0.0</td>\n",
       "      <td>0.0</td>\n",
       "    </tr>\n",
       "    <tr>\n",
       "      <th>26480</th>\n",
       "      <td>0.0</td>\n",
       "      <td>0.0</td>\n",
       "      <td>0.0</td>\n",
       "      <td>0.0</td>\n",
       "      <td>0.0</td>\n",
       "      <td>0.0</td>\n",
       "      <td>0.0</td>\n",
       "      <td>0.0</td>\n",
       "      <td>0.0</td>\n",
       "      <td>0.0</td>\n",
       "      <td>...</td>\n",
       "      <td>0.0</td>\n",
       "      <td>0.0</td>\n",
       "      <td>0.0</td>\n",
       "      <td>0.0</td>\n",
       "      <td>0.0</td>\n",
       "      <td>0.0</td>\n",
       "      <td>0.0</td>\n",
       "      <td>0.0</td>\n",
       "      <td>0.0</td>\n",
       "      <td>0.0</td>\n",
       "    </tr>\n",
       "    <tr>\n",
       "      <th>26481</th>\n",
       "      <td>0.0</td>\n",
       "      <td>0.0</td>\n",
       "      <td>0.0</td>\n",
       "      <td>0.0</td>\n",
       "      <td>0.0</td>\n",
       "      <td>0.0</td>\n",
       "      <td>0.0</td>\n",
       "      <td>0.0</td>\n",
       "      <td>0.0</td>\n",
       "      <td>0.0</td>\n",
       "      <td>...</td>\n",
       "      <td>0.0</td>\n",
       "      <td>0.0</td>\n",
       "      <td>0.0</td>\n",
       "      <td>0.0</td>\n",
       "      <td>0.0</td>\n",
       "      <td>0.0</td>\n",
       "      <td>0.0</td>\n",
       "      <td>0.0</td>\n",
       "      <td>0.0</td>\n",
       "      <td>0.0</td>\n",
       "    </tr>\n",
       "  </tbody>\n",
       "</table>\n",
       "<p>26482 rows × 321 columns</p>\n",
       "</div>"
      ],
      "text/plain": [
       "cell_num  0    1    2    3    4    5    6    7    8    9    ...  311  312  \\\n",
       "Time                                                        ...             \n",
       "0         0.0  0.0  0.0  0.0  0.0  0.0  0.0  0.0  0.0  0.0  ...  0.0  0.0   \n",
       "1         0.0  0.0  0.0  0.0  0.0  0.0  0.0  0.0  0.0  0.0  ...  0.0  0.0   \n",
       "2         0.0  0.0  0.0  0.0  0.0  0.0  0.0  0.0  0.0  0.0  ...  0.0  0.0   \n",
       "3         0.0  0.0  0.0  0.0  0.0  0.0  0.0  0.0  0.0  0.0  ...  0.0  0.0   \n",
       "4         0.0  0.0  0.0  0.0  0.0  0.0  0.0  0.0  0.0  0.0  ...  0.0  0.0   \n",
       "...       ...  ...  ...  ...  ...  ...  ...  ...  ...  ...  ...  ...  ...   \n",
       "26477     0.0  0.0  0.0  0.0  0.0  0.0  0.0  0.0  0.0  0.0  ...  0.0  0.0   \n",
       "26478     0.0  0.0  0.0  0.0  0.0  0.0  0.0  0.0  0.0  0.0  ...  0.0  0.0   \n",
       "26479     0.0  0.0  0.0  0.0  0.0  0.0  0.0  0.0  0.0  0.0  ...  0.0  0.0   \n",
       "26480     0.0  0.0  0.0  0.0  0.0  0.0  0.0  0.0  0.0  0.0  ...  0.0  0.0   \n",
       "26481     0.0  0.0  0.0  0.0  0.0  0.0  0.0  0.0  0.0  0.0  ...  0.0  0.0   \n",
       "\n",
       "cell_num  313  314  315  316  317  318  319  320  \n",
       "Time                                              \n",
       "0         0.0  0.0  0.0  0.0  0.0  0.0  0.0  0.0  \n",
       "1         0.0  0.0  0.0  0.0  0.0  0.0  0.0  0.0  \n",
       "2         0.0  0.0  0.0  0.0  0.0  0.0  0.0  0.0  \n",
       "3         0.0  0.0  0.0  0.0  0.0  0.0  0.0  0.0  \n",
       "4         0.0  0.0  0.0  0.0  0.0  0.0  0.0  0.0  \n",
       "...       ...  ...  ...  ...  ...  ...  ...  ...  \n",
       "26477     0.0  0.0  0.0  0.0  0.0  0.0  0.0  0.0  \n",
       "26478     0.0  0.0  0.0  0.0  0.0  0.0  0.0  0.0  \n",
       "26479     0.0  0.0  0.0  0.0  0.0  0.0  0.0  0.0  \n",
       "26480     0.0  0.0  0.0  0.0  0.0  0.0  0.0  0.0  \n",
       "26481     0.0  0.0  0.0  0.0  0.0  0.0  0.0  0.0  \n",
       "\n",
       "[26482 rows x 321 columns]"
      ]
     },
     "execution_count": 203,
     "metadata": {},
     "output_type": "execute_result"
    }
   ],
   "source": [
    "ali_binary_traces['ali24_d5_s2']"
   ]
  },
  {
   "cell_type": "markdown",
   "metadata": {},
   "source": [
    "### Make trial blocks"
   ]
  },
  {
   "cell_type": "code",
   "execution_count": 204,
   "metadata": {},
   "outputs": [
    {
     "name": "stdout",
     "output_type": "stream",
     "text": [
      "Ali Binary Blocks\n",
      "ali24_d5_s1\n",
      "ali24_d5_s2\n",
      "ali25_d5_s1\n",
      "ali25_d5_s2\n",
      "ali26_d5_s1\n",
      "ali26_d5_s2\n",
      "Rebecca Binary Blocks\n",
      "2982_d9_s1\n",
      "4540_d9_s1\n",
      "New Rebecca Binary Blocks\n",
      "2712_d5_s1\n",
      "2713_d5_s1\n",
      "2714_d5_s1\n",
      "8089_d5_s1\n"
     ]
    }
   ],
   "source": [
    "print('Ali Binary Blocks')\n",
    "bin_aliTraceBlocks, bin_aliTraceNoBlocks = makeTraceTrialBlocks(ali_binary_traces, aliSounds)\n",
    "#bin_aliTraceBlocks, bin_aliTraceNoBlocks = makeTraceTrialBlocks(aliMatched, aliSounds)\n",
    "print('Rebecca Binary Blocks')\n",
    "bin_rTraceBlocks, bin_rTraceNoBlocks = makeTraceTrialBlocks(r_binary_traces, rSounds) \n",
    "print('New Rebecca Binary Blocks')\n",
    "bin_nrTraceBlocks, bin_nrTraceNoBlocks = makeTraceTrialBlocks(nr_binary_traces, nrSounds) "
   ]
  },
  {
   "cell_type": "code",
   "execution_count": 205,
   "metadata": {},
   "outputs": [
    {
     "name": "stdout",
     "output_type": "stream",
     "text": [
      "(321,)\n",
      "(200,)\n",
      "(437,)\n",
      "(329,)\n",
      "(341,)\n",
      "(186,)\n",
      "(170,)\n",
      "(243,)\n",
      "(105,)\n"
     ]
    }
   ],
   "source": [
    "print(bin_aliTraceBlocks['ali24_d5_s1'].columns.unique('cell_num').shape)\n",
    "print(bin_aliTraceBlocks['ali25_d5_s1'].columns.unique('cell_num').shape)\n",
    "print(bin_aliTraceBlocks['ali26_d5_s1'].columns.unique('cell_num').shape)\n",
    "print(bin_rTraceBlocks['2982_d9_s1'].columns.unique('cell_num').shape)\n",
    "print(bin_rTraceBlocks['4540_d9_s1'].columns.unique('cell_num').shape)\n",
    "print(bin_nrTraceBlocks['2712_d5_s1'].columns.unique('cell_num').shape)\n",
    "print(bin_nrTraceBlocks['2713_d5_s1'].columns.unique('cell_num').shape)\n",
    "print(bin_nrTraceBlocks['2714_d5_s1'].columns.unique('cell_num').shape)\n",
    "print(bin_nrTraceBlocks['8089_d5_s1'].columns.unique('cell_num').shape)"
   ]
  },
  {
   "cell_type": "code",
   "execution_count": 206,
   "metadata": {},
   "outputs": [
    {
     "data": {
      "text/html": [
       "<div>\n",
       "<style scoped>\n",
       "    .dataframe tbody tr th:only-of-type {\n",
       "        vertical-align: middle;\n",
       "    }\n",
       "\n",
       "    .dataframe tbody tr th {\n",
       "        vertical-align: top;\n",
       "    }\n",
       "\n",
       "    .dataframe thead tr th {\n",
       "        text-align: left;\n",
       "    }\n",
       "\n",
       "    .dataframe thead tr:last-of-type th {\n",
       "        text-align: right;\n",
       "    }\n",
       "</style>\n",
       "<table border=\"1\" class=\"dataframe\">\n",
       "  <thead>\n",
       "    <tr>\n",
       "      <th>trial</th>\n",
       "      <th colspan=\"10\" halign=\"left\">0</th>\n",
       "      <th>...</th>\n",
       "      <th colspan=\"10\" halign=\"left\">39</th>\n",
       "    </tr>\n",
       "    <tr>\n",
       "      <th>cell_num</th>\n",
       "      <th>0</th>\n",
       "      <th>1</th>\n",
       "      <th>2</th>\n",
       "      <th>3</th>\n",
       "      <th>4</th>\n",
       "      <th>5</th>\n",
       "      <th>6</th>\n",
       "      <th>7</th>\n",
       "      <th>8</th>\n",
       "      <th>9</th>\n",
       "      <th>...</th>\n",
       "      <th>311</th>\n",
       "      <th>312</th>\n",
       "      <th>313</th>\n",
       "      <th>314</th>\n",
       "      <th>315</th>\n",
       "      <th>316</th>\n",
       "      <th>317</th>\n",
       "      <th>318</th>\n",
       "      <th>319</th>\n",
       "      <th>320</th>\n",
       "    </tr>\n",
       "    <tr>\n",
       "      <th>Time</th>\n",
       "      <th></th>\n",
       "      <th></th>\n",
       "      <th></th>\n",
       "      <th></th>\n",
       "      <th></th>\n",
       "      <th></th>\n",
       "      <th></th>\n",
       "      <th></th>\n",
       "      <th></th>\n",
       "      <th></th>\n",
       "      <th></th>\n",
       "      <th></th>\n",
       "      <th></th>\n",
       "      <th></th>\n",
       "      <th></th>\n",
       "      <th></th>\n",
       "      <th></th>\n",
       "      <th></th>\n",
       "      <th></th>\n",
       "      <th></th>\n",
       "      <th></th>\n",
       "    </tr>\n",
       "  </thead>\n",
       "  <tbody>\n",
       "    <tr>\n",
       "      <th>0</th>\n",
       "      <td>0.0</td>\n",
       "      <td>0.0</td>\n",
       "      <td>0.0</td>\n",
       "      <td>0.0</td>\n",
       "      <td>0.0</td>\n",
       "      <td>0.0</td>\n",
       "      <td>0.0</td>\n",
       "      <td>0.0</td>\n",
       "      <td>0.0</td>\n",
       "      <td>0.0</td>\n",
       "      <td>...</td>\n",
       "      <td>0.0</td>\n",
       "      <td>0.0</td>\n",
       "      <td>0.0</td>\n",
       "      <td>0.0</td>\n",
       "      <td>0.0</td>\n",
       "      <td>0.0</td>\n",
       "      <td>0.0</td>\n",
       "      <td>0.0</td>\n",
       "      <td>0.0</td>\n",
       "      <td>0.0</td>\n",
       "    </tr>\n",
       "    <tr>\n",
       "      <th>1</th>\n",
       "      <td>0.0</td>\n",
       "      <td>0.0</td>\n",
       "      <td>0.0</td>\n",
       "      <td>0.0</td>\n",
       "      <td>0.0</td>\n",
       "      <td>0.0</td>\n",
       "      <td>0.0</td>\n",
       "      <td>0.0</td>\n",
       "      <td>0.0</td>\n",
       "      <td>0.0</td>\n",
       "      <td>...</td>\n",
       "      <td>0.0</td>\n",
       "      <td>0.0</td>\n",
       "      <td>0.0</td>\n",
       "      <td>0.0</td>\n",
       "      <td>0.0</td>\n",
       "      <td>0.0</td>\n",
       "      <td>0.0</td>\n",
       "      <td>0.0</td>\n",
       "      <td>0.0</td>\n",
       "      <td>0.0</td>\n",
       "    </tr>\n",
       "    <tr>\n",
       "      <th>2</th>\n",
       "      <td>0.0</td>\n",
       "      <td>0.0</td>\n",
       "      <td>0.0</td>\n",
       "      <td>0.0</td>\n",
       "      <td>0.0</td>\n",
       "      <td>0.0</td>\n",
       "      <td>0.0</td>\n",
       "      <td>0.0</td>\n",
       "      <td>0.0</td>\n",
       "      <td>0.0</td>\n",
       "      <td>...</td>\n",
       "      <td>0.0</td>\n",
       "      <td>0.0</td>\n",
       "      <td>0.0</td>\n",
       "      <td>0.0</td>\n",
       "      <td>0.0</td>\n",
       "      <td>1.0</td>\n",
       "      <td>0.0</td>\n",
       "      <td>0.0</td>\n",
       "      <td>0.0</td>\n",
       "      <td>0.0</td>\n",
       "    </tr>\n",
       "    <tr>\n",
       "      <th>3</th>\n",
       "      <td>0.0</td>\n",
       "      <td>0.0</td>\n",
       "      <td>0.0</td>\n",
       "      <td>0.0</td>\n",
       "      <td>0.0</td>\n",
       "      <td>0.0</td>\n",
       "      <td>0.0</td>\n",
       "      <td>0.0</td>\n",
       "      <td>0.0</td>\n",
       "      <td>0.0</td>\n",
       "      <td>...</td>\n",
       "      <td>0.0</td>\n",
       "      <td>0.0</td>\n",
       "      <td>0.0</td>\n",
       "      <td>0.0</td>\n",
       "      <td>0.0</td>\n",
       "      <td>0.0</td>\n",
       "      <td>0.0</td>\n",
       "      <td>0.0</td>\n",
       "      <td>0.0</td>\n",
       "      <td>0.0</td>\n",
       "    </tr>\n",
       "    <tr>\n",
       "      <th>4</th>\n",
       "      <td>0.0</td>\n",
       "      <td>0.0</td>\n",
       "      <td>0.0</td>\n",
       "      <td>0.0</td>\n",
       "      <td>0.0</td>\n",
       "      <td>0.0</td>\n",
       "      <td>0.0</td>\n",
       "      <td>0.0</td>\n",
       "      <td>0.0</td>\n",
       "      <td>0.0</td>\n",
       "      <td>...</td>\n",
       "      <td>0.0</td>\n",
       "      <td>0.0</td>\n",
       "      <td>0.0</td>\n",
       "      <td>0.0</td>\n",
       "      <td>0.0</td>\n",
       "      <td>0.0</td>\n",
       "      <td>0.0</td>\n",
       "      <td>0.0</td>\n",
       "      <td>0.0</td>\n",
       "      <td>0.0</td>\n",
       "    </tr>\n",
       "    <tr>\n",
       "      <th>...</th>\n",
       "      <td>...</td>\n",
       "      <td>...</td>\n",
       "      <td>...</td>\n",
       "      <td>...</td>\n",
       "      <td>...</td>\n",
       "      <td>...</td>\n",
       "      <td>...</td>\n",
       "      <td>...</td>\n",
       "      <td>...</td>\n",
       "      <td>...</td>\n",
       "      <td>...</td>\n",
       "      <td>...</td>\n",
       "      <td>...</td>\n",
       "      <td>...</td>\n",
       "      <td>...</td>\n",
       "      <td>...</td>\n",
       "      <td>...</td>\n",
       "      <td>...</td>\n",
       "      <td>...</td>\n",
       "      <td>...</td>\n",
       "      <td>...</td>\n",
       "    </tr>\n",
       "    <tr>\n",
       "      <th>196</th>\n",
       "      <td>0.0</td>\n",
       "      <td>0.0</td>\n",
       "      <td>0.0</td>\n",
       "      <td>0.0</td>\n",
       "      <td>0.0</td>\n",
       "      <td>0.0</td>\n",
       "      <td>0.0</td>\n",
       "      <td>0.0</td>\n",
       "      <td>0.0</td>\n",
       "      <td>0.0</td>\n",
       "      <td>...</td>\n",
       "      <td>0.0</td>\n",
       "      <td>0.0</td>\n",
       "      <td>0.0</td>\n",
       "      <td>0.0</td>\n",
       "      <td>0.0</td>\n",
       "      <td>0.0</td>\n",
       "      <td>0.0</td>\n",
       "      <td>0.0</td>\n",
       "      <td>0.0</td>\n",
       "      <td>0.0</td>\n",
       "    </tr>\n",
       "    <tr>\n",
       "      <th>197</th>\n",
       "      <td>0.0</td>\n",
       "      <td>0.0</td>\n",
       "      <td>0.0</td>\n",
       "      <td>0.0</td>\n",
       "      <td>0.0</td>\n",
       "      <td>0.0</td>\n",
       "      <td>0.0</td>\n",
       "      <td>0.0</td>\n",
       "      <td>0.0</td>\n",
       "      <td>0.0</td>\n",
       "      <td>...</td>\n",
       "      <td>0.0</td>\n",
       "      <td>0.0</td>\n",
       "      <td>0.0</td>\n",
       "      <td>0.0</td>\n",
       "      <td>0.0</td>\n",
       "      <td>0.0</td>\n",
       "      <td>0.0</td>\n",
       "      <td>0.0</td>\n",
       "      <td>0.0</td>\n",
       "      <td>0.0</td>\n",
       "    </tr>\n",
       "    <tr>\n",
       "      <th>198</th>\n",
       "      <td>0.0</td>\n",
       "      <td>0.0</td>\n",
       "      <td>0.0</td>\n",
       "      <td>0.0</td>\n",
       "      <td>0.0</td>\n",
       "      <td>0.0</td>\n",
       "      <td>0.0</td>\n",
       "      <td>0.0</td>\n",
       "      <td>0.0</td>\n",
       "      <td>0.0</td>\n",
       "      <td>...</td>\n",
       "      <td>0.0</td>\n",
       "      <td>0.0</td>\n",
       "      <td>0.0</td>\n",
       "      <td>0.0</td>\n",
       "      <td>0.0</td>\n",
       "      <td>0.0</td>\n",
       "      <td>0.0</td>\n",
       "      <td>0.0</td>\n",
       "      <td>0.0</td>\n",
       "      <td>0.0</td>\n",
       "    </tr>\n",
       "    <tr>\n",
       "      <th>199</th>\n",
       "      <td>0.0</td>\n",
       "      <td>0.0</td>\n",
       "      <td>0.0</td>\n",
       "      <td>0.0</td>\n",
       "      <td>0.0</td>\n",
       "      <td>0.0</td>\n",
       "      <td>0.0</td>\n",
       "      <td>0.0</td>\n",
       "      <td>0.0</td>\n",
       "      <td>0.0</td>\n",
       "      <td>...</td>\n",
       "      <td>0.0</td>\n",
       "      <td>0.0</td>\n",
       "      <td>0.0</td>\n",
       "      <td>0.0</td>\n",
       "      <td>0.0</td>\n",
       "      <td>0.0</td>\n",
       "      <td>0.0</td>\n",
       "      <td>0.0</td>\n",
       "      <td>0.0</td>\n",
       "      <td>0.0</td>\n",
       "    </tr>\n",
       "    <tr>\n",
       "      <th>200</th>\n",
       "      <td>0.0</td>\n",
       "      <td>0.0</td>\n",
       "      <td>0.0</td>\n",
       "      <td>0.0</td>\n",
       "      <td>0.0</td>\n",
       "      <td>0.0</td>\n",
       "      <td>0.0</td>\n",
       "      <td>0.0</td>\n",
       "      <td>0.0</td>\n",
       "      <td>0.0</td>\n",
       "      <td>...</td>\n",
       "      <td>0.0</td>\n",
       "      <td>0.0</td>\n",
       "      <td>0.0</td>\n",
       "      <td>0.0</td>\n",
       "      <td>0.0</td>\n",
       "      <td>0.0</td>\n",
       "      <td>0.0</td>\n",
       "      <td>0.0</td>\n",
       "      <td>0.0</td>\n",
       "      <td>0.0</td>\n",
       "    </tr>\n",
       "  </tbody>\n",
       "</table>\n",
       "<p>201 rows × 12840 columns</p>\n",
       "</div>"
      ],
      "text/plain": [
       "trial      0                                                ...   39       \\\n",
       "cell_num  0    1    2    3    4    5    6    7    8    9    ...  311  312   \n",
       "Time                                                        ...             \n",
       "0         0.0  0.0  0.0  0.0  0.0  0.0  0.0  0.0  0.0  0.0  ...  0.0  0.0   \n",
       "1         0.0  0.0  0.0  0.0  0.0  0.0  0.0  0.0  0.0  0.0  ...  0.0  0.0   \n",
       "2         0.0  0.0  0.0  0.0  0.0  0.0  0.0  0.0  0.0  0.0  ...  0.0  0.0   \n",
       "3         0.0  0.0  0.0  0.0  0.0  0.0  0.0  0.0  0.0  0.0  ...  0.0  0.0   \n",
       "4         0.0  0.0  0.0  0.0  0.0  0.0  0.0  0.0  0.0  0.0  ...  0.0  0.0   \n",
       "...       ...  ...  ...  ...  ...  ...  ...  ...  ...  ...  ...  ...  ...   \n",
       "196       0.0  0.0  0.0  0.0  0.0  0.0  0.0  0.0  0.0  0.0  ...  0.0  0.0   \n",
       "197       0.0  0.0  0.0  0.0  0.0  0.0  0.0  0.0  0.0  0.0  ...  0.0  0.0   \n",
       "198       0.0  0.0  0.0  0.0  0.0  0.0  0.0  0.0  0.0  0.0  ...  0.0  0.0   \n",
       "199       0.0  0.0  0.0  0.0  0.0  0.0  0.0  0.0  0.0  0.0  ...  0.0  0.0   \n",
       "200       0.0  0.0  0.0  0.0  0.0  0.0  0.0  0.0  0.0  0.0  ...  0.0  0.0   \n",
       "\n",
       "trial                                             \n",
       "cell_num  313  314  315  316  317  318  319  320  \n",
       "Time                                              \n",
       "0         0.0  0.0  0.0  0.0  0.0  0.0  0.0  0.0  \n",
       "1         0.0  0.0  0.0  0.0  0.0  0.0  0.0  0.0  \n",
       "2         0.0  0.0  0.0  1.0  0.0  0.0  0.0  0.0  \n",
       "3         0.0  0.0  0.0  0.0  0.0  0.0  0.0  0.0  \n",
       "4         0.0  0.0  0.0  0.0  0.0  0.0  0.0  0.0  \n",
       "...       ...  ...  ...  ...  ...  ...  ...  ...  \n",
       "196       0.0  0.0  0.0  0.0  0.0  0.0  0.0  0.0  \n",
       "197       0.0  0.0  0.0  0.0  0.0  0.0  0.0  0.0  \n",
       "198       0.0  0.0  0.0  0.0  0.0  0.0  0.0  0.0  \n",
       "199       0.0  0.0  0.0  0.0  0.0  0.0  0.0  0.0  \n",
       "200       0.0  0.0  0.0  0.0  0.0  0.0  0.0  0.0  \n",
       "\n",
       "[201 rows x 12840 columns]"
      ]
     },
     "execution_count": 206,
     "metadata": {},
     "output_type": "execute_result"
    }
   ],
   "source": [
    "bin_aliTraceBlocks['ali24_d5_s1']"
   ]
  },
  {
   "cell_type": "code",
   "execution_count": 207,
   "metadata": {},
   "outputs": [
    {
     "data": {
      "text/plain": [
       "104183.0"
      ]
     },
     "execution_count": 207,
     "metadata": {},
     "output_type": "execute_result"
    }
   ],
   "source": [
    "n_events_lastday=np.sum(np.sum(bin_aliTraceNoBlocks['ali24_d5_s1']))+np.sum(np.sum(bin_aliTraceNoBlocks['ali25_d5_s1']))+np.sum(np.sum(bin_aliTraceNoBlocks['ali26_d5_s1']))+np.sum(np.sum(bin_aliTraceNoBlocks['ali24_d5_s2']))+np.sum(np.sum(bin_aliTraceNoBlocks['ali25_d5_s2']))+np.sum(np.sum(bin_aliTraceNoBlocks['ali26_d5_s2']))+np.sum(np.sum(bin_rTraceNoBlocks['2982_d9_s1']))+np.sum(np.sum(bin_rTraceNoBlocks['4540_d9_s1']))+np.sum(np.sum(bin_nrTraceNoBlocks['2712_d5_s1']))+np.sum(np.sum(bin_nrTraceNoBlocks['2713_d5_s1']))+np.sum(np.sum(bin_nrTraceNoBlocks['2714_d5_s1']))+np.sum(np.sum(bin_nrTraceNoBlocks['8089_d5_s1']))\n",
    "n_events_lastday"
   ]
  },
  {
   "cell_type": "code",
   "execution_count": 51,
   "metadata": {},
   "outputs": [],
   "source": [
    "# Make a function to output p and its mean \n",
    "def baseline_firing_rate(mouse_df):\n",
    "    cells = mouse_df.columns.unique('cell_num')\n",
    "    Ncells = cells.shape[0]\n",
    "    out= np.zeros((Ncells,1))\n",
    "    for cell in cells:\n",
    "        out[cell]=np.array(np.where(mouse_df.loc[:,cell]==1)).size\n",
    "    # Time in seconds    \n",
    "    t= mouse_df.shape[0]/20  \n",
    "    p=out/t*20\n",
    "    return p,np.mean(p)"
   ]
  },
  {
   "cell_type": "code",
   "execution_count": 52,
   "metadata": {},
   "outputs": [],
   "source": [
    "def plot_prob_histogram(data):\n",
    "    n_bins= np.arange(min(data), max(data)+0.5, 0.2)\n",
    "    plt.hist(data,n_bins,align='left')\n",
    "    plt.xlabel('Number of baseline events')\n",
    "    plt.ylabel('Number of cells')\n",
    "    plt.title('Baseline firing rate')\n",
    "    plt.xticks(np.arange(min(data),max(data)+0.5,0.5))"
   ]
  },
  {
   "cell_type": "code",
   "execution_count": 53,
   "metadata": {},
   "outputs": [
    {
     "name": "stdout",
     "output_type": "stream",
     "text": [
      "0.5483486332243446\n",
      "0.31807939023936493\n"
     ]
    },
    {
     "data": {
      "image/png": "[encoded data removed]",
      "text/plain": [
       "<Figure size 432x288 with 1 Axes>"
      ]
     },
     "metadata": {
      "needs_background": "light"
     },
     "output_type": "display_data"
    }
   ],
   "source": [
    "p,mean_firing_rate_ali24_CS=baseline_firing_rate(bin_aliTraceNoBlocks['ali24_d5_s1'])\n",
    "print(mean_firing_rate_ali24_CS)\n",
    "print(1.5*np.std(p))\n",
    "plot_prob_histogram(p)"
   ]
  },
  {
   "cell_type": "code",
   "execution_count": 54,
   "metadata": {},
   "outputs": [
    {
     "name": "stdout",
     "output_type": "stream",
     "text": [
      "0.519896263468944\n",
      "0.3008344474047015\n"
     ]
    },
    {
     "data": {
      "image/png": "[encoded data removed]",
      "text/plain": [
       "<Figure size 432x288 with 1 Axes>"
      ]
     },
     "metadata": {
      "needs_background": "light"
     },
     "output_type": "display_data"
    }
   ],
   "source": [
    "p,mean_firing_rate_ali24=baseline_firing_rate(bin_aliTraceNoBlocks['ali24_d5_s2'])\n",
    "print(mean_firing_rate_ali24)\n",
    "print(1.5*np.std(p))\n",
    "plot_prob_histogram(p)"
   ]
  },
  {
   "cell_type": "code",
   "execution_count": 55,
   "metadata": {},
   "outputs": [
    {
     "name": "stdout",
     "output_type": "stream",
     "text": [
      "0.3568877827074992\n",
      "0.29275256063609995\n"
     ]
    },
    {
     "data": {
      "image/png": "[encoded data removed]",
      "text/plain": [
       "<Figure size 432x288 with 1 Axes>"
      ]
     },
     "metadata": {
      "needs_background": "light"
     },
     "output_type": "display_data"
    }
   ],
   "source": [
    "p,mean_firing_rate_ali25_CS=baseline_firing_rate(bin_aliTraceNoBlocks['ali25_d5_s1'])\n",
    "print(mean_firing_rate_ali25_CS)\n",
    "print(1.5*np.std(p))\n",
    "plot_prob_histogram(p)"
   ]
  },
  {
   "cell_type": "code",
   "execution_count": 56,
   "metadata": {},
   "outputs": [
    {
     "name": "stdout",
     "output_type": "stream",
     "text": [
      "0.6474974599567097\n",
      "0.40932634715066607\n"
     ]
    },
    {
     "data": {
      "image/png": "[encoded data removed]",
      "text/plain": [
       "<Figure size 432x288 with 1 Axes>"
      ]
     },
     "metadata": {
      "needs_background": "light"
     },
     "output_type": "display_data"
    }
   ],
   "source": [
    "p,mean_firing_rate_ali26_CS=baseline_firing_rate(bin_aliTraceNoBlocks['ali26_d5_s1'])\n",
    "print(mean_firing_rate_ali26_CS)\n",
    "print(1.5*np.std(p))\n",
    "plot_prob_histogram(p)"
   ]
  },
  {
   "cell_type": "code",
   "execution_count": 57,
   "metadata": {},
   "outputs": [
    {
     "name": "stdout",
     "output_type": "stream",
     "text": [
      "0.5594473611494888\n",
      "0.5052874898219994\n"
     ]
    },
    {
     "data": {
      "image/png": "[encoded data removed]",
      "text/plain": [
       "<Figure size 432x288 with 1 Axes>"
      ]
     },
     "metadata": {
      "needs_background": "light"
     },
     "output_type": "display_data"
    }
   ],
   "source": [
    "p,mean_firing_rate_2982_CS=baseline_firing_rate(bin_rTraceNoBlocks['2982_d9_s1'])\n",
    "print(mean_firing_rate_2982_CS)\n",
    "print(1.5*np.std(p))\n",
    "plot_prob_histogram(p)"
   ]
  },
  {
   "cell_type": "code",
   "execution_count": 58,
   "metadata": {},
   "outputs": [
    {
     "name": "stdout",
     "output_type": "stream",
     "text": [
      "0.5078965609170888\n",
      "0.3107999379142329\n"
     ]
    },
    {
     "data": {
      "image/png": "[encoded data removed]",
      "text/plain": [
       "<Figure size 432x288 with 1 Axes>"
      ]
     },
     "metadata": {
      "needs_background": "light"
     },
     "output_type": "display_data"
    }
   ],
   "source": [
    "p,mean_firing_rate_4540_CS=baseline_firing_rate(bin_rTraceNoBlocks['4540_d9_s1'])\n",
    "print(mean_firing_rate_4540_CS)\n",
    "print(1.5*np.std(p))\n",
    "plot_prob_histogram(p)"
   ]
  },
  {
   "cell_type": "code",
   "execution_count": 59,
   "metadata": {},
   "outputs": [
    {
     "name": "stdout",
     "output_type": "stream",
     "text": [
      "0.8028444436102661\n",
      "0.34162975551101477\n"
     ]
    },
    {
     "data": {
      "image/png": "[encoded data removed]",
      "text/plain": [
       "<Figure size 432x288 with 1 Axes>"
      ]
     },
     "metadata": {
      "needs_background": "light"
     },
     "output_type": "display_data"
    }
   ],
   "source": [
    "p,mean_firing_rate_2712_CS=baseline_firing_rate(bin_nrTraceNoBlocks['2712_d5_s1'])\n",
    "print(mean_firing_rate_2712_CS)\n",
    "print(1.5*np.std(p))\n",
    "plot_prob_histogram(p)"
   ]
  },
  {
   "cell_type": "code",
   "execution_count": 60,
   "metadata": {},
   "outputs": [
    {
     "name": "stdout",
     "output_type": "stream",
     "text": [
      "0.7230209440771108\n",
      "0.35519228501045697\n"
     ]
    },
    {
     "data": {
      "image/png": "[encoded data removed]",
      "text/plain": [
       "<Figure size 432x288 with 1 Axes>"
      ]
     },
     "metadata": {
      "needs_background": "light"
     },
     "output_type": "display_data"
    }
   ],
   "source": [
    "p,mean_firing_rate_2713_CS=baseline_firing_rate(bin_nrTraceNoBlocks['2713_d5_s1'])\n",
    "print(mean_firing_rate_2713_CS)\n",
    "print(1.5*np.std(p))\n",
    "plot_prob_histogram(p)"
   ]
  },
  {
   "cell_type": "code",
   "execution_count": 61,
   "metadata": {},
   "outputs": [
    {
     "name": "stdout",
     "output_type": "stream",
     "text": [
      "0.4486508076537613\n",
      "0.2665663560807462\n"
     ]
    },
    {
     "data": {
      "image/png": "[encoded data removed]",
      "text/plain": [
       "<Figure size 432x288 with 1 Axes>"
      ]
     },
     "metadata": {
      "needs_background": "light"
     },
     "output_type": "display_data"
    }
   ],
   "source": [
    "p,mean_firing_rate_2714_CS=baseline_firing_rate(bin_nrTraceNoBlocks['2714_d5_s1'])\n",
    "print(mean_firing_rate_2714_CS)\n",
    "print(1.5*np.std(p))\n",
    "plot_prob_histogram(p)"
   ]
  },
  {
   "cell_type": "code",
   "execution_count": 62,
   "metadata": {},
   "outputs": [
    {
     "name": "stdout",
     "output_type": "stream",
     "text": [
      "0.6652363116234531\n",
      "0.248870561422956\n"
     ]
    },
    {
     "data": {
      "image/png": "[encoded data removed]",
      "text/plain": [
       "<Figure size 432x288 with 1 Axes>"
      ]
     },
     "metadata": {
      "needs_background": "light"
     },
     "output_type": "display_data"
    }
   ],
   "source": [
    "p,mean_firing_rate_8089_CS=baseline_firing_rate(bin_nrTraceNoBlocks['8089_d5_s1'])\n",
    "print(mean_firing_rate_8089_CS)\n",
    "print(1.5*np.std(p))\n",
    "plot_prob_histogram(p)"
   ]
  },
  {
   "cell_type": "markdown",
   "metadata": {},
   "source": [
    "## First training session "
   ]
  },
  {
   "cell_type": "markdown",
   "metadata": {},
   "source": [
    "### Loading binary traces for first sessions "
   ]
  },
  {
   "cell_type": "code",
   "execution_count": 208,
   "metadata": {},
   "outputs": [],
   "source": [
    "def makeAliFilenames_modified(mouse_numbers, mouse_days, mouse_sessions):\n",
    "    #Input lists of mouse numbers, days, and sessions to permute to give out directories and dictionary for filename\n",
    "    directories = []\n",
    "    filenames = {}\n",
    "    for m_num in mouse_numbers:\n",
    "        for m_day in mouse_days:\n",
    "            for m_sess in mouse_sessions:\n",
    "                if ((m_day != 2) | (m_sess != 2)): #Skip d2_s2.  Only do d5_s2\n",
    "                    mouse_dir = 'ali{}_d{}_s{}/'.format(m_num, m_day, m_sess)\n",
    "                    directories.append(mouse_dir)\n",
    "                    filenames[mouse_dir] = 'binary_traces.h5'\n",
    "                   \n",
    "    return directories, filenames"
   ]
  },
  {
   "cell_type": "code",
   "execution_count": 209,
   "metadata": {},
   "outputs": [],
   "source": [
    "def makeRebeccaFilenames_modified(mouse_numbers, mouse_days, mouse_sessions):\n",
    "    #Input lists of mouse numbers, days, and sessions to permute to give out directories and dictionary for filename\n",
    "    directories = []\n",
    "    filenames = {}\n",
    "    for m_num in mouse_numbers:\n",
    "        for m_day in mouse_days:\n",
    "            for m_sess in mouse_sessions:\n",
    "                mouse_dir = '{}/{}_d{}_s{}/'.format(m_num, m_num, m_day, m_sess)\n",
    "                directories.append(mouse_dir)\n",
    "                filenames[mouse_dir] = 'binary_traces.h5'\n",
    "    return directories, filenames"
   ]
  },
  {
   "cell_type": "code",
   "execution_count": 210,
   "metadata": {},
   "outputs": [
    {
     "name": "stdout",
     "output_type": "stream",
     "text": [
      "['/home/hanlabadmins/eng_handata/Kyle_Hansen/AliEyeBlink/ali24_d2_s1/binary_traces.h5', '/home/hanlabadmins/eng_handata/Kyle_Hansen/AliEyeBlink/ali25_d2_s1/binary_traces.h5', '/home/hanlabadmins/eng_handata/Kyle_Hansen/AliEyeBlink/ali26_d2_s1/binary_traces.h5', '/home/hanlabadmins/eng_handata/eng_research_handata2/Kyle_Hansen/TonePuff-Rebecca/2982/2982_d1_s1/binary_traces.h5', '/home/hanlabadmins/eng_handata/eng_research_handata2/Kyle_Hansen/TonePuff-Rebecca/4540/4540_d1_s1/binary_traces.h5', '/home/hanlabadmins/eng_handata/eng_research_handata2/Kyle_Hansen/TonePuff_Rebecca2/2712/2712_d1_s1/binary_traces.h5', '/home/hanlabadmins/eng_handata/eng_research_handata2/Kyle_Hansen/TonePuff_Rebecca2/2713/2713_d1_s1/binary_traces.h5', '/home/hanlabadmins/eng_handata/eng_research_handata2/Kyle_Hansen/TonePuff_Rebecca2/2714/2714_d1_s1/binary_traces.h5', '/home/hanlabadmins/eng_handata/eng_research_handata2/Kyle_Hansen/TonePuff_Rebecca2/8089/8089_d1_s1/binary_traces.h5']\n"
     ]
    }
   ],
   "source": [
    "#Initialize Input Values\n",
    "#Ali Mice\n",
    "aliBase = '/home/hanlabadmins/eng_handata/Kyle_Hansen/AliEyeBlink/'\n",
    "aliMice, aliDays, aliSessions = ([24,25,26], [2], [1])\n",
    "aliFolders, aliFilenames = makeAliFilenames_modified(aliMice, aliDays, aliSessions)\n",
    "bin_aliFiles = combineFilenames(aliBase, aliFolders, aliFilenames)\n",
    "#Rebecca Mice\n",
    "rBase = '/home/hanlabadmins/eng_handata/eng_research_handata2/Kyle_Hansen/TonePuff-Rebecca/'\n",
    "rMice, rDays, rSessions = ([2982,4540], [1], [1])\n",
    "rFolders, rFilenames = makeRebeccaFilenames_modified(rMice, rDays, rSessions)\n",
    "bin_rFiles = combineFilenames(rBase, rFolders, rFilenames)\n",
    "#New Rebecca Mice\n",
    "nrBase = '/home/hanlabadmins/eng_handata/eng_research_handata2/Kyle_Hansen/TonePuff_Rebecca2/'\n",
    "nrMice, nrDays, nrSessions = ([2712,2713,2714,8089], [1], [1]) #Also have 2 as full imaging session.  Drop 2714 because of data quality\n",
    "nrFolders, nrFilenames = makeRebeccaFilenames_modified(nrMice, nrDays, nrSessions)\n",
    "bin_nrFiles = combineFilenames(nrBase, nrFolders, nrFilenames)\n",
    "#Combine All Filenames into one List\n",
    "bin_allFiles = bin_aliFiles + bin_rFiles + bin_nrFiles\n",
    "print(bin_allFiles)"
   ]
  },
  {
   "cell_type": "code",
   "execution_count": 211,
   "metadata": {},
   "outputs": [],
   "source": [
    "first_ali_binary_traces=loadbinaryTraces(bin_aliFiles, 'Ali')\n",
    "first_r_binary_traces=loadbinaryTraces(bin_rFiles, 'Rebecca')\n",
    "first_nr_binary_traces=loadbinaryTraces(bin_nrFiles, 'Rebecca')"
   ]
  },
  {
   "cell_type": "code",
   "execution_count": 212,
   "metadata": {},
   "outputs": [
    {
     "data": {
      "text/html": [
       "<div>\n",
       "<style scoped>\n",
       "    .dataframe tbody tr th:only-of-type {\n",
       "        vertical-align: middle;\n",
       "    }\n",
       "\n",
       "    .dataframe tbody tr th {\n",
       "        vertical-align: top;\n",
       "    }\n",
       "\n",
       "    .dataframe thead tr th {\n",
       "        text-align: left;\n",
       "    }\n",
       "\n",
       "    .dataframe thead tr:last-of-type th {\n",
       "        text-align: right;\n",
       "    }\n",
       "</style>\n",
       "<table border=\"1\" class=\"dataframe\">\n",
       "  <thead>\n",
       "    <tr>\n",
       "      <th>mouse</th>\n",
       "      <th colspan=\"10\" halign=\"left\">ali24_d2_s1</th>\n",
       "      <th>...</th>\n",
       "      <th colspan=\"10\" halign=\"left\">ali26_d2_s1</th>\n",
       "    </tr>\n",
       "    <tr>\n",
       "      <th>cell_num</th>\n",
       "      <th>0</th>\n",
       "      <th>1</th>\n",
       "      <th>2</th>\n",
       "      <th>3</th>\n",
       "      <th>4</th>\n",
       "      <th>5</th>\n",
       "      <th>6</th>\n",
       "      <th>7</th>\n",
       "      <th>8</th>\n",
       "      <th>9</th>\n",
       "      <th>...</th>\n",
       "      <th>746</th>\n",
       "      <th>747</th>\n",
       "      <th>748</th>\n",
       "      <th>749</th>\n",
       "      <th>750</th>\n",
       "      <th>751</th>\n",
       "      <th>752</th>\n",
       "      <th>753</th>\n",
       "      <th>754</th>\n",
       "      <th>755</th>\n",
       "    </tr>\n",
       "    <tr>\n",
       "      <th>Time</th>\n",
       "      <th></th>\n",
       "      <th></th>\n",
       "      <th></th>\n",
       "      <th></th>\n",
       "      <th></th>\n",
       "      <th></th>\n",
       "      <th></th>\n",
       "      <th></th>\n",
       "      <th></th>\n",
       "      <th></th>\n",
       "      <th></th>\n",
       "      <th></th>\n",
       "      <th></th>\n",
       "      <th></th>\n",
       "      <th></th>\n",
       "      <th></th>\n",
       "      <th></th>\n",
       "      <th></th>\n",
       "      <th></th>\n",
       "      <th></th>\n",
       "      <th></th>\n",
       "    </tr>\n",
       "  </thead>\n",
       "  <tbody>\n",
       "    <tr>\n",
       "      <th>0</th>\n",
       "      <td>0.0</td>\n",
       "      <td>0.0</td>\n",
       "      <td>0.0</td>\n",
       "      <td>0.0</td>\n",
       "      <td>0.0</td>\n",
       "      <td>0.0</td>\n",
       "      <td>0.0</td>\n",
       "      <td>0.0</td>\n",
       "      <td>0.0</td>\n",
       "      <td>0.0</td>\n",
       "      <td>...</td>\n",
       "      <td>0.0</td>\n",
       "      <td>0.0</td>\n",
       "      <td>0.0</td>\n",
       "      <td>0.0</td>\n",
       "      <td>0.0</td>\n",
       "      <td>0.0</td>\n",
       "      <td>0.0</td>\n",
       "      <td>0.0</td>\n",
       "      <td>0.0</td>\n",
       "      <td>0.0</td>\n",
       "    </tr>\n",
       "    <tr>\n",
       "      <th>1</th>\n",
       "      <td>0.0</td>\n",
       "      <td>0.0</td>\n",
       "      <td>0.0</td>\n",
       "      <td>0.0</td>\n",
       "      <td>0.0</td>\n",
       "      <td>0.0</td>\n",
       "      <td>0.0</td>\n",
       "      <td>0.0</td>\n",
       "      <td>0.0</td>\n",
       "      <td>0.0</td>\n",
       "      <td>...</td>\n",
       "      <td>0.0</td>\n",
       "      <td>0.0</td>\n",
       "      <td>0.0</td>\n",
       "      <td>0.0</td>\n",
       "      <td>0.0</td>\n",
       "      <td>0.0</td>\n",
       "      <td>0.0</td>\n",
       "      <td>0.0</td>\n",
       "      <td>0.0</td>\n",
       "      <td>0.0</td>\n",
       "    </tr>\n",
       "    <tr>\n",
       "      <th>2</th>\n",
       "      <td>0.0</td>\n",
       "      <td>0.0</td>\n",
       "      <td>0.0</td>\n",
       "      <td>0.0</td>\n",
       "      <td>0.0</td>\n",
       "      <td>0.0</td>\n",
       "      <td>0.0</td>\n",
       "      <td>0.0</td>\n",
       "      <td>0.0</td>\n",
       "      <td>0.0</td>\n",
       "      <td>...</td>\n",
       "      <td>0.0</td>\n",
       "      <td>0.0</td>\n",
       "      <td>0.0</td>\n",
       "      <td>0.0</td>\n",
       "      <td>0.0</td>\n",
       "      <td>0.0</td>\n",
       "      <td>0.0</td>\n",
       "      <td>0.0</td>\n",
       "      <td>0.0</td>\n",
       "      <td>0.0</td>\n",
       "    </tr>\n",
       "    <tr>\n",
       "      <th>3</th>\n",
       "      <td>0.0</td>\n",
       "      <td>0.0</td>\n",
       "      <td>0.0</td>\n",
       "      <td>0.0</td>\n",
       "      <td>0.0</td>\n",
       "      <td>0.0</td>\n",
       "      <td>0.0</td>\n",
       "      <td>0.0</td>\n",
       "      <td>0.0</td>\n",
       "      <td>0.0</td>\n",
       "      <td>...</td>\n",
       "      <td>0.0</td>\n",
       "      <td>0.0</td>\n",
       "      <td>0.0</td>\n",
       "      <td>0.0</td>\n",
       "      <td>0.0</td>\n",
       "      <td>0.0</td>\n",
       "      <td>0.0</td>\n",
       "      <td>0.0</td>\n",
       "      <td>0.0</td>\n",
       "      <td>0.0</td>\n",
       "    </tr>\n",
       "    <tr>\n",
       "      <th>4</th>\n",
       "      <td>0.0</td>\n",
       "      <td>0.0</td>\n",
       "      <td>0.0</td>\n",
       "      <td>0.0</td>\n",
       "      <td>0.0</td>\n",
       "      <td>0.0</td>\n",
       "      <td>0.0</td>\n",
       "      <td>0.0</td>\n",
       "      <td>0.0</td>\n",
       "      <td>0.0</td>\n",
       "      <td>...</td>\n",
       "      <td>0.0</td>\n",
       "      <td>0.0</td>\n",
       "      <td>0.0</td>\n",
       "      <td>0.0</td>\n",
       "      <td>0.0</td>\n",
       "      <td>0.0</td>\n",
       "      <td>0.0</td>\n",
       "      <td>0.0</td>\n",
       "      <td>0.0</td>\n",
       "      <td>0.0</td>\n",
       "    </tr>\n",
       "    <tr>\n",
       "      <th>...</th>\n",
       "      <td>...</td>\n",
       "      <td>...</td>\n",
       "      <td>...</td>\n",
       "      <td>...</td>\n",
       "      <td>...</td>\n",
       "      <td>...</td>\n",
       "      <td>...</td>\n",
       "      <td>...</td>\n",
       "      <td>...</td>\n",
       "      <td>...</td>\n",
       "      <td>...</td>\n",
       "      <td>...</td>\n",
       "      <td>...</td>\n",
       "      <td>...</td>\n",
       "      <td>...</td>\n",
       "      <td>...</td>\n",
       "      <td>...</td>\n",
       "      <td>...</td>\n",
       "      <td>...</td>\n",
       "      <td>...</td>\n",
       "      <td>...</td>\n",
       "    </tr>\n",
       "    <tr>\n",
       "      <th>26477</th>\n",
       "      <td>0.0</td>\n",
       "      <td>0.0</td>\n",
       "      <td>0.0</td>\n",
       "      <td>0.0</td>\n",
       "      <td>0.0</td>\n",
       "      <td>0.0</td>\n",
       "      <td>0.0</td>\n",
       "      <td>0.0</td>\n",
       "      <td>0.0</td>\n",
       "      <td>0.0</td>\n",
       "      <td>...</td>\n",
       "      <td>0.0</td>\n",
       "      <td>0.0</td>\n",
       "      <td>0.0</td>\n",
       "      <td>0.0</td>\n",
       "      <td>0.0</td>\n",
       "      <td>0.0</td>\n",
       "      <td>0.0</td>\n",
       "      <td>0.0</td>\n",
       "      <td>0.0</td>\n",
       "      <td>0.0</td>\n",
       "    </tr>\n",
       "    <tr>\n",
       "      <th>26478</th>\n",
       "      <td>0.0</td>\n",
       "      <td>0.0</td>\n",
       "      <td>0.0</td>\n",
       "      <td>0.0</td>\n",
       "      <td>0.0</td>\n",
       "      <td>0.0</td>\n",
       "      <td>0.0</td>\n",
       "      <td>0.0</td>\n",
       "      <td>0.0</td>\n",
       "      <td>0.0</td>\n",
       "      <td>...</td>\n",
       "      <td>0.0</td>\n",
       "      <td>0.0</td>\n",
       "      <td>0.0</td>\n",
       "      <td>0.0</td>\n",
       "      <td>0.0</td>\n",
       "      <td>0.0</td>\n",
       "      <td>0.0</td>\n",
       "      <td>0.0</td>\n",
       "      <td>0.0</td>\n",
       "      <td>0.0</td>\n",
       "    </tr>\n",
       "    <tr>\n",
       "      <th>26479</th>\n",
       "      <td>0.0</td>\n",
       "      <td>0.0</td>\n",
       "      <td>0.0</td>\n",
       "      <td>0.0</td>\n",
       "      <td>0.0</td>\n",
       "      <td>0.0</td>\n",
       "      <td>0.0</td>\n",
       "      <td>0.0</td>\n",
       "      <td>0.0</td>\n",
       "      <td>0.0</td>\n",
       "      <td>...</td>\n",
       "      <td>0.0</td>\n",
       "      <td>0.0</td>\n",
       "      <td>0.0</td>\n",
       "      <td>0.0</td>\n",
       "      <td>0.0</td>\n",
       "      <td>0.0</td>\n",
       "      <td>0.0</td>\n",
       "      <td>0.0</td>\n",
       "      <td>0.0</td>\n",
       "      <td>0.0</td>\n",
       "    </tr>\n",
       "    <tr>\n",
       "      <th>26480</th>\n",
       "      <td>0.0</td>\n",
       "      <td>0.0</td>\n",
       "      <td>0.0</td>\n",
       "      <td>0.0</td>\n",
       "      <td>0.0</td>\n",
       "      <td>0.0</td>\n",
       "      <td>0.0</td>\n",
       "      <td>0.0</td>\n",
       "      <td>0.0</td>\n",
       "      <td>0.0</td>\n",
       "      <td>...</td>\n",
       "      <td>0.0</td>\n",
       "      <td>0.0</td>\n",
       "      <td>0.0</td>\n",
       "      <td>0.0</td>\n",
       "      <td>0.0</td>\n",
       "      <td>0.0</td>\n",
       "      <td>0.0</td>\n",
       "      <td>0.0</td>\n",
       "      <td>0.0</td>\n",
       "      <td>0.0</td>\n",
       "    </tr>\n",
       "    <tr>\n",
       "      <th>26481</th>\n",
       "      <td>0.0</td>\n",
       "      <td>0.0</td>\n",
       "      <td>0.0</td>\n",
       "      <td>0.0</td>\n",
       "      <td>0.0</td>\n",
       "      <td>0.0</td>\n",
       "      <td>0.0</td>\n",
       "      <td>0.0</td>\n",
       "      <td>0.0</td>\n",
       "      <td>0.0</td>\n",
       "      <td>...</td>\n",
       "      <td>0.0</td>\n",
       "      <td>0.0</td>\n",
       "      <td>0.0</td>\n",
       "      <td>0.0</td>\n",
       "      <td>0.0</td>\n",
       "      <td>0.0</td>\n",
       "      <td>0.0</td>\n",
       "      <td>0.0</td>\n",
       "      <td>0.0</td>\n",
       "      <td>0.0</td>\n",
       "    </tr>\n",
       "  </tbody>\n",
       "</table>\n",
       "<p>26482 rows × 2379 columns</p>\n",
       "</div>"
      ],
      "text/plain": [
       "mouse    ali24_d2_s1                                               ...  \\\n",
       "cell_num         0    1    2    3    4    5    6    7    8    9    ...   \n",
       "Time                                                               ...   \n",
       "0                0.0  0.0  0.0  0.0  0.0  0.0  0.0  0.0  0.0  0.0  ...   \n",
       "1                0.0  0.0  0.0  0.0  0.0  0.0  0.0  0.0  0.0  0.0  ...   \n",
       "2                0.0  0.0  0.0  0.0  0.0  0.0  0.0  0.0  0.0  0.0  ...   \n",
       "3                0.0  0.0  0.0  0.0  0.0  0.0  0.0  0.0  0.0  0.0  ...   \n",
       "4                0.0  0.0  0.0  0.0  0.0  0.0  0.0  0.0  0.0  0.0  ...   \n",
       "...              ...  ...  ...  ...  ...  ...  ...  ...  ...  ...  ...   \n",
       "26477            0.0  0.0  0.0  0.0  0.0  0.0  0.0  0.0  0.0  0.0  ...   \n",
       "26478            0.0  0.0  0.0  0.0  0.0  0.0  0.0  0.0  0.0  0.0  ...   \n",
       "26479            0.0  0.0  0.0  0.0  0.0  0.0  0.0  0.0  0.0  0.0  ...   \n",
       "26480            0.0  0.0  0.0  0.0  0.0  0.0  0.0  0.0  0.0  0.0  ...   \n",
       "26481            0.0  0.0  0.0  0.0  0.0  0.0  0.0  0.0  0.0  0.0  ...   \n",
       "\n",
       "mouse    ali26_d2_s1                                               \n",
       "cell_num         746  747  748  749  750  751  752  753  754  755  \n",
       "Time                                                               \n",
       "0                0.0  0.0  0.0  0.0  0.0  0.0  0.0  0.0  0.0  0.0  \n",
       "1                0.0  0.0  0.0  0.0  0.0  0.0  0.0  0.0  0.0  0.0  \n",
       "2                0.0  0.0  0.0  0.0  0.0  0.0  0.0  0.0  0.0  0.0  \n",
       "3                0.0  0.0  0.0  0.0  0.0  0.0  0.0  0.0  0.0  0.0  \n",
       "4                0.0  0.0  0.0  0.0  0.0  0.0  0.0  0.0  0.0  0.0  \n",
       "...              ...  ...  ...  ...  ...  ...  ...  ...  ...  ...  \n",
       "26477            0.0  0.0  0.0  0.0  0.0  0.0  0.0  0.0  0.0  0.0  \n",
       "26478            0.0  0.0  0.0  0.0  0.0  0.0  0.0  0.0  0.0  0.0  \n",
       "26479            0.0  0.0  0.0  0.0  0.0  0.0  0.0  0.0  0.0  0.0  \n",
       "26480            0.0  0.0  0.0  0.0  0.0  0.0  0.0  0.0  0.0  0.0  \n",
       "26481            0.0  0.0  0.0  0.0  0.0  0.0  0.0  0.0  0.0  0.0  \n",
       "\n",
       "[26482 rows x 2379 columns]"
      ]
     },
     "execution_count": 212,
     "metadata": {},
     "output_type": "execute_result"
    }
   ],
   "source": [
    "first_ali_binary_traces"
   ]
  },
  {
   "cell_type": "code",
   "execution_count": 213,
   "metadata": {},
   "outputs": [
    {
     "name": "stdout",
     "output_type": "stream",
     "text": [
      "Ali Binary Blocks\n",
      "ali24_d2_s1\n",
      "ali25_d2_s1\n",
      "ali26_d2_s1\n",
      "Rebecca Binary Blocks\n",
      "2982_d1_s1\n",
      "4540_d1_s1\n",
      "New Rebecca Binary Blocks\n",
      "2712_d1_s1\n",
      "2713_d1_s1\n",
      "2714_d1_s1\n",
      "8089_d1_s1\n"
     ]
    }
   ],
   "source": [
    "print('Ali Binary Blocks')\n",
    "bin_aliTraceBlocks, bin_aliTraceNoBlocks = makeTraceTrialBlocks(first_ali_binary_traces, aliSounds)\n",
    "#bin_aliTraceBlocks, bin_aliTraceNoBlocks = makeTraceTrialBlocks(aliMatched, aliSounds)\n",
    "print('Rebecca Binary Blocks')\n",
    "bin_rTraceBlocks, bin_rTraceNoBlocks = makeTraceTrialBlocks(first_r_binary_traces, rSounds) \n",
    "print('New Rebecca Binary Blocks')\n",
    "bin_nrTraceBlocks, bin_nrTraceNoBlocks = makeTraceTrialBlocks(first_nr_binary_traces, nrSounds) "
   ]
  },
  {
   "cell_type": "code",
   "execution_count": 214,
   "metadata": {},
   "outputs": [
    {
     "name": "stdout",
     "output_type": "stream",
     "text": [
      "(862,)\n",
      "(761,)\n",
      "(756,)\n",
      "(115,)\n",
      "(187,)\n",
      "(113,)\n",
      "(143,)\n",
      "(234,)\n",
      "(70,)\n"
     ]
    }
   ],
   "source": [
    "print(bin_aliTraceBlocks['ali24_d2_s1'].columns.unique('cell_num').shape)\n",
    "print(bin_aliTraceBlocks['ali25_d2_s1'].columns.unique('cell_num').shape)\n",
    "print(bin_aliTraceBlocks['ali26_d2_s1'].columns.unique('cell_num').shape)\n",
    "print(bin_rTraceBlocks['2982_d1_s1'].columns.unique('cell_num').shape)\n",
    "print(bin_rTraceBlocks['4540_d1_s1'].columns.unique('cell_num').shape)\n",
    "print(bin_nrTraceBlocks['2712_d1_s1'].columns.unique('cell_num').shape)\n",
    "print(bin_nrTraceBlocks['2713_d1_s1'].columns.unique('cell_num').shape)\n",
    "print(bin_nrTraceBlocks['2714_d1_s1'].columns.unique('cell_num').shape)\n",
    "print(bin_nrTraceBlocks['8089_d1_s1'].columns.unique('cell_num').shape)"
   ]
  },
  {
   "cell_type": "code",
   "execution_count": 215,
   "metadata": {},
   "outputs": [
    {
     "data": {
      "text/plain": [
       "79320.0"
      ]
     },
     "execution_count": 215,
     "metadata": {},
     "output_type": "execute_result"
    }
   ],
   "source": [
    "n_events_firstday=np.sum(np.sum(bin_aliTraceNoBlocks['ali24_d2_s1']))+np.sum(np.sum(bin_aliTraceNoBlocks['ali25_d2_s1']))+np.sum(np.sum(bin_aliTraceNoBlocks['ali26_d2_s1']))+np.sum(np.sum(bin_rTraceNoBlocks['2982_d1_s1']))+np.sum(np.sum(bin_rTraceNoBlocks['4540_d1_s1']))+np.sum(np.sum(bin_nrTraceNoBlocks['2712_d1_s1']))+np.sum(np.sum(bin_nrTraceNoBlocks['2713_d1_s1']))+np.sum(np.sum(bin_nrTraceNoBlocks['2714_d1_s1']))+np.sum(np.sum(bin_nrTraceNoBlocks['8089_d1_s1']))\n",
    "n_events_firstday"
   ]
  },
  {
   "cell_type": "code",
   "execution_count": 174,
   "metadata": {},
   "outputs": [
    {
     "name": "stdout",
     "output_type": "stream",
     "text": [
      "0.4292632123912624\n",
      "0.2623381718765102\n"
     ]
    },
    {
     "data": {
      "image/png": "[encoded data removed]",
      "text/plain": [
       "<Figure size 432x288 with 1 Axes>"
      ]
     },
     "metadata": {
      "needs_background": "light"
     },
     "output_type": "display_data"
    }
   ],
   "source": [
    "p,mean_firing_rate_ali24_FS=baseline_firing_rate(bin_aliTraceNoBlocks['ali24_d2_s1'])\n",
    "print(mean_firing_rate_ali24_FS)\n",
    "print(1.5*np.std(p))\n",
    "plot_prob_histogram(p)"
   ]
  },
  {
   "cell_type": "code",
   "execution_count": 93,
   "metadata": {},
   "outputs": [
    {
     "name": "stdout",
     "output_type": "stream",
     "text": [
      "0.3720777583644619\n",
      "0.2191603358132384\n"
     ]
    },
    {
     "data": {
      "image/png": "[encoded data removed]",
      "text/plain": [
       "<Figure size 432x288 with 1 Axes>"
      ]
     },
     "metadata": {
      "needs_background": "light"
     },
     "output_type": "display_data"
    }
   ],
   "source": [
    "p,mean_firing_rate_ali25_FS=baseline_firing_rate(bin_aliTraceNoBlocks['ali25_d2_s1'])\n",
    "print(mean_firing_rate_ali25_FS)\n",
    "print(1.5*np.std(p))\n",
    "plot_prob_histogram(p)"
   ]
  },
  {
   "cell_type": "code",
   "execution_count": 94,
   "metadata": {},
   "outputs": [
    {
     "name": "stdout",
     "output_type": "stream",
     "text": [
      "0.4156196018548578\n",
      "0.30518112423134447\n"
     ]
    },
    {
     "data": {
      "image/png": "[encoded data removed]",
      "text/plain": [
       "<Figure size 432x288 with 1 Axes>"
      ]
     },
     "metadata": {
      "needs_background": "light"
     },
     "output_type": "display_data"
    }
   ],
   "source": [
    "p,mean_firing_rate_ali26_FS=baseline_firing_rate(bin_aliTraceNoBlocks['ali26_d2_s1'])\n",
    "print(mean_firing_rate_ali26_FS)\n",
    "print(1.5*np.std(p))\n",
    "plot_prob_histogram(p)"
   ]
  },
  {
   "cell_type": "code",
   "execution_count": 95,
   "metadata": {},
   "outputs": [
    {
     "name": "stdout",
     "output_type": "stream",
     "text": [
      "0.583209486166008\n",
      "0.3861046232276966\n"
     ]
    },
    {
     "data": {
      "image/png": "[encoded data removed]",
      "text/plain": [
       "<Figure size 432x288 with 1 Axes>"
      ]
     },
     "metadata": {
      "needs_background": "light"
     },
     "output_type": "display_data"
    }
   ],
   "source": [
    "p,mean_firing_rate_2982_FS=baseline_firing_rate(bin_rTraceNoBlocks['2982_d1_s1'])\n",
    "print(mean_firing_rate_2982_FS)\n",
    "print(1.5*np.std(p))\n",
    "plot_prob_histogram(p)"
   ]
  },
  {
   "cell_type": "code",
   "execution_count": 96,
   "metadata": {},
   "outputs": [
    {
     "name": "stdout",
     "output_type": "stream",
     "text": [
      "0.5892075838599903\n",
      "0.32040926747720927\n"
     ]
    },
    {
     "data": {
      "image/png": "[encoded data removed]",
      "text/plain": [
       "<Figure size 432x288 with 1 Axes>"
      ]
     },
     "metadata": {
      "needs_background": "light"
     },
     "output_type": "display_data"
    }
   ],
   "source": [
    "p,mean_firing_rate_4540_FS=baseline_firing_rate(bin_rTraceNoBlocks['4540_d1_s1'])\n",
    "print(mean_firing_rate_4540_FS)\n",
    "print(1.5*np.std(p))\n",
    "plot_prob_histogram(p)"
   ]
  },
  {
   "cell_type": "code",
   "execution_count": 97,
   "metadata": {},
   "outputs": [
    {
     "name": "stdout",
     "output_type": "stream",
     "text": [
      "0.8371020410396258\n",
      "0.3143561348250756\n"
     ]
    },
    {
     "data": {
      "image/png": "[encoded data removed]",
      "text/plain": [
       "<Figure size 432x288 with 1 Axes>"
      ]
     },
     "metadata": {
      "needs_background": "light"
     },
     "output_type": "display_data"
    }
   ],
   "source": [
    "p,mean_firing_rate_2712_FS=baseline_firing_rate(bin_nrTraceNoBlocks['2712_d1_s1'])\n",
    "print(mean_firing_rate_2712_FS)\n",
    "print(1.5*np.std(p))\n",
    "plot_prob_histogram(p)"
   ]
  },
  {
   "cell_type": "code",
   "execution_count": 98,
   "metadata": {},
   "outputs": [
    {
     "name": "stdout",
     "output_type": "stream",
     "text": [
      "0.6284271748470446\n",
      "0.31297574643720216\n"
     ]
    },
    {
     "data": {
      "image/png": "[encoded data removed]",
      "text/plain": [
       "<Figure size 432x288 with 1 Axes>"
      ]
     },
     "metadata": {
      "needs_background": "light"
     },
     "output_type": "display_data"
    }
   ],
   "source": [
    "p,mean_firing_rate_2713_FS=baseline_firing_rate(bin_nrTraceNoBlocks['2713_d1_s1'])\n",
    "print(mean_firing_rate_2713_FS)\n",
    "print(1.5*np.std(p))\n",
    "plot_prob_histogram(p)"
   ]
  },
  {
   "cell_type": "code",
   "execution_count": 99,
   "metadata": {},
   "outputs": [
    {
     "name": "stdout",
     "output_type": "stream",
     "text": [
      "0.40461455785649386\n",
      "0.32646647687355607\n"
     ]
    },
    {
     "data": {
      "image/png": "[encoded data removed]",
      "text/plain": [
       "<Figure size 432x288 with 1 Axes>"
      ]
     },
     "metadata": {
      "needs_background": "light"
     },
     "output_type": "display_data"
    }
   ],
   "source": [
    "p,mean_firing_rate_2714_FS=baseline_firing_rate(bin_nrTraceNoBlocks['2714_d1_s1'])\n",
    "print(mean_firing_rate_2714_FS)\n",
    "print(1.5*np.std(p))\n",
    "plot_prob_histogram(p)"
   ]
  },
  {
   "cell_type": "code",
   "execution_count": 100,
   "metadata": {},
   "outputs": [
    {
     "name": "stdout",
     "output_type": "stream",
     "text": [
      "0.6745180344220308\n",
      "0.22905237421158683\n"
     ]
    },
    {
     "data": {
      "image/png": "[encoded data removed]",
      "text/plain": [
       "<Figure size 432x288 with 1 Axes>"
      ]
     },
     "metadata": {
      "needs_background": "light"
     },
     "output_type": "display_data"
    }
   ],
   "source": [
    "p,mean_firing_rate_8089_FS=baseline_firing_rate(bin_nrTraceNoBlocks['8089_d1_s1'])\n",
    "print(mean_firing_rate_8089_FS)\n",
    "print(1.5*np.std(p))\n",
    "plot_prob_histogram(p)"
   ]
  },
  {
   "cell_type": "markdown",
   "metadata": {},
   "source": [
    "## Day before extinction"
   ]
  },
  {
   "cell_type": "code",
   "execution_count": 216,
   "metadata": {},
   "outputs": [],
   "source": [
    "def makeAliFilenames(mouse_numbers, mouse_days, mouse_sessions):\n",
    "    #Input lists of mouse numbers, days, and sessions to permute to give out directories and dictionary for filename\n",
    "    directories = []\n",
    "    filenames = {}\n",
    "    for m_num in mouse_numbers:\n",
    "        for m_day in mouse_days:\n",
    "            for m_sess in mouse_sessions:\n",
    "                if ((m_day != 2) | (m_sess != 2)): #Skip d2_s2.  Only do d5_s2\n",
    "                    mouse_dir = 'ali{}_d{}_s{}/'.format(m_num, m_day, m_sess)\n",
    "                    directories.append(mouse_dir)\n",
    "                    filenames[mouse_dir] = 'trace_matched_final_BinaryVideo.hdf5'\n",
    "                   \n",
    "    return directories, filenames"
   ]
  },
  {
   "cell_type": "code",
   "execution_count": 217,
   "metadata": {},
   "outputs": [],
   "source": [
    "def makeRebeccaFilenames(mouse_numbers, mouse_days, mouse_sessions):\n",
    "    #Input lists of mouse numbers, days, and sessions to permute to give out directories and dictionary for filename\n",
    "    directories = []\n",
    "    filenames = {}\n",
    "    for m_num in mouse_numbers:\n",
    "        for m_day in mouse_days:\n",
    "            for m_sess in mouse_sessions:\n",
    "                mouse_dir = '{}/{}_d{}_s{}/'.format(m_num, m_num, m_day, m_sess)\n",
    "                directories.append(mouse_dir)\n",
    "                filenames[mouse_dir] = 'trace_final_BinaryVideo.hdf5'\n",
    "    return directories, filenames"
   ]
  },
  {
   "cell_type": "code",
   "execution_count": 218,
   "metadata": {},
   "outputs": [],
   "source": [
    "def makeAliFilenames_modified(mouse_numbers, mouse_days, mouse_sessions):\n",
    "    #Input lists of mouse numbers, days, and sessions to permute to give out directories and dictionary for filename\n",
    "    directories = []\n",
    "    filenames = {}\n",
    "    for m_num in mouse_numbers:\n",
    "        for m_day in mouse_days:\n",
    "            for m_sess in mouse_sessions:\n",
    "                if ((m_day != 2) | (m_sess != 2)): #Skip d2_s2.  Only do d5_s2\n",
    "                    mouse_dir = 'ali{}_d{}_s{}/'.format(m_num, m_day, m_sess)\n",
    "                    directories.append(mouse_dir)\n",
    "                    filenames[mouse_dir] = 'binary_traces_final.h5'\n",
    "                   \n",
    "    return directories, filenames"
   ]
  },
  {
   "cell_type": "code",
   "execution_count": 219,
   "metadata": {},
   "outputs": [],
   "source": [
    "def makeRebeccaFilenames_modified(mouse_numbers, mouse_days, mouse_sessions):\n",
    "    #Input lists of mouse numbers, days, and sessions to permute to give out directories and dictionary for filename\n",
    "    directories = []\n",
    "    filenames = {}\n",
    "    for m_num in mouse_numbers:\n",
    "        for m_day in mouse_days:\n",
    "            for m_sess in mouse_sessions:\n",
    "                mouse_dir = '{}/{}_d{}_s{}/'.format(m_num, m_num, m_day, m_sess)\n",
    "                directories.append(mouse_dir)\n",
    "                filenames[mouse_dir] = 'binary_traces_final.h5'\n",
    "    return directories, filenames"
   ]
  },
  {
   "cell_type": "code",
   "execution_count": 220,
   "metadata": {},
   "outputs": [
    {
     "name": "stdout",
     "output_type": "stream",
     "text": [
      "['/home/hanlabadmins/eng_handata/Kyle_Hansen/AliEyeBlink/ali24_d4_s1/binary_traces_final.h5', '/home/hanlabadmins/eng_handata/Kyle_Hansen/AliEyeBlink/ali24_d4_s2/binary_traces_final.h5', '/home/hanlabadmins/eng_handata/Kyle_Hansen/AliEyeBlink/ali25_d4_s1/binary_traces_final.h5', '/home/hanlabadmins/eng_handata/Kyle_Hansen/AliEyeBlink/ali25_d4_s2/binary_traces_final.h5', '/home/hanlabadmins/eng_handata/Kyle_Hansen/AliEyeBlink/ali26_d4_s1/binary_traces_final.h5', '/home/hanlabadmins/eng_handata/Kyle_Hansen/AliEyeBlink/ali26_d4_s2/binary_traces_final.h5', '/home/hanlabadmins/eng_handata/eng_research_handata2/Kyle_Hansen/TonePuff-Rebecca/2982/2982_d8_s1/binary_traces_final.h5', '/home/hanlabadmins/eng_handata/eng_research_handata2/Kyle_Hansen/TonePuff-Rebecca/4540/4540_d8_s1/binary_traces_final.h5', '/home/hanlabadmins/eng_handata/eng_research_handata2/Kyle_Hansen/TonePuff_Rebecca2/2712/2712_d4_s1/binary_traces_final.h5', '/home/hanlabadmins/eng_handata/eng_research_handata2/Kyle_Hansen/TonePuff_Rebecca2/2713/2713_d4_s1/binary_traces_final.h5', '/home/hanlabadmins/eng_handata/eng_research_handata2/Kyle_Hansen/TonePuff_Rebecca2/2714/2714_d4_s1/binary_traces_final.h5', '/home/hanlabadmins/eng_handata/eng_research_handata2/Kyle_Hansen/TonePuff_Rebecca2/8089/8089_d4_s1/binary_traces_final.h5']\n"
     ]
    }
   ],
   "source": [
    "#Initialize Input Values\n",
    "#Ali Mice\n",
    "aliBase = '/home/hanlabadmins/eng_handata/Kyle_Hansen/AliEyeBlink/'\n",
    "aliMice, aliDays, aliSessions = ([24,25,26], [4], [1,2])\n",
    "aliFolders, aliFilenames = makeAliFilenames_modified(aliMice, aliDays, aliSessions)\n",
    "bin_aliFiles = combineFilenames(aliBase, aliFolders, aliFilenames)\n",
    "#Rebecca Mice\n",
    "rBase = '/home/hanlabadmins/eng_handata/eng_research_handata2/Kyle_Hansen/TonePuff-Rebecca/'\n",
    "rMice, rDays, rSessions = ([2982,4540], [8], [1])\n",
    "rFolders, rFilenames = makeRebeccaFilenames_modified(rMice, rDays, rSessions)\n",
    "bin_rFiles = combineFilenames(rBase, rFolders, rFilenames)\n",
    "#New Rebecca Mice\n",
    "nrBase = '/home/hanlabadmins/eng_handata/eng_research_handata2/Kyle_Hansen/TonePuff_Rebecca2/'\n",
    "nrMice, nrDays, nrSessions = ([2712, 2713,2714,8089], [4], [1]) #Also have 2 as full imaging session.  Drop 2714 because of data quality\n",
    "nrFolders, nrFilenames = makeRebeccaFilenames_modified(nrMice, nrDays, nrSessions)\n",
    "bin_nrFiles = combineFilenames(nrBase, nrFolders, nrFilenames)\n",
    "#Combine All Filenames into one List\n",
    "bin_allFiles = bin_aliFiles + bin_rFiles + bin_nrFiles\n",
    "print(bin_allFiles)"
   ]
  },
  {
   "cell_type": "code",
   "execution_count": 221,
   "metadata": {},
   "outputs": [],
   "source": [
    "ali_binary_traces=loadbinaryTraces(bin_aliFiles, 'Ali')\n",
    "r_binary_traces=loadbinaryTraces(bin_rFiles, 'Rebecca')\n",
    "nr_binary_traces=loadbinaryTraces(bin_nrFiles, 'Rebecca')"
   ]
  },
  {
   "cell_type": "code",
   "execution_count": 222,
   "metadata": {},
   "outputs": [
    {
     "name": "stdout",
     "output_type": "stream",
     "text": [
      "['/home/hanlabadmins/eng_handata/Kyle_Hansen/AliEyeBlink/ali24_d4_s1/trace_matched_final_BinaryVideo.hdf5', '/home/hanlabadmins/eng_handata/Kyle_Hansen/AliEyeBlink/ali24_d4_s2/trace_matched_final_BinaryVideo.hdf5', '/home/hanlabadmins/eng_handata/Kyle_Hansen/AliEyeBlink/ali25_d4_s1/trace_matched_final_BinaryVideo.hdf5', '/home/hanlabadmins/eng_handata/Kyle_Hansen/AliEyeBlink/ali25_d4_s2/trace_matched_final_BinaryVideo.hdf5', '/home/hanlabadmins/eng_handata/Kyle_Hansen/AliEyeBlink/ali26_d4_s1/trace_matched_final_BinaryVideo.hdf5', '/home/hanlabadmins/eng_handata/Kyle_Hansen/AliEyeBlink/ali26_d4_s2/trace_matched_final_BinaryVideo.hdf5', '/home/hanlabadmins/eng_handata/eng_research_handata2/Kyle_Hansen/TonePuff-Rebecca/2982/2982_d8_s1/trace_final_BinaryVideo.hdf5', '/home/hanlabadmins/eng_handata/eng_research_handata2/Kyle_Hansen/TonePuff-Rebecca/4540/4540_d8_s1/trace_final_BinaryVideo.hdf5', '/home/hanlabadmins/eng_handata/eng_research_handata2/Kyle_Hansen/TonePuff_Rebecca2/2712/2712_d4_s1/trace_final_BinaryVideo.hdf5', '/home/hanlabadmins/eng_handata/eng_research_handata2/Kyle_Hansen/TonePuff_Rebecca2/2713/2713_d4_s1/trace_final_BinaryVideo.hdf5', '/home/hanlabadmins/eng_handata/eng_research_handata2/Kyle_Hansen/TonePuff_Rebecca2/2714/2714_d4_s1/trace_final_BinaryVideo.hdf5', '/home/hanlabadmins/eng_handata/eng_research_handata2/Kyle_Hansen/TonePuff_Rebecca2/8089/8089_d4_s1/trace_final_BinaryVideo.hdf5']\n"
     ]
    }
   ],
   "source": [
    "#Initialize Input Values\n",
    "#Ali Mice\n",
    "aliBase = '/home/hanlabadmins/eng_handata/Kyle_Hansen/AliEyeBlink/'\n",
    "aliMice, aliDays, aliSessions = ([24,25,26], [4], [1,2])\n",
    "aliFolders, aliFilenames = makeAliFilenames(aliMice, aliDays, aliSessions)\n",
    "aliFiles = combineFilenames(aliBase, aliFolders, aliFilenames)\n",
    "#Rebecca Mice\n",
    "rBase = '/home/hanlabadmins/eng_handata/eng_research_handata2/Kyle_Hansen/TonePuff-Rebecca/'\n",
    "\n",
    "rMice, rDays, rSessions = ([2982,4540], [8], [1])\n",
    "rFolders, rFilenames = makeRebeccaFilenames(rMice, rDays, rSessions)\n",
    "rFiles = combineFilenames(rBase, rFolders, rFilenames)\n",
    "#New Rebecca Mic_\n",
    "nrBase = '/home/hanlabadmins/eng_handata/eng_research_handata2/Kyle_Hansen/TonePuff_Rebecca2/'\n",
    "nrMice, nrDays, nrSessions = ([2712, 2713,2714,8089], [4], [1]) #Also have 2 as full imaging session.  Drop 2714 because of data quality\n",
    "nrFolders, nrFilenames = makeRebeccaFilenames(nrMice, nrDays, nrSessions)\n",
    "nrFiles = combineFilenames(nrBase, nrFolders, nrFilenames)\n",
    "#Combine All Filenames into one List\n",
    "allFiles = aliFiles + rFiles + nrFiles\n",
    "print(allFiles)"
   ]
  },
  {
   "cell_type": "code",
   "execution_count": 223,
   "metadata": {},
   "outputs": [],
   "source": [
    "aliSounds = loadFiles(aliFiles, 'binSounds', whichData='Ali')\n",
    "rSounds = loadFiles(rFiles, 'binSounds', whichData='Rebecca')\n",
    "nrSounds = loadFiles(nrFiles, 'binSounds', whichData='Rebecca', fixedSize=39500)\n",
    "sound_traces = pd.concat([aliSounds,rSounds,nrSounds], axis=1)\n",
    "#sound_traces = pd.concat([rSounds,nrSounds], axis=1)"
   ]
  },
  {
   "cell_type": "code",
   "execution_count": 224,
   "metadata": {},
   "outputs": [
    {
     "name": "stdout",
     "output_type": "stream",
     "text": [
      "Ali Binary Blocks\n",
      "ali24_d4_s1\n",
      "ali24_d4_s2\n",
      "ali25_d4_s1\n",
      "ali25_d4_s2\n",
      "ali26_d4_s1\n",
      "ali26_d4_s2\n",
      "Rebecca Binary Blocks\n",
      "2982_d8_s1\n",
      "4540_d8_s1\n",
      "New Rebecca Binary Blocks\n",
      "2712_d4_s1\n",
      "2713_d4_s1\n",
      "2714_d4_s1\n",
      "8089_d4_s1\n"
     ]
    }
   ],
   "source": [
    "print('Ali Binary Blocks')\n",
    "bin_aliTraceBlocks, bin_aliTraceNoBlocks = makeTraceTrialBlocks(ali_binary_traces, aliSounds) \n",
    "print('Rebecca Binary Blocks')\n",
    "bin_rTraceBlocks, bin_rTraceNoBlocks = makeTraceTrialBlocks(r_binary_traces, rSounds) \n",
    "print('New Rebecca Binary Blocks')\n",
    "bin_nrTraceBlocks, bin_nrTraceNoBlocks = makeTraceTrialBlocks(nr_binary_traces, nrSounds) "
   ]
  },
  {
   "cell_type": "code",
   "execution_count": 225,
   "metadata": {},
   "outputs": [
    {
     "data": {
      "text/plain": [
       "113833.0"
      ]
     },
     "execution_count": 225,
     "metadata": {},
     "output_type": "execute_result"
    }
   ],
   "source": [
    "n_events_lateday=np.sum(np.sum(bin_aliTraceNoBlocks['ali24_d4_s1']))+np.sum(np.sum(bin_aliTraceNoBlocks['ali25_d4_s1']))+np.sum(np.sum(bin_aliTraceNoBlocks['ali26_d4_s1']))+np.sum(np.sum(bin_aliTraceNoBlocks['ali24_d4_s2']))+np.sum(np.sum(bin_aliTraceNoBlocks['ali25_d4_s2']))+np.sum(np.sum(bin_aliTraceNoBlocks['ali26_d4_s2']))+np.sum(np.sum(bin_rTraceNoBlocks['2982_d8_s1']))+np.sum(np.sum(bin_rTraceNoBlocks['4540_d8_s1']))+np.sum(np.sum(bin_nrTraceNoBlocks['2712_d4_s1']))+np.sum(np.sum(bin_nrTraceNoBlocks['2713_d4_s1']))+np.sum(np.sum(bin_nrTraceNoBlocks['2714_d4_s1']))+np.sum(np.sum(bin_nrTraceNoBlocks['8089_d4_s1']))\n",
    "n_events_lateday"
   ]
  },
  {
   "cell_type": "markdown",
   "metadata": {},
   "source": [
    "## Baseline firing rate"
   ]
  },
  {
   "cell_type": "code",
   "execution_count": 110,
   "metadata": {},
   "outputs": [
    {
     "name": "stdout",
     "output_type": "stream",
     "text": [
      "0.46340540171724665\n",
      "0.3443132904875368\n"
     ]
    },
    {
     "data": {
      "image/png": "[encoded data removed]",
      "text/plain": [
       "<Figure size 432x288 with 1 Axes>"
      ]
     },
     "metadata": {
      "needs_background": "light"
     },
     "output_type": "display_data"
    }
   ],
   "source": [
    "p,mean_firing_rate_ali24_DB=baseline_firing_rate(bin_aliTraceNoBlocks['ali24_d4_s1'])\n",
    "print(mean_firing_rate_ali24_DB)\n",
    "print(1.5*np.std(p))\n",
    "plot_prob_histogram(p)"
   ]
  },
  {
   "cell_type": "code",
   "execution_count": 111,
   "metadata": {},
   "outputs": [
    {
     "name": "stdout",
     "output_type": "stream",
     "text": [
      "0.3552232994435681\n",
      "0.3280642139323471\n"
     ]
    },
    {
     "data": {
      "image/png": "[encoded data removed]",
      "text/plain": [
       "<Figure size 432x288 with 1 Axes>"
      ]
     },
     "metadata": {
      "needs_background": "light"
     },
     "output_type": "display_data"
    }
   ],
   "source": [
    "p,mean_firing_rate_ali25_DB=baseline_firing_rate(bin_aliTraceNoBlocks['ali25_d4_s1'])\n",
    "print(mean_firing_rate_ali25_DB)\n",
    "print(1.5*np.std(p))\n",
    "plot_prob_histogram(p)"
   ]
  },
  {
   "cell_type": "code",
   "execution_count": 112,
   "metadata": {},
   "outputs": [
    {
     "name": "stdout",
     "output_type": "stream",
     "text": [
      "0.5888124895808047\n",
      "0.3504081879973942\n"
     ]
    },
    {
     "data": {
      "image/png": "[encoded data removed]",
      "text/plain": [
       "<Figure size 432x288 with 1 Axes>"
      ]
     },
     "metadata": {
      "needs_background": "light"
     },
     "output_type": "display_data"
    }
   ],
   "source": [
    "p,mean_firing_rate_ali26_DB=baseline_firing_rate(bin_aliTraceNoBlocks['ali26_d4_s1'])\n",
    "print(mean_firing_rate_ali26_DB)\n",
    "print(1.5*np.std(p))\n",
    "plot_prob_histogram(p)"
   ]
  },
  {
   "cell_type": "code",
   "execution_count": 113,
   "metadata": {},
   "outputs": [
    {
     "name": "stdout",
     "output_type": "stream",
     "text": [
      "0.6111495116453795\n",
      "0.48890838764187233\n"
     ]
    },
    {
     "data": {
      "image/png": "[encoded data removed]",
      "text/plain": [
       "<Figure size 432x288 with 1 Axes>"
      ]
     },
     "metadata": {
      "needs_background": "light"
     },
     "output_type": "display_data"
    }
   ],
   "source": [
    "p,mean_firing_rate_2982_DB=baseline_firing_rate(bin_rTraceNoBlocks['2982_d8_s1'])\n",
    "print(mean_firing_rate_2982_DB)\n",
    "print(1.5*np.std(p))\n",
    "plot_prob_histogram(p)"
   ]
  },
  {
   "cell_type": "code",
   "execution_count": 114,
   "metadata": {},
   "outputs": [
    {
     "name": "stdout",
     "output_type": "stream",
     "text": [
      "0.5296147919876734\n",
      "0.31050783077817146\n"
     ]
    },
    {
     "data": {
      "image/png": "[encoded data removed]",
      "text/plain": [
       "<Figure size 432x288 with 1 Axes>"
      ]
     },
     "metadata": {
      "needs_background": "light"
     },
     "output_type": "display_data"
    }
   ],
   "source": [
    "p,mean_firing_rate_4540_DB=baseline_firing_rate(bin_rTraceNoBlocks['4540_d8_s1'])\n",
    "print(mean_firing_rate_4540_DB)\n",
    "print(1.5*np.std(p))\n",
    "plot_prob_histogram(p)"
   ]
  },
  {
   "cell_type": "code",
   "execution_count": 115,
   "metadata": {},
   "outputs": [
    {
     "name": "stdout",
     "output_type": "stream",
     "text": [
      "0.7900748663101604\n",
      "0.36902009216227943\n"
     ]
    },
    {
     "data": {
      "image/png": "[encoded data removed]",
      "text/plain": [
       "<Figure size 432x288 with 1 Axes>"
      ]
     },
     "metadata": {
      "needs_background": "light"
     },
     "output_type": "display_data"
    }
   ],
   "source": [
    "p,mean_firing_rate_2712_DB=baseline_firing_rate(bin_nrTraceNoBlocks['2712_d4_s1'])\n",
    "print(mean_firing_rate_2712_DB)\n",
    "print(1.5*np.std(p))\n",
    "plot_prob_histogram(p)"
   ]
  },
  {
   "cell_type": "code",
   "execution_count": 116,
   "metadata": {},
   "outputs": [
    {
     "name": "stdout",
     "output_type": "stream",
     "text": [
      "0.7033981191222571\n",
      "0.3391274959301994\n"
     ]
    },
    {
     "data": {
      "image/png": "[encoded data removed]",
      "text/plain": [
       "<Figure size 432x288 with 1 Axes>"
      ]
     },
     "metadata": {
      "needs_background": "light"
     },
     "output_type": "display_data"
    }
   ],
   "source": [
    "p,mean_firing_rate_2713_DB=baseline_firing_rate(bin_nrTraceNoBlocks['2713_d4_s1'])\n",
    "print(mean_firing_rate_2713_DB)\n",
    "print(1.5*np.std(p))\n",
    "plot_prob_histogram(p)"
   ]
  },
  {
   "cell_type": "code",
   "execution_count": 117,
   "metadata": {},
   "outputs": [
    {
     "name": "stdout",
     "output_type": "stream",
     "text": [
      "0.44217008797653956\n",
      "0.2875195934527317\n"
     ]
    },
    {
     "data": {
      "image/png": "[encoded data removed]",
      "text/plain": [
       "<Figure size 432x288 with 1 Axes>"
      ]
     },
     "metadata": {
      "needs_background": "light"
     },
     "output_type": "display_data"
    }
   ],
   "source": [
    "p,mean_firing_rate_2714_DB=baseline_firing_rate(bin_nrTraceNoBlocks['2714_d4_s1'])\n",
    "print(mean_firing_rate_2714_DB)\n",
    "print(1.5*np.std(p))\n",
    "plot_prob_histogram(p)"
   ]
  },
  {
   "cell_type": "code",
   "execution_count": 118,
   "metadata": {},
   "outputs": [
    {
     "name": "stdout",
     "output_type": "stream",
     "text": [
      "0.6967511177347244\n",
      "0.30947000653062384\n"
     ]
    },
    {
     "data": {
      "image/png": "[encoded data removed]",
      "text/plain": [
       "<Figure size 432x288 with 1 Axes>"
      ]
     },
     "metadata": {
      "needs_background": "light"
     },
     "output_type": "display_data"
    }
   ],
   "source": [
    "p,mean_firing_rate_8089_DB=baseline_firing_rate(bin_nrTraceNoBlocks['8089_d4_s1'])\n",
    "print(mean_firing_rate_8089_DB)\n",
    "print(1.5*np.std(p))\n",
    "plot_prob_histogram(p)"
   ]
  },
  {
   "cell_type": "markdown",
   "metadata": {},
   "source": [
    "## Overall baseline firing rate"
   ]
  },
  {
   "cell_type": "code",
   "execution_count": 122,
   "metadata": {},
   "outputs": [],
   "source": [
    "mean_firing_24=np.mean([mean_firing_rate_ali24_FS,mean_firing_rate_ali24_CS,mean_firing_rate_ali24_DB])\n",
    "mean_firing_25=np.mean([mean_firing_rate_ali25_FS,mean_firing_rate_ali25_CS,mean_firing_rate_ali25_DB])\n",
    "mean_firing_26=np.mean([mean_firing_rate_ali26_FS,mean_firing_rate_ali26_CS,mean_firing_rate_ali26_DB])\n"
   ]
  },
  {
   "cell_type": "code",
   "execution_count": 123,
   "metadata": {},
   "outputs": [],
   "source": [
    "mean_firing_2982=np.mean([mean_firing_rate_2982_FS,mean_firing_rate_2982_CS,mean_firing_rate_2982_DB])\n",
    "mean_firing_4540=np.mean([mean_firing_rate_4540_FS,mean_firing_rate_4540_CS,mean_firing_rate_4540_DB])"
   ]
  },
  {
   "cell_type": "code",
   "execution_count": 124,
   "metadata": {},
   "outputs": [],
   "source": [
    "mean_firing_2712=np.mean([mean_firing_rate_2712_FS,mean_firing_rate_2712_CS,mean_firing_rate_2712_DB])\n",
    "mean_firing_2713=np.mean([mean_firing_rate_2713_FS,mean_firing_rate_2713_CS,mean_firing_rate_2713_DB])\n",
    "mean_firing_2714=np.mean([mean_firing_rate_2714_FS,mean_firing_rate_2714_CS,mean_firing_rate_2714_DB])\n",
    "mean_firing_8089=np.mean([mean_firing_rate_8089_FS,mean_firing_rate_8089_CS,mean_firing_rate_8089_DB])\n"
   ]
  },
  {
   "cell_type": "code",
   "execution_count": 125,
   "metadata": {},
   "outputs": [],
   "source": [
    "baseline_firing_rate_list= [mean_firing_24,mean_firing_25,mean_firing_26,mean_firing_2982,mean_firing_4540,mean_firing_2712,mean_firing_2713,mean_firing_2714,mean_firing_8089]"
   ]
  },
  {
   "cell_type": "code",
   "execution_count": 126,
   "metadata": {},
   "outputs": [
    {
     "data": {
      "text/plain": [
       "[1.4410172473328537,\n",
       " 1.0841888405155293,\n",
       " 1.6519295513923722,\n",
       " 1.753806358960876,\n",
       " 1.6267189367647523,\n",
       " 2.430021350960052,\n",
       " 2.0548462380464123,\n",
       " 1.2954354534867947,\n",
       " 2.0365054637802085]"
      ]
     },
     "execution_count": 126,
     "metadata": {},
     "output_type": "execute_result"
    }
   ],
   "source": [
    "## To find event rate/min \n",
    "multiplied_list = [element * 3 for element in baseline_firing_rate_list]\n",
    "multiplied_list"
   ]
  },
  {
   "cell_type": "code",
   "execution_count": 127,
   "metadata": {},
   "outputs": [],
   "source": [
    "mean_baseline_firing_rate = np.mean(multiplied_list)"
   ]
  },
  {
   "cell_type": "code",
   "execution_count": 128,
   "metadata": {},
   "outputs": [
    {
     "data": {
      "text/plain": [
       "1.7082743823599837"
      ]
     },
     "execution_count": 128,
     "metadata": {},
     "output_type": "execute_result"
    }
   ],
   "source": [
    "mean_baseline_firing_rate"
   ]
  },
  {
   "cell_type": "code",
   "execution_count": 129,
   "metadata": {},
   "outputs": [
    {
     "data": {
      "text/plain": [
       "0.3932783426501954"
      ]
     },
     "execution_count": 129,
     "metadata": {},
     "output_type": "execute_result"
    }
   ],
   "source": [
    "np.std(multiplied_list)"
   ]
  },
  {
   "cell_type": "code",
   "execution_count": 131,
   "metadata": {},
   "outputs": [
    {
     "data": {
      "text/plain": [
       "0.0285"
      ]
     },
     "execution_count": 131,
     "metadata": {},
     "output_type": "execute_result"
    }
   ],
   "source": [
    "1.71/60"
   ]
  },
  {
   "cell_type": "code",
   "execution_count": 226,
   "metadata": {},
   "outputs": [
    {
     "data": {
      "text/plain": [
       "297336.0"
      ]
     },
     "execution_count": 226,
     "metadata": {},
     "output_type": "execute_result"
    }
   ],
   "source": [
    "## NUmber of events!! \n",
    "\n",
    "n_events_firstday+n_events_lateday+n_events_lastday"
   ]
  },
  {
   "cell_type": "code",
   "execution_count": null,
   "metadata": {},
   "outputs": [],
   "source": []
  }
 ],
 "metadata": {
  "kernelspec": {
   "display_name": "Python 3",
   "language": "python",
   "name": "python3"
  },
  "language_info": {
   "codemirror_mode": {
    "name": "ipython",
    "version": 3
   },
   "file_extension": ".py",
   "mimetype": "text/x-python",
   "name": "python",
   "nbconvert_exporter": "python",
   "pygments_lexer": "ipython3",
   "version": "3.7.6"
  }
 },
 "nbformat": 4,
 "nbformat_minor": 4
}
